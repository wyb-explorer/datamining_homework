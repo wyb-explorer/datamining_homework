{
 "cells": [
  {
   "cell_type": "markdown",
   "id": "b7c2c951",
   "metadata": {},
   "source": [
    "# Movies Dataset from Pirated Sites"
   ]
  },
  {
   "cell_type": "code",
   "execution_count": 1,
   "id": "83cbf792",
   "metadata": {},
   "outputs": [],
   "source": [
    "import pandas as pd\n",
    "import numpy as np\n",
    "import matplotlib.pyplot as plt"
   ]
  },
  {
   "cell_type": "markdown",
   "id": "8d0f6c8d",
   "metadata": {},
   "source": [
    "## 1.读取数据"
   ]
  },
  {
   "cell_type": "code",
   "execution_count": 2,
   "id": "b717ebd9",
   "metadata": {},
   "outputs": [
    {
     "data": {
      "text/plain": [
       "Index(['Unnamed: 0', 'IMDb-rating', 'appropriate_for', 'director', 'downloads',\n",
       "       'id', 'industry', 'language', 'posted_date', 'release_date', 'run_time',\n",
       "       'storyline', 'title', 'views', 'writer'],\n",
       "      dtype='object')"
      ]
     },
     "execution_count": 2,
     "metadata": {},
     "output_type": "execute_result"
    }
   ],
   "source": [
    "df = pd.read_csv('movies_dataset.csv')\n",
    "df.columns"
   ]
  },
  {
   "cell_type": "markdown",
   "id": "555fb49a",
   "metadata": {},
   "source": [
    "### Columns\n",
    "    id: movie's unique id\n",
    "    title: movie's name\n",
    "    storyline: a short description of the movie\n",
    "    views: no. of clicks per movie\n",
    "    downloads: no. of downloads per movie\n",
    "    IMDb-rating: rating\n",
    "    appropriate_for: R-rated, PG-13, etc\n",
    "    language: this can be multiple languages also\n",
    "    industry: Hollywood, Bollywood, etc.\n",
    "    posted_date: when the movie is posted on the platform\n",
    "    release_date: when the movie is released worldwide\n",
    "    runtime: in minutes\n",
    "    director: director's name\n",
    "    writer: list of all the writers"
   ]
  },
  {
   "cell_type": "markdown",
   "id": "b3ba4a26",
   "metadata": {},
   "source": [
    "有14列有效数据，将columns='Unnamed: 0'去掉"
   ]
  },
  {
   "cell_type": "code",
   "execution_count": 3,
   "id": "5bf1a802",
   "metadata": {},
   "outputs": [],
   "source": [
    "df = df.drop(columns='Unnamed: 0')"
   ]
  },
  {
   "cell_type": "code",
   "execution_count": 4,
   "id": "e0b4b8f7",
   "metadata": {
    "scrolled": true
   },
   "outputs": [
    {
     "data": {
      "text/plain": [
       "Index(['imdb_rating', 'appropriate_for', 'director', 'downloads', 'id',\n",
       "       'industry', 'language', 'posted_date', 'release_date', 'run_time',\n",
       "       'storyline', 'title', 'views', 'writer'],\n",
       "      dtype='object')"
      ]
     },
     "execution_count": 4,
     "metadata": {},
     "output_type": "execute_result"
    }
   ],
   "source": [
    "df.columns = df.columns.str.replace('-', '_').str.lower()\n",
    "df.columns"
   ]
  },
  {
   "cell_type": "code",
   "execution_count": 5,
   "id": "ff2ba0e7",
   "metadata": {},
   "outputs": [
    {
     "name": "stdout",
     "output_type": "stream",
     "text": [
      "imdb_rating\n",
      "appropriate_for\n",
      "director\n",
      "downloads\n",
      "id\n",
      "industry\n",
      "language\n",
      "posted_date\n",
      "release_date\n",
      "run_time\n",
      "storyline\n",
      "title\n",
      "views\n",
      "writer\n"
     ]
    }
   ],
   "source": [
    "for column in df:\n",
    "    print(column)"
   ]
  },
  {
   "cell_type": "markdown",
   "id": "0e111a94",
   "metadata": {},
   "source": [
    "备份df数据"
   ]
  },
  {
   "cell_type": "code",
   "execution_count": 6,
   "id": "47f140fb",
   "metadata": {},
   "outputs": [],
   "source": [
    "old_df = df.copy(deep=True)"
   ]
  },
  {
   "cell_type": "code",
   "execution_count": 7,
   "id": "cc75df0e",
   "metadata": {},
   "outputs": [],
   "source": [
    "# 对dataframe的列的类型、样本、不同值的数量， 缺失值的比例\n",
    "def df_dtype(data):\n",
    "    cols, dtype_col, specimens, nunique, null_count,null_share = [], [], [], [], [],[]\n",
    "    for column in data.columns:\n",
    "        cols.append(column)\n",
    "        this_dtype = data[column].dtype\n",
    "        dtype_col.append(this_dtype)\n",
    "        specimen = data.loc[data[column].first_valid_index(), column]\n",
    "        specimens.append(specimen)\n",
    "        this_nunique = data[column].nunique()\n",
    "        nunique.append(this_nunique)\n",
    "        null_sum = data[column].isna().sum()\n",
    "        null_count.append(null_sum)\n",
    "        null_percent = null_sum/len(data[column])\n",
    "        null_share.append(f'{null_percent:.2%}')\n",
    "    \n",
    "    df = pd.DataFrame(list(zip(\n",
    "            dtype_col,\n",
    "            specimens,\n",
    "            nunique,\n",
    "            null_count,\n",
    "            null_share\n",
    "        )), index = cols)\n",
    "    \n",
    "    df.columns = [\n",
    "        'dtype',\n",
    "        'specimen',\n",
    "        'nunique',\n",
    "        'null_count',\n",
    "        'null_share'\n",
    "    ]\n",
    "    return df\n",
    "        "
   ]
  },
  {
   "cell_type": "markdown",
   "id": "7a5472f9",
   "metadata": {},
   "source": [
    "列的类型，采样，不同取值的数量，空值的数量，和控制所占的比例如下"
   ]
  },
  {
   "cell_type": "code",
   "execution_count": 8,
   "id": "05208178",
   "metadata": {
    "scrolled": true
   },
   "outputs": [
    {
     "data": {
      "text/html": [
       "<div>\n",
       "<style scoped>\n",
       "    .dataframe tbody tr th:only-of-type {\n",
       "        vertical-align: middle;\n",
       "    }\n",
       "\n",
       "    .dataframe tbody tr th {\n",
       "        vertical-align: top;\n",
       "    }\n",
       "\n",
       "    .dataframe thead th {\n",
       "        text-align: right;\n",
       "    }\n",
       "</style>\n",
       "<table border=\"1\" class=\"dataframe\">\n",
       "  <thead>\n",
       "    <tr style=\"text-align: right;\">\n",
       "      <th></th>\n",
       "      <th>dtype</th>\n",
       "      <th>specimen</th>\n",
       "      <th>nunique</th>\n",
       "      <th>null_count</th>\n",
       "      <th>null_share</th>\n",
       "    </tr>\n",
       "  </thead>\n",
       "  <tbody>\n",
       "    <tr>\n",
       "      <th>imdb_rating</th>\n",
       "      <td>float64</td>\n",
       "      <td>4.8</td>\n",
       "      <td>85</td>\n",
       "      <td>841</td>\n",
       "      <td>4.09%</td>\n",
       "    </tr>\n",
       "    <tr>\n",
       "      <th>appropriate_for</th>\n",
       "      <td>object</td>\n",
       "      <td>R</td>\n",
       "      <td>21</td>\n",
       "      <td>9476</td>\n",
       "      <td>46.12%</td>\n",
       "    </tr>\n",
       "    <tr>\n",
       "      <th>director</th>\n",
       "      <td>object</td>\n",
       "      <td>John Swab</td>\n",
       "      <td>9672</td>\n",
       "      <td>1938</td>\n",
       "      <td>9.43%</td>\n",
       "    </tr>\n",
       "    <tr>\n",
       "      <th>downloads</th>\n",
       "      <td>object</td>\n",
       "      <td>304</td>\n",
       "      <td>10625</td>\n",
       "      <td>1</td>\n",
       "      <td>0.00%</td>\n",
       "    </tr>\n",
       "    <tr>\n",
       "      <th>id</th>\n",
       "      <td>int64</td>\n",
       "      <td>372092</td>\n",
       "      <td>17086</td>\n",
       "      <td>0</td>\n",
       "      <td>0.00%</td>\n",
       "    </tr>\n",
       "    <tr>\n",
       "      <th>industry</th>\n",
       "      <td>object</td>\n",
       "      <td>Hollywood / English</td>\n",
       "      <td>10</td>\n",
       "      <td>1</td>\n",
       "      <td>0.00%</td>\n",
       "    </tr>\n",
       "    <tr>\n",
       "      <th>language</th>\n",
       "      <td>object</td>\n",
       "      <td>English</td>\n",
       "      <td>1168</td>\n",
       "      <td>542</td>\n",
       "      <td>2.64%</td>\n",
       "    </tr>\n",
       "    <tr>\n",
       "      <th>posted_date</th>\n",
       "      <td>object</td>\n",
       "      <td>20 Feb, 2023</td>\n",
       "      <td>4123</td>\n",
       "      <td>1</td>\n",
       "      <td>0.00%</td>\n",
       "    </tr>\n",
       "    <tr>\n",
       "      <th>release_date</th>\n",
       "      <td>object</td>\n",
       "      <td>Jan 28 2023</td>\n",
       "      <td>4886</td>\n",
       "      <td>1</td>\n",
       "      <td>0.00%</td>\n",
       "    </tr>\n",
       "    <tr>\n",
       "      <th>run_time</th>\n",
       "      <td>object</td>\n",
       "      <td>105</td>\n",
       "      <td>415</td>\n",
       "      <td>1768</td>\n",
       "      <td>8.60%</td>\n",
       "    </tr>\n",
       "    <tr>\n",
       "      <th>storyline</th>\n",
       "      <td>object</td>\n",
       "      <td>Doc\\r\\n facilitates a fragile truce between th...</td>\n",
       "      <td>15748</td>\n",
       "      <td>1701</td>\n",
       "      <td>8.28%</td>\n",
       "    </tr>\n",
       "    <tr>\n",
       "      <th>title</th>\n",
       "      <td>object</td>\n",
       "      <td>Little Dixie</td>\n",
       "      <td>16572</td>\n",
       "      <td>1</td>\n",
       "      <td>0.00%</td>\n",
       "    </tr>\n",
       "    <tr>\n",
       "      <th>views</th>\n",
       "      <td>object</td>\n",
       "      <td>2,794</td>\n",
       "      <td>16821</td>\n",
       "      <td>1</td>\n",
       "      <td>0.00%</td>\n",
       "    </tr>\n",
       "    <tr>\n",
       "      <th>writer</th>\n",
       "      <td>object</td>\n",
       "      <td>John Swab</td>\n",
       "      <td>13603</td>\n",
       "      <td>2192</td>\n",
       "      <td>10.67%</td>\n",
       "    </tr>\n",
       "  </tbody>\n",
       "</table>\n",
       "</div>"
      ],
      "text/plain": [
       "                   dtype                                           specimen  \\\n",
       "imdb_rating      float64                                                4.8   \n",
       "appropriate_for   object                                                  R   \n",
       "director          object                                          John Swab   \n",
       "downloads         object                                                304   \n",
       "id                 int64                                             372092   \n",
       "industry          object                                Hollywood / English   \n",
       "language          object                                            English   \n",
       "posted_date       object                                       20 Feb, 2023   \n",
       "release_date      object                                        Jan 28 2023   \n",
       "run_time          object                                                105   \n",
       "storyline         object  Doc\\r\\n facilitates a fragile truce between th...   \n",
       "title             object                                       Little Dixie   \n",
       "views             object                                              2,794   \n",
       "writer            object                                          John Swab   \n",
       "\n",
       "                 nunique  null_count null_share  \n",
       "imdb_rating           85         841      4.09%  \n",
       "appropriate_for       21        9476     46.12%  \n",
       "director            9672        1938      9.43%  \n",
       "downloads          10625           1      0.00%  \n",
       "id                 17086           0      0.00%  \n",
       "industry              10           1      0.00%  \n",
       "language            1168         542      2.64%  \n",
       "posted_date         4123           1      0.00%  \n",
       "release_date        4886           1      0.00%  \n",
       "run_time             415        1768      8.60%  \n",
       "storyline          15748        1701      8.28%  \n",
       "title              16572           1      0.00%  \n",
       "views              16821           1      0.00%  \n",
       "writer             13603        2192     10.67%  "
      ]
     },
     "execution_count": 8,
     "metadata": {},
     "output_type": "execute_result"
    }
   ],
   "source": [
    "df_dtype(df)"
   ]
  },
  {
   "cell_type": "markdown",
   "id": "40174d02",
   "metadata": {},
   "source": [
    "downloads 和 views 是object类型，需要将其转为数值类型， id需要将其转换为STR"
   ]
  },
  {
   "cell_type": "code",
   "execution_count": 9,
   "id": "0621084d",
   "metadata": {},
   "outputs": [],
   "source": [
    "for col in 'views', 'downloads':\n",
    "    df[col] = df[col].str.replace(',','')\n",
    "    df[col] = df[col].astype('float')\n",
    "\n",
    "df['id'] = df['id'].astype('str')"
   ]
  },
  {
   "cell_type": "code",
   "execution_count": 10,
   "id": "3eb79f1d",
   "metadata": {},
   "outputs": [
    {
     "data": {
      "text/html": [
       "<div>\n",
       "<style scoped>\n",
       "    .dataframe tbody tr th:only-of-type {\n",
       "        vertical-align: middle;\n",
       "    }\n",
       "\n",
       "    .dataframe tbody tr th {\n",
       "        vertical-align: top;\n",
       "    }\n",
       "\n",
       "    .dataframe thead th {\n",
       "        text-align: right;\n",
       "    }\n",
       "</style>\n",
       "<table border=\"1\" class=\"dataframe\">\n",
       "  <thead>\n",
       "    <tr style=\"text-align: right;\">\n",
       "      <th></th>\n",
       "      <th>dtype</th>\n",
       "      <th>specimen</th>\n",
       "      <th>nunique</th>\n",
       "      <th>null_count</th>\n",
       "      <th>null_share</th>\n",
       "    </tr>\n",
       "  </thead>\n",
       "  <tbody>\n",
       "    <tr>\n",
       "      <th>imdb_rating</th>\n",
       "      <td>float64</td>\n",
       "      <td>4.8</td>\n",
       "      <td>85</td>\n",
       "      <td>841</td>\n",
       "      <td>4.09%</td>\n",
       "    </tr>\n",
       "    <tr>\n",
       "      <th>appropriate_for</th>\n",
       "      <td>object</td>\n",
       "      <td>R</td>\n",
       "      <td>21</td>\n",
       "      <td>9476</td>\n",
       "      <td>46.12%</td>\n",
       "    </tr>\n",
       "    <tr>\n",
       "      <th>director</th>\n",
       "      <td>object</td>\n",
       "      <td>John Swab</td>\n",
       "      <td>9672</td>\n",
       "      <td>1938</td>\n",
       "      <td>9.43%</td>\n",
       "    </tr>\n",
       "    <tr>\n",
       "      <th>downloads</th>\n",
       "      <td>float64</td>\n",
       "      <td>304.0</td>\n",
       "      <td>10625</td>\n",
       "      <td>1</td>\n",
       "      <td>0.00%</td>\n",
       "    </tr>\n",
       "    <tr>\n",
       "      <th>id</th>\n",
       "      <td>object</td>\n",
       "      <td>372092</td>\n",
       "      <td>17086</td>\n",
       "      <td>0</td>\n",
       "      <td>0.00%</td>\n",
       "    </tr>\n",
       "    <tr>\n",
       "      <th>industry</th>\n",
       "      <td>object</td>\n",
       "      <td>Hollywood / English</td>\n",
       "      <td>10</td>\n",
       "      <td>1</td>\n",
       "      <td>0.00%</td>\n",
       "    </tr>\n",
       "    <tr>\n",
       "      <th>language</th>\n",
       "      <td>object</td>\n",
       "      <td>English</td>\n",
       "      <td>1168</td>\n",
       "      <td>542</td>\n",
       "      <td>2.64%</td>\n",
       "    </tr>\n",
       "    <tr>\n",
       "      <th>posted_date</th>\n",
       "      <td>object</td>\n",
       "      <td>20 Feb, 2023</td>\n",
       "      <td>4123</td>\n",
       "      <td>1</td>\n",
       "      <td>0.00%</td>\n",
       "    </tr>\n",
       "    <tr>\n",
       "      <th>release_date</th>\n",
       "      <td>object</td>\n",
       "      <td>Jan 28 2023</td>\n",
       "      <td>4886</td>\n",
       "      <td>1</td>\n",
       "      <td>0.00%</td>\n",
       "    </tr>\n",
       "    <tr>\n",
       "      <th>run_time</th>\n",
       "      <td>object</td>\n",
       "      <td>105</td>\n",
       "      <td>415</td>\n",
       "      <td>1768</td>\n",
       "      <td>8.60%</td>\n",
       "    </tr>\n",
       "    <tr>\n",
       "      <th>storyline</th>\n",
       "      <td>object</td>\n",
       "      <td>Doc\\r\\n facilitates a fragile truce between th...</td>\n",
       "      <td>15748</td>\n",
       "      <td>1701</td>\n",
       "      <td>8.28%</td>\n",
       "    </tr>\n",
       "    <tr>\n",
       "      <th>title</th>\n",
       "      <td>object</td>\n",
       "      <td>Little Dixie</td>\n",
       "      <td>16572</td>\n",
       "      <td>1</td>\n",
       "      <td>0.00%</td>\n",
       "    </tr>\n",
       "    <tr>\n",
       "      <th>views</th>\n",
       "      <td>float64</td>\n",
       "      <td>2794.0</td>\n",
       "      <td>16821</td>\n",
       "      <td>1</td>\n",
       "      <td>0.00%</td>\n",
       "    </tr>\n",
       "    <tr>\n",
       "      <th>writer</th>\n",
       "      <td>object</td>\n",
       "      <td>John Swab</td>\n",
       "      <td>13603</td>\n",
       "      <td>2192</td>\n",
       "      <td>10.67%</td>\n",
       "    </tr>\n",
       "  </tbody>\n",
       "</table>\n",
       "</div>"
      ],
      "text/plain": [
       "                   dtype                                           specimen  \\\n",
       "imdb_rating      float64                                                4.8   \n",
       "appropriate_for   object                                                  R   \n",
       "director          object                                          John Swab   \n",
       "downloads        float64                                              304.0   \n",
       "id                object                                             372092   \n",
       "industry          object                                Hollywood / English   \n",
       "language          object                                            English   \n",
       "posted_date       object                                       20 Feb, 2023   \n",
       "release_date      object                                        Jan 28 2023   \n",
       "run_time          object                                                105   \n",
       "storyline         object  Doc\\r\\n facilitates a fragile truce between th...   \n",
       "title             object                                       Little Dixie   \n",
       "views            float64                                             2794.0   \n",
       "writer            object                                          John Swab   \n",
       "\n",
       "                 nunique  null_count null_share  \n",
       "imdb_rating           85         841      4.09%  \n",
       "appropriate_for       21        9476     46.12%  \n",
       "director            9672        1938      9.43%  \n",
       "downloads          10625           1      0.00%  \n",
       "id                 17086           0      0.00%  \n",
       "industry              10           1      0.00%  \n",
       "language            1168         542      2.64%  \n",
       "posted_date         4123           1      0.00%  \n",
       "release_date        4886           1      0.00%  \n",
       "run_time             415        1768      8.60%  \n",
       "storyline          15748        1701      8.28%  \n",
       "title              16572           1      0.00%  \n",
       "views              16821           1      0.00%  \n",
       "writer             13603        2192     10.67%  "
      ]
     },
     "execution_count": 10,
     "metadata": {},
     "output_type": "execute_result"
    }
   ],
   "source": [
    "df_dtype(df)"
   ]
  },
  {
   "cell_type": "code",
   "execution_count": 11,
   "id": "b1b189da",
   "metadata": {},
   "outputs": [
    {
     "data": {
      "text/html": [
       "<div>\n",
       "<style scoped>\n",
       "    .dataframe tbody tr th:only-of-type {\n",
       "        vertical-align: middle;\n",
       "    }\n",
       "\n",
       "    .dataframe tbody tr th {\n",
       "        vertical-align: top;\n",
       "    }\n",
       "\n",
       "    .dataframe thead th {\n",
       "        text-align: right;\n",
       "    }\n",
       "</style>\n",
       "<table border=\"1\" class=\"dataframe\">\n",
       "  <thead>\n",
       "    <tr style=\"text-align: right;\">\n",
       "      <th></th>\n",
       "      <th>imdb_rating</th>\n",
       "      <th>downloads</th>\n",
       "      <th>views</th>\n",
       "    </tr>\n",
       "  </thead>\n",
       "  <tbody>\n",
       "    <tr>\n",
       "      <th>count</th>\n",
       "      <td>19707.000000</td>\n",
       "      <td>20547.000000</td>\n",
       "      <td>2.054700e+04</td>\n",
       "    </tr>\n",
       "    <tr>\n",
       "      <th>mean</th>\n",
       "      <td>5.762151</td>\n",
       "      <td>10795.238916</td>\n",
       "      <td>3.559551e+04</td>\n",
       "    </tr>\n",
       "    <tr>\n",
       "      <th>std</th>\n",
       "      <td>1.374041</td>\n",
       "      <td>23716.181987</td>\n",
       "      <td>6.247242e+04</td>\n",
       "    </tr>\n",
       "    <tr>\n",
       "      <th>min</th>\n",
       "      <td>1.100000</td>\n",
       "      <td>0.000000</td>\n",
       "      <td>6.670000e+02</td>\n",
       "    </tr>\n",
       "    <tr>\n",
       "      <th>25%</th>\n",
       "      <td>4.800000</td>\n",
       "      <td>855.500000</td>\n",
       "      <td>7.571500e+03</td>\n",
       "    </tr>\n",
       "    <tr>\n",
       "      <th>50%</th>\n",
       "      <td>5.700000</td>\n",
       "      <td>2716.000000</td>\n",
       "      <td>1.522200e+04</td>\n",
       "    </tr>\n",
       "    <tr>\n",
       "      <th>75%</th>\n",
       "      <td>6.600000</td>\n",
       "      <td>10070.000000</td>\n",
       "      <td>3.657100e+04</td>\n",
       "    </tr>\n",
       "    <tr>\n",
       "      <th>max</th>\n",
       "      <td>9.900000</td>\n",
       "      <td>391272.000000</td>\n",
       "      <td>1.638533e+06</td>\n",
       "    </tr>\n",
       "  </tbody>\n",
       "</table>\n",
       "</div>"
      ],
      "text/plain": [
       "        imdb_rating      downloads         views\n",
       "count  19707.000000   20547.000000  2.054700e+04\n",
       "mean       5.762151   10795.238916  3.559551e+04\n",
       "std        1.374041   23716.181987  6.247242e+04\n",
       "min        1.100000       0.000000  6.670000e+02\n",
       "25%        4.800000     855.500000  7.571500e+03\n",
       "50%        5.700000    2716.000000  1.522200e+04\n",
       "75%        6.600000   10070.000000  3.657100e+04\n",
       "max        9.900000  391272.000000  1.638533e+06"
      ]
     },
     "execution_count": 11,
     "metadata": {},
     "output_type": "execute_result"
    }
   ],
   "source": [
    "df.describe()"
   ]
  },
  {
   "cell_type": "code",
   "execution_count": 12,
   "id": "89f7c375",
   "metadata": {},
   "outputs": [
    {
     "name": "stdout",
     "output_type": "stream",
     "text": [
      "============ Basic Info ============\n",
      "<class 'pandas.core.frame.DataFrame'>\n",
      "RangeIndex: 20548 entries, 0 to 20547\n",
      "Data columns (total 14 columns):\n",
      " #   Column           Non-Null Count  Dtype  \n",
      "---  ------           --------------  -----  \n",
      " 0   imdb_rating      19707 non-null  float64\n",
      " 1   appropriate_for  11072 non-null  object \n",
      " 2   director         18610 non-null  object \n",
      " 3   downloads        20547 non-null  float64\n",
      " 4   id               20548 non-null  object \n",
      " 5   industry         20547 non-null  object \n",
      " 6   language         20006 non-null  object \n",
      " 7   posted_date      20547 non-null  object \n",
      " 8   release_date     20547 non-null  object \n",
      " 9   run_time         18780 non-null  object \n",
      " 10  storyline        18847 non-null  object \n",
      " 11  title            20547 non-null  object \n",
      " 12  views            20547 non-null  float64\n",
      " 13  writer           18356 non-null  object \n",
      "dtypes: float64(3), object(11)\n",
      "memory usage: 2.2+ MB\n"
     ]
    }
   ],
   "source": [
    "border = 12*'='\n",
    "    \n",
    "print(border, 'Basic Info', border)\n",
    "df.info()"
   ]
  },
  {
   "cell_type": "code",
   "execution_count": 13,
   "id": "21258509",
   "metadata": {},
   "outputs": [
    {
     "data": {
      "text/html": [
       "<div>\n",
       "<style scoped>\n",
       "    .dataframe tbody tr th:only-of-type {\n",
       "        vertical-align: middle;\n",
       "    }\n",
       "\n",
       "    .dataframe tbody tr th {\n",
       "        vertical-align: top;\n",
       "    }\n",
       "\n",
       "    .dataframe thead th {\n",
       "        text-align: right;\n",
       "    }\n",
       "</style>\n",
       "<table border=\"1\" class=\"dataframe\">\n",
       "  <thead>\n",
       "    <tr style=\"text-align: right;\">\n",
       "      <th></th>\n",
       "      <th>imdb_rating</th>\n",
       "      <th>appropriate_for</th>\n",
       "      <th>director</th>\n",
       "      <th>downloads</th>\n",
       "      <th>id</th>\n",
       "      <th>industry</th>\n",
       "      <th>language</th>\n",
       "      <th>posted_date</th>\n",
       "      <th>release_date</th>\n",
       "      <th>run_time</th>\n",
       "      <th>storyline</th>\n",
       "      <th>title</th>\n",
       "      <th>views</th>\n",
       "      <th>writer</th>\n",
       "    </tr>\n",
       "  </thead>\n",
       "  <tbody>\n",
       "    <tr>\n",
       "      <th>0</th>\n",
       "      <td>4.8</td>\n",
       "      <td>R</td>\n",
       "      <td>John Swab</td>\n",
       "      <td>304.0</td>\n",
       "      <td>372092</td>\n",
       "      <td>Hollywood / English</td>\n",
       "      <td>English</td>\n",
       "      <td>20 Feb, 2023</td>\n",
       "      <td>Jan 28 2023</td>\n",
       "      <td>105</td>\n",
       "      <td>Doc\\r\\n facilitates a fragile truce between th...</td>\n",
       "      <td>Little Dixie</td>\n",
       "      <td>2794.0</td>\n",
       "      <td>John Swab</td>\n",
       "    </tr>\n",
       "    <tr>\n",
       "      <th>1</th>\n",
       "      <td>6.4</td>\n",
       "      <td>TV-PG</td>\n",
       "      <td>Paul Ziller</td>\n",
       "      <td>73.0</td>\n",
       "      <td>372091</td>\n",
       "      <td>Hollywood / English</td>\n",
       "      <td>English</td>\n",
       "      <td>20 Feb, 2023</td>\n",
       "      <td>Feb 05 2023</td>\n",
       "      <td>84</td>\n",
       "      <td>Caterer\\r\\n Goldy Berry reunites with detectiv...</td>\n",
       "      <td>Grilling Season: A Curious Caterer Mystery</td>\n",
       "      <td>1002.0</td>\n",
       "      <td>John Christian Plummer</td>\n",
       "    </tr>\n",
       "    <tr>\n",
       "      <th>2</th>\n",
       "      <td>5.2</td>\n",
       "      <td>R</td>\n",
       "      <td>Ben Wheatley</td>\n",
       "      <td>1427.0</td>\n",
       "      <td>343381</td>\n",
       "      <td>Hollywood / English</td>\n",
       "      <td>English,Hindi</td>\n",
       "      <td>20 Apr, 2021</td>\n",
       "      <td>Jun 18 2021</td>\n",
       "      <td>1h 47min</td>\n",
       "      <td>As the world searches for a cure to a disastro...</td>\n",
       "      <td>In the Earth</td>\n",
       "      <td>14419.0</td>\n",
       "      <td>Ben Wheatley</td>\n",
       "    </tr>\n",
       "    <tr>\n",
       "      <th>3</th>\n",
       "      <td>8.1</td>\n",
       "      <td>NaN</td>\n",
       "      <td>Venky Atluri</td>\n",
       "      <td>1549.0</td>\n",
       "      <td>372090</td>\n",
       "      <td>Tollywood</td>\n",
       "      <td>Hindi</td>\n",
       "      <td>20 Feb, 2023</td>\n",
       "      <td>Feb 17 2023</td>\n",
       "      <td>139</td>\n",
       "      <td>The life of a young man and his struggles agai...</td>\n",
       "      <td>Vaathi</td>\n",
       "      <td>4878.0</td>\n",
       "      <td>Venky Atluri</td>\n",
       "    </tr>\n",
       "    <tr>\n",
       "      <th>4</th>\n",
       "      <td>4.6</td>\n",
       "      <td>NaN</td>\n",
       "      <td>Shaji Kailas</td>\n",
       "      <td>657.0</td>\n",
       "      <td>372089</td>\n",
       "      <td>Tollywood</td>\n",
       "      <td>Hindi</td>\n",
       "      <td>20 Feb, 2023</td>\n",
       "      <td>Jan 26 2023</td>\n",
       "      <td>122</td>\n",
       "      <td>A man named Kalidas gets stranded due to the p...</td>\n",
       "      <td>Alone</td>\n",
       "      <td>2438.0</td>\n",
       "      <td>Rajesh Jayaraman</td>\n",
       "    </tr>\n",
       "  </tbody>\n",
       "</table>\n",
       "</div>"
      ],
      "text/plain": [
       "   imdb_rating appropriate_for      director  downloads      id  \\\n",
       "0          4.8               R     John Swab      304.0  372092   \n",
       "1          6.4           TV-PG   Paul Ziller       73.0  372091   \n",
       "2          5.2               R  Ben Wheatley     1427.0  343381   \n",
       "3          8.1             NaN  Venky Atluri     1549.0  372090   \n",
       "4          4.6             NaN  Shaji Kailas      657.0  372089   \n",
       "\n",
       "              industry       language   posted_date release_date  run_time  \\\n",
       "0  Hollywood / English        English  20 Feb, 2023  Jan 28 2023       105   \n",
       "1  Hollywood / English        English  20 Feb, 2023  Feb 05 2023        84   \n",
       "2  Hollywood / English  English,Hindi  20 Apr, 2021  Jun 18 2021  1h 47min   \n",
       "3            Tollywood          Hindi  20 Feb, 2023  Feb 17 2023       139   \n",
       "4            Tollywood          Hindi  20 Feb, 2023  Jan 26 2023       122   \n",
       "\n",
       "                                           storyline  \\\n",
       "0  Doc\\r\\n facilitates a fragile truce between th...   \n",
       "1  Caterer\\r\\n Goldy Berry reunites with detectiv...   \n",
       "2  As the world searches for a cure to a disastro...   \n",
       "3  The life of a young man and his struggles agai...   \n",
       "4  A man named Kalidas gets stranded due to the p...   \n",
       "\n",
       "                                        title    views                  writer  \n",
       "0                                Little Dixie   2794.0               John Swab  \n",
       "1  Grilling Season: A Curious Caterer Mystery   1002.0  John Christian Plummer  \n",
       "2                                In the Earth  14419.0            Ben Wheatley  \n",
       "3                                      Vaathi   4878.0            Venky Atluri  \n",
       "4                                       Alone   2438.0        Rajesh Jayaraman  "
      ]
     },
     "execution_count": 13,
     "metadata": {},
     "output_type": "execute_result"
    }
   ],
   "source": [
    "df.head(5)"
   ]
  },
  {
   "cell_type": "markdown",
   "id": "46a02b25",
   "metadata": {},
   "source": [
    "查看是否有重复数据，如果有重复数据，将重复数据删除"
   ]
  },
  {
   "cell_type": "code",
   "execution_count": 14,
   "id": "cad8ad4d",
   "metadata": {},
   "outputs": [
    {
     "name": "stdout",
     "output_type": "stream",
     "text": [
      "None\n"
     ]
    }
   ],
   "source": [
    "if df.duplicated().sum()>0:\n",
    "    print(f'Amount of dumplicated rows:{df.duplicated().sum()}')\n",
    "    df.drop_duplicates(inplace=True, ignore_index=True)\n",
    "    print('Duplicated rows were dropped')\n",
    "else:\n",
    "    print('None')"
   ]
  },
  {
   "cell_type": "markdown",
   "id": "2f9ecfbf",
   "metadata": {},
   "source": [
    "没有重复数据"
   ]
  },
  {
   "cell_type": "markdown",
   "id": "03175f19",
   "metadata": {},
   "source": [
    "## 2 数据分析"
   ]
  },
  {
   "cell_type": "markdown",
   "id": "f98f19bc",
   "metadata": {},
   "source": [
    "（1）id"
   ]
  },
  {
   "cell_type": "code",
   "execution_count": 15,
   "id": "fb78d24e",
   "metadata": {},
   "outputs": [
    {
     "name": "stdout",
     "output_type": "stream",
     "text": [
      "id的不同取值： 17086\n",
      "id 的总条数： 20548\n"
     ]
    }
   ],
   "source": [
    "print(\"id的不同取值：\", df['id'].nunique())\n",
    "print('id 的总条数：',len(df['id']))"
   ]
  },
  {
   "cell_type": "markdown",
   "id": "8fb1f786",
   "metadata": {},
   "source": [
    "说明有重复的电影记录数据，但不是完全重复，因为上面已经去重了"
   ]
  },
  {
   "cell_type": "code",
   "execution_count": 16,
   "id": "8a1b1124",
   "metadata": {},
   "outputs": [
    {
     "data": {
      "text/html": [
       "<div>\n",
       "<style scoped>\n",
       "    .dataframe tbody tr th:only-of-type {\n",
       "        vertical-align: middle;\n",
       "    }\n",
       "\n",
       "    .dataframe tbody tr th {\n",
       "        vertical-align: top;\n",
       "    }\n",
       "\n",
       "    .dataframe thead th {\n",
       "        text-align: right;\n",
       "    }\n",
       "</style>\n",
       "<table border=\"1\" class=\"dataframe\">\n",
       "  <thead>\n",
       "    <tr style=\"text-align: right;\">\n",
       "      <th></th>\n",
       "      <th>id</th>\n",
       "      <th>counts</th>\n",
       "    </tr>\n",
       "  </thead>\n",
       "  <tbody>\n",
       "    <tr>\n",
       "      <th>0</th>\n",
       "      <td>372090</td>\n",
       "      <td>402</td>\n",
       "    </tr>\n",
       "    <tr>\n",
       "      <th>1</th>\n",
       "      <td>371744</td>\n",
       "      <td>402</td>\n",
       "    </tr>\n",
       "    <tr>\n",
       "      <th>2</th>\n",
       "      <td>371877</td>\n",
       "      <td>402</td>\n",
       "    </tr>\n",
       "    <tr>\n",
       "      <th>3</th>\n",
       "      <td>372092</td>\n",
       "      <td>202</td>\n",
       "    </tr>\n",
       "    <tr>\n",
       "      <th>4</th>\n",
       "      <td>371991</td>\n",
       "      <td>202</td>\n",
       "    </tr>\n",
       "    <tr>\n",
       "      <th>...</th>\n",
       "      <td>...</td>\n",
       "      <td>...</td>\n",
       "    </tr>\n",
       "    <tr>\n",
       "      <th>102</th>\n",
       "      <td>1070</td>\n",
       "      <td>2</td>\n",
       "    </tr>\n",
       "    <tr>\n",
       "      <th>103</th>\n",
       "      <td>1068</td>\n",
       "      <td>2</td>\n",
       "    </tr>\n",
       "    <tr>\n",
       "      <th>104</th>\n",
       "      <td>1064</td>\n",
       "      <td>2</td>\n",
       "    </tr>\n",
       "    <tr>\n",
       "      <th>105</th>\n",
       "      <td>1080</td>\n",
       "      <td>2</td>\n",
       "    </tr>\n",
       "    <tr>\n",
       "      <th>106</th>\n",
       "      <td>1072</td>\n",
       "      <td>2</td>\n",
       "    </tr>\n",
       "  </tbody>\n",
       "</table>\n",
       "<p>107 rows × 2 columns</p>\n",
       "</div>"
      ],
      "text/plain": [
       "         id  counts\n",
       "0    372090     402\n",
       "1    371744     402\n",
       "2    371877     402\n",
       "3    372092     202\n",
       "4    371991     202\n",
       "..      ...     ...\n",
       "102    1070       2\n",
       "103    1068       2\n",
       "104    1064       2\n",
       "105    1080       2\n",
       "106    1072       2\n",
       "\n",
       "[107 rows x 2 columns]"
      ]
     },
     "execution_count": 16,
     "metadata": {},
     "output_type": "execute_result"
    }
   ],
   "source": [
    "count = df['id'].value_counts()\n",
    "ids = []\n",
    "ids_count = []\n",
    "for i in count.index:\n",
    "    if count[i]>1:\n",
    "        ids.append(str(i))\n",
    "        ids_count.append(count[i])\n",
    "\n",
    "id_count = pd.DataFrame(list(zip(ids,ids_count)))\n",
    "id_count.columns = ['id','counts']\n",
    "id_count\n"
   ]
  },
  {
   "cell_type": "code",
   "execution_count": 17,
   "id": "1fe92728",
   "metadata": {
    "scrolled": true
   },
   "outputs": [
    {
     "data": {
      "text/html": [
       "<div>\n",
       "<style scoped>\n",
       "    .dataframe tbody tr th:only-of-type {\n",
       "        vertical-align: middle;\n",
       "    }\n",
       "\n",
       "    .dataframe tbody tr th {\n",
       "        vertical-align: top;\n",
       "    }\n",
       "\n",
       "    .dataframe thead th {\n",
       "        text-align: right;\n",
       "    }\n",
       "</style>\n",
       "<table border=\"1\" class=\"dataframe\">\n",
       "  <thead>\n",
       "    <tr style=\"text-align: right;\">\n",
       "      <th></th>\n",
       "      <th>imdb_rating</th>\n",
       "      <th>appropriate_for</th>\n",
       "      <th>director</th>\n",
       "      <th>downloads</th>\n",
       "      <th>id</th>\n",
       "      <th>industry</th>\n",
       "      <th>language</th>\n",
       "      <th>posted_date</th>\n",
       "      <th>release_date</th>\n",
       "      <th>run_time</th>\n",
       "      <th>storyline</th>\n",
       "      <th>title</th>\n",
       "      <th>views</th>\n",
       "      <th>writer</th>\n",
       "    </tr>\n",
       "  </thead>\n",
       "  <tbody>\n",
       "    <tr>\n",
       "      <th>41</th>\n",
       "      <td>8.8</td>\n",
       "      <td>NaN</td>\n",
       "      <td>Xavier Manrique</td>\n",
       "      <td>75.0</td>\n",
       "      <td>371744</td>\n",
       "      <td>Hollywood / English</td>\n",
       "      <td>English</td>\n",
       "      <td>13 Feb, 2023</td>\n",
       "      <td>Feb 03 2023</td>\n",
       "      <td>101</td>\n",
       "      <td>Follows\\r\\n a New York City family hiding out ...</td>\n",
       "      <td>Who Invited Charlie?</td>\n",
       "      <td>1676.0</td>\n",
       "      <td>Nicholas Schutt</td>\n",
       "    </tr>\n",
       "    <tr>\n",
       "      <th>51</th>\n",
       "      <td>8.8</td>\n",
       "      <td>NaN</td>\n",
       "      <td>Xavier Manrique</td>\n",
       "      <td>75.0</td>\n",
       "      <td>371744</td>\n",
       "      <td>Hollywood / English</td>\n",
       "      <td>English</td>\n",
       "      <td>13 Feb, 2023</td>\n",
       "      <td>Feb 03 2023</td>\n",
       "      <td>101</td>\n",
       "      <td>Follows\\r\\n a New York City family hiding out ...</td>\n",
       "      <td>Who Invited Charlie?</td>\n",
       "      <td>1677.0</td>\n",
       "      <td>Nicholas Schutt</td>\n",
       "    </tr>\n",
       "    <tr>\n",
       "      <th>85</th>\n",
       "      <td>8.8</td>\n",
       "      <td>NaN</td>\n",
       "      <td>Xavier Manrique</td>\n",
       "      <td>75.0</td>\n",
       "      <td>371744</td>\n",
       "      <td>Hollywood / English</td>\n",
       "      <td>English</td>\n",
       "      <td>13 Feb, 2023</td>\n",
       "      <td>Feb 03 2023</td>\n",
       "      <td>101</td>\n",
       "      <td>Follows\\r\\n a New York City family hiding out ...</td>\n",
       "      <td>Who Invited Charlie?</td>\n",
       "      <td>1678.0</td>\n",
       "      <td>Nicholas Schutt</td>\n",
       "    </tr>\n",
       "    <tr>\n",
       "      <th>129</th>\n",
       "      <td>8.8</td>\n",
       "      <td>NaN</td>\n",
       "      <td>Xavier Manrique</td>\n",
       "      <td>75.0</td>\n",
       "      <td>371744</td>\n",
       "      <td>Hollywood / English</td>\n",
       "      <td>English</td>\n",
       "      <td>13 Feb, 2023</td>\n",
       "      <td>Feb 03 2023</td>\n",
       "      <td>101</td>\n",
       "      <td>Follows\\r\\n a New York City family hiding out ...</td>\n",
       "      <td>Who Invited Charlie?</td>\n",
       "      <td>1679.0</td>\n",
       "      <td>Nicholas Schutt</td>\n",
       "    </tr>\n",
       "    <tr>\n",
       "      <th>173</th>\n",
       "      <td>8.8</td>\n",
       "      <td>NaN</td>\n",
       "      <td>Xavier Manrique</td>\n",
       "      <td>75.0</td>\n",
       "      <td>371744</td>\n",
       "      <td>Hollywood / English</td>\n",
       "      <td>English</td>\n",
       "      <td>13 Feb, 2023</td>\n",
       "      <td>Feb 03 2023</td>\n",
       "      <td>101</td>\n",
       "      <td>Follows\\r\\n a New York City family hiding out ...</td>\n",
       "      <td>Who Invited Charlie?</td>\n",
       "      <td>1680.0</td>\n",
       "      <td>Nicholas Schutt</td>\n",
       "    </tr>\n",
       "    <tr>\n",
       "      <th>...</th>\n",
       "      <td>...</td>\n",
       "      <td>...</td>\n",
       "      <td>...</td>\n",
       "      <td>...</td>\n",
       "      <td>...</td>\n",
       "      <td>...</td>\n",
       "      <td>...</td>\n",
       "      <td>...</td>\n",
       "      <td>...</td>\n",
       "      <td>...</td>\n",
       "      <td>...</td>\n",
       "      <td>...</td>\n",
       "      <td>...</td>\n",
       "      <td>...</td>\n",
       "    </tr>\n",
       "    <tr>\n",
       "      <th>17467</th>\n",
       "      <td>8.8</td>\n",
       "      <td>NaN</td>\n",
       "      <td>Xavier Manrique</td>\n",
       "      <td>75.0</td>\n",
       "      <td>371744</td>\n",
       "      <td>Hollywood / English</td>\n",
       "      <td>English</td>\n",
       "      <td>13 Feb, 2023</td>\n",
       "      <td>Feb 03 2023</td>\n",
       "      <td>101</td>\n",
       "      <td>Follows\\r\\n a New York City family hiding out ...</td>\n",
       "      <td>Who Invited Charlie?</td>\n",
       "      <td>2082.0</td>\n",
       "      <td>Nicholas Schutt</td>\n",
       "    </tr>\n",
       "    <tr>\n",
       "      <th>17511</th>\n",
       "      <td>8.8</td>\n",
       "      <td>NaN</td>\n",
       "      <td>Xavier Manrique</td>\n",
       "      <td>75.0</td>\n",
       "      <td>371744</td>\n",
       "      <td>Hollywood / English</td>\n",
       "      <td>English</td>\n",
       "      <td>13 Feb, 2023</td>\n",
       "      <td>Feb 03 2023</td>\n",
       "      <td>101</td>\n",
       "      <td>Follows\\r\\n a New York City family hiding out ...</td>\n",
       "      <td>Who Invited Charlie?</td>\n",
       "      <td>2083.0</td>\n",
       "      <td>Nicholas Schutt</td>\n",
       "    </tr>\n",
       "    <tr>\n",
       "      <th>17555</th>\n",
       "      <td>8.8</td>\n",
       "      <td>NaN</td>\n",
       "      <td>Xavier Manrique</td>\n",
       "      <td>75.0</td>\n",
       "      <td>371744</td>\n",
       "      <td>Hollywood / English</td>\n",
       "      <td>English</td>\n",
       "      <td>13 Feb, 2023</td>\n",
       "      <td>Feb 03 2023</td>\n",
       "      <td>101</td>\n",
       "      <td>Follows\\r\\n a New York City family hiding out ...</td>\n",
       "      <td>Who Invited Charlie?</td>\n",
       "      <td>2084.0</td>\n",
       "      <td>Nicholas Schutt</td>\n",
       "    </tr>\n",
       "    <tr>\n",
       "      <th>17599</th>\n",
       "      <td>8.8</td>\n",
       "      <td>NaN</td>\n",
       "      <td>Xavier Manrique</td>\n",
       "      <td>75.0</td>\n",
       "      <td>371744</td>\n",
       "      <td>Hollywood / English</td>\n",
       "      <td>English</td>\n",
       "      <td>13 Feb, 2023</td>\n",
       "      <td>Feb 03 2023</td>\n",
       "      <td>101</td>\n",
       "      <td>Follows\\r\\n a New York City family hiding out ...</td>\n",
       "      <td>Who Invited Charlie?</td>\n",
       "      <td>2085.0</td>\n",
       "      <td>Nicholas Schutt</td>\n",
       "    </tr>\n",
       "    <tr>\n",
       "      <th>17643</th>\n",
       "      <td>8.8</td>\n",
       "      <td>NaN</td>\n",
       "      <td>Xavier Manrique</td>\n",
       "      <td>75.0</td>\n",
       "      <td>371744</td>\n",
       "      <td>Hollywood / English</td>\n",
       "      <td>English</td>\n",
       "      <td>13 Feb, 2023</td>\n",
       "      <td>Feb 03 2023</td>\n",
       "      <td>101</td>\n",
       "      <td>Follows\\r\\n a New York City family hiding out ...</td>\n",
       "      <td>Who Invited Charlie?</td>\n",
       "      <td>2086.0</td>\n",
       "      <td>Nicholas Schutt</td>\n",
       "    </tr>\n",
       "  </tbody>\n",
       "</table>\n",
       "<p>402 rows × 14 columns</p>\n",
       "</div>"
      ],
      "text/plain": [
       "       imdb_rating appropriate_for         director  downloads      id  \\\n",
       "41             8.8             NaN  Xavier Manrique       75.0  371744   \n",
       "51             8.8             NaN  Xavier Manrique       75.0  371744   \n",
       "85             8.8             NaN  Xavier Manrique       75.0  371744   \n",
       "129            8.8             NaN  Xavier Manrique       75.0  371744   \n",
       "173            8.8             NaN  Xavier Manrique       75.0  371744   \n",
       "...            ...             ...              ...        ...     ...   \n",
       "17467          8.8             NaN  Xavier Manrique       75.0  371744   \n",
       "17511          8.8             NaN  Xavier Manrique       75.0  371744   \n",
       "17555          8.8             NaN  Xavier Manrique       75.0  371744   \n",
       "17599          8.8             NaN  Xavier Manrique       75.0  371744   \n",
       "17643          8.8             NaN  Xavier Manrique       75.0  371744   \n",
       "\n",
       "                  industry language   posted_date release_date run_time  \\\n",
       "41     Hollywood / English  English  13 Feb, 2023  Feb 03 2023      101   \n",
       "51     Hollywood / English  English  13 Feb, 2023  Feb 03 2023      101   \n",
       "85     Hollywood / English  English  13 Feb, 2023  Feb 03 2023      101   \n",
       "129    Hollywood / English  English  13 Feb, 2023  Feb 03 2023      101   \n",
       "173    Hollywood / English  English  13 Feb, 2023  Feb 03 2023      101   \n",
       "...                    ...      ...           ...          ...      ...   \n",
       "17467  Hollywood / English  English  13 Feb, 2023  Feb 03 2023      101   \n",
       "17511  Hollywood / English  English  13 Feb, 2023  Feb 03 2023      101   \n",
       "17555  Hollywood / English  English  13 Feb, 2023  Feb 03 2023      101   \n",
       "17599  Hollywood / English  English  13 Feb, 2023  Feb 03 2023      101   \n",
       "17643  Hollywood / English  English  13 Feb, 2023  Feb 03 2023      101   \n",
       "\n",
       "                                               storyline  \\\n",
       "41     Follows\\r\\n a New York City family hiding out ...   \n",
       "51     Follows\\r\\n a New York City family hiding out ...   \n",
       "85     Follows\\r\\n a New York City family hiding out ...   \n",
       "129    Follows\\r\\n a New York City family hiding out ...   \n",
       "173    Follows\\r\\n a New York City family hiding out ...   \n",
       "...                                                  ...   \n",
       "17467  Follows\\r\\n a New York City family hiding out ...   \n",
       "17511  Follows\\r\\n a New York City family hiding out ...   \n",
       "17555  Follows\\r\\n a New York City family hiding out ...   \n",
       "17599  Follows\\r\\n a New York City family hiding out ...   \n",
       "17643  Follows\\r\\n a New York City family hiding out ...   \n",
       "\n",
       "                      title   views           writer  \n",
       "41     Who Invited Charlie?  1676.0  Nicholas Schutt  \n",
       "51     Who Invited Charlie?  1677.0  Nicholas Schutt  \n",
       "85     Who Invited Charlie?  1678.0  Nicholas Schutt  \n",
       "129    Who Invited Charlie?  1679.0  Nicholas Schutt  \n",
       "173    Who Invited Charlie?  1680.0  Nicholas Schutt  \n",
       "...                     ...     ...              ...  \n",
       "17467  Who Invited Charlie?  2082.0  Nicholas Schutt  \n",
       "17511  Who Invited Charlie?  2083.0  Nicholas Schutt  \n",
       "17555  Who Invited Charlie?  2084.0  Nicholas Schutt  \n",
       "17599  Who Invited Charlie?  2085.0  Nicholas Schutt  \n",
       "17643  Who Invited Charlie?  2086.0  Nicholas Schutt  \n",
       "\n",
       "[402 rows x 14 columns]"
      ]
     },
     "execution_count": 17,
     "metadata": {},
     "output_type": "execute_result"
    }
   ],
   "source": [
    "df[df['id']==ids[1]]"
   ]
  },
  {
   "cell_type": "code",
   "execution_count": 18,
   "id": "00316d55",
   "metadata": {},
   "outputs": [
    {
     "data": {
      "text/html": [
       "<div>\n",
       "<style scoped>\n",
       "    .dataframe tbody tr th:only-of-type {\n",
       "        vertical-align: middle;\n",
       "    }\n",
       "\n",
       "    .dataframe tbody tr th {\n",
       "        vertical-align: top;\n",
       "    }\n",
       "\n",
       "    .dataframe thead th {\n",
       "        text-align: right;\n",
       "    }\n",
       "</style>\n",
       "<table border=\"1\" class=\"dataframe\">\n",
       "  <thead>\n",
       "    <tr style=\"text-align: right;\">\n",
       "      <th></th>\n",
       "      <th>imdb_rating</th>\n",
       "      <th>appropriate_for</th>\n",
       "      <th>director</th>\n",
       "      <th>downloads</th>\n",
       "      <th>id</th>\n",
       "      <th>industry</th>\n",
       "      <th>language</th>\n",
       "      <th>posted_date</th>\n",
       "      <th>release_date</th>\n",
       "      <th>run_time</th>\n",
       "      <th>storyline</th>\n",
       "      <th>title</th>\n",
       "      <th>views</th>\n",
       "      <th>writer</th>\n",
       "    </tr>\n",
       "  </thead>\n",
       "  <tbody>\n",
       "    <tr>\n",
       "      <th>63</th>\n",
       "      <td>NaN</td>\n",
       "      <td>NaN</td>\n",
       "      <td>NaN</td>\n",
       "      <td>309.0</td>\n",
       "      <td>371669</td>\n",
       "      <td>Wrestling</td>\n",
       "      <td>English</td>\n",
       "      <td>10 Feb, 2023</td>\n",
       "      <td>Feb 09 2023</td>\n",
       "      <td>NaN</td>\n",
       "      <td>NaN</td>\n",
       "      <td>TNA.Impact 2023-02-09</td>\n",
       "      <td>1337.0</td>\n",
       "      <td>NaN</td>\n",
       "    </tr>\n",
       "    <tr>\n",
       "      <th>17680</th>\n",
       "      <td>NaN</td>\n",
       "      <td>NaN</td>\n",
       "      <td>NaN</td>\n",
       "      <td>309.0</td>\n",
       "      <td>371669</td>\n",
       "      <td>Wrestling</td>\n",
       "      <td>English</td>\n",
       "      <td>10 Feb, 2023</td>\n",
       "      <td>Feb 09 2023</td>\n",
       "      <td>NaN</td>\n",
       "      <td>NaN</td>\n",
       "      <td>TNA.Impact 2023-02-09</td>\n",
       "      <td>1341.0</td>\n",
       "      <td>NaN</td>\n",
       "    </tr>\n",
       "    <tr>\n",
       "      <th>17718</th>\n",
       "      <td>NaN</td>\n",
       "      <td>NaN</td>\n",
       "      <td>NaN</td>\n",
       "      <td>309.0</td>\n",
       "      <td>371669</td>\n",
       "      <td>Wrestling</td>\n",
       "      <td>English</td>\n",
       "      <td>10 Feb, 2023</td>\n",
       "      <td>Feb 09 2023</td>\n",
       "      <td>NaN</td>\n",
       "      <td>NaN</td>\n",
       "      <td>TNA.Impact 2023-02-09</td>\n",
       "      <td>1342.0</td>\n",
       "      <td>NaN</td>\n",
       "    </tr>\n",
       "    <tr>\n",
       "      <th>17756</th>\n",
       "      <td>NaN</td>\n",
       "      <td>NaN</td>\n",
       "      <td>NaN</td>\n",
       "      <td>309.0</td>\n",
       "      <td>371669</td>\n",
       "      <td>Wrestling</td>\n",
       "      <td>English</td>\n",
       "      <td>10 Feb, 2023</td>\n",
       "      <td>Feb 09 2023</td>\n",
       "      <td>NaN</td>\n",
       "      <td>NaN</td>\n",
       "      <td>TNA.Impact 2023-02-09</td>\n",
       "      <td>1343.0</td>\n",
       "      <td>NaN</td>\n",
       "    </tr>\n",
       "    <tr>\n",
       "      <th>17794</th>\n",
       "      <td>NaN</td>\n",
       "      <td>NaN</td>\n",
       "      <td>NaN</td>\n",
       "      <td>309.0</td>\n",
       "      <td>371669</td>\n",
       "      <td>Wrestling</td>\n",
       "      <td>English</td>\n",
       "      <td>10 Feb, 2023</td>\n",
       "      <td>Feb 09 2023</td>\n",
       "      <td>NaN</td>\n",
       "      <td>NaN</td>\n",
       "      <td>TNA.Impact 2023-02-09</td>\n",
       "      <td>1344.0</td>\n",
       "      <td>NaN</td>\n",
       "    </tr>\n",
       "    <tr>\n",
       "      <th>...</th>\n",
       "      <td>...</td>\n",
       "      <td>...</td>\n",
       "      <td>...</td>\n",
       "      <td>...</td>\n",
       "      <td>...</td>\n",
       "      <td>...</td>\n",
       "      <td>...</td>\n",
       "      <td>...</td>\n",
       "      <td>...</td>\n",
       "      <td>...</td>\n",
       "      <td>...</td>\n",
       "      <td>...</td>\n",
       "      <td>...</td>\n",
       "      <td>...</td>\n",
       "    </tr>\n",
       "    <tr>\n",
       "      <th>20416</th>\n",
       "      <td>NaN</td>\n",
       "      <td>NaN</td>\n",
       "      <td>NaN</td>\n",
       "      <td>309.0</td>\n",
       "      <td>371669</td>\n",
       "      <td>Wrestling</td>\n",
       "      <td>English</td>\n",
       "      <td>10 Feb, 2023</td>\n",
       "      <td>Feb 09 2023</td>\n",
       "      <td>NaN</td>\n",
       "      <td>NaN</td>\n",
       "      <td>TNA.Impact 2023-02-09</td>\n",
       "      <td>1415.0</td>\n",
       "      <td>NaN</td>\n",
       "    </tr>\n",
       "    <tr>\n",
       "      <th>20454</th>\n",
       "      <td>NaN</td>\n",
       "      <td>NaN</td>\n",
       "      <td>NaN</td>\n",
       "      <td>309.0</td>\n",
       "      <td>371669</td>\n",
       "      <td>Wrestling</td>\n",
       "      <td>English</td>\n",
       "      <td>10 Feb, 2023</td>\n",
       "      <td>Feb 09 2023</td>\n",
       "      <td>NaN</td>\n",
       "      <td>NaN</td>\n",
       "      <td>TNA.Impact 2023-02-09</td>\n",
       "      <td>1416.0</td>\n",
       "      <td>NaN</td>\n",
       "    </tr>\n",
       "    <tr>\n",
       "      <th>20492</th>\n",
       "      <td>NaN</td>\n",
       "      <td>NaN</td>\n",
       "      <td>NaN</td>\n",
       "      <td>309.0</td>\n",
       "      <td>371669</td>\n",
       "      <td>Wrestling</td>\n",
       "      <td>English</td>\n",
       "      <td>10 Feb, 2023</td>\n",
       "      <td>Feb 09 2023</td>\n",
       "      <td>NaN</td>\n",
       "      <td>NaN</td>\n",
       "      <td>TNA.Impact 2023-02-09</td>\n",
       "      <td>1417.0</td>\n",
       "      <td>NaN</td>\n",
       "    </tr>\n",
       "    <tr>\n",
       "      <th>20530</th>\n",
       "      <td>NaN</td>\n",
       "      <td>NaN</td>\n",
       "      <td>NaN</td>\n",
       "      <td>309.0</td>\n",
       "      <td>371669</td>\n",
       "      <td>Wrestling</td>\n",
       "      <td>English</td>\n",
       "      <td>10 Feb, 2023</td>\n",
       "      <td>Feb 09 2023</td>\n",
       "      <td>NaN</td>\n",
       "      <td>NaN</td>\n",
       "      <td>TNA.Impact 2023-02-09</td>\n",
       "      <td>1418.0</td>\n",
       "      <td>NaN</td>\n",
       "    </tr>\n",
       "    <tr>\n",
       "      <th>20546</th>\n",
       "      <td>NaN</td>\n",
       "      <td>NaN</td>\n",
       "      <td>NaN</td>\n",
       "      <td>309.0</td>\n",
       "      <td>371669</td>\n",
       "      <td>Wrestling</td>\n",
       "      <td>English</td>\n",
       "      <td>10 Feb, 2023</td>\n",
       "      <td>Feb 09 2023</td>\n",
       "      <td>NaN</td>\n",
       "      <td>NaN</td>\n",
       "      <td>TNA.Impact 2023-02-09</td>\n",
       "      <td>1419.0</td>\n",
       "      <td>NaN</td>\n",
       "    </tr>\n",
       "  </tbody>\n",
       "</table>\n",
       "<p>78 rows × 14 columns</p>\n",
       "</div>"
      ],
      "text/plain": [
       "       imdb_rating appropriate_for director  downloads      id   industry  \\\n",
       "63             NaN             NaN      NaN      309.0  371669  Wrestling   \n",
       "17680          NaN             NaN      NaN      309.0  371669  Wrestling   \n",
       "17718          NaN             NaN      NaN      309.0  371669  Wrestling   \n",
       "17756          NaN             NaN      NaN      309.0  371669  Wrestling   \n",
       "17794          NaN             NaN      NaN      309.0  371669  Wrestling   \n",
       "...            ...             ...      ...        ...     ...        ...   \n",
       "20416          NaN             NaN      NaN      309.0  371669  Wrestling   \n",
       "20454          NaN             NaN      NaN      309.0  371669  Wrestling   \n",
       "20492          NaN             NaN      NaN      309.0  371669  Wrestling   \n",
       "20530          NaN             NaN      NaN      309.0  371669  Wrestling   \n",
       "20546          NaN             NaN      NaN      309.0  371669  Wrestling   \n",
       "\n",
       "      language   posted_date release_date run_time storyline  \\\n",
       "63     English  10 Feb, 2023  Feb 09 2023      NaN       NaN   \n",
       "17680  English  10 Feb, 2023  Feb 09 2023      NaN       NaN   \n",
       "17718  English  10 Feb, 2023  Feb 09 2023      NaN       NaN   \n",
       "17756  English  10 Feb, 2023  Feb 09 2023      NaN       NaN   \n",
       "17794  English  10 Feb, 2023  Feb 09 2023      NaN       NaN   \n",
       "...        ...           ...          ...      ...       ...   \n",
       "20416  English  10 Feb, 2023  Feb 09 2023      NaN       NaN   \n",
       "20454  English  10 Feb, 2023  Feb 09 2023      NaN       NaN   \n",
       "20492  English  10 Feb, 2023  Feb 09 2023      NaN       NaN   \n",
       "20530  English  10 Feb, 2023  Feb 09 2023      NaN       NaN   \n",
       "20546  English  10 Feb, 2023  Feb 09 2023      NaN       NaN   \n",
       "\n",
       "                       title   views writer  \n",
       "63     TNA.Impact 2023-02-09  1337.0    NaN  \n",
       "17680  TNA.Impact 2023-02-09  1341.0    NaN  \n",
       "17718  TNA.Impact 2023-02-09  1342.0    NaN  \n",
       "17756  TNA.Impact 2023-02-09  1343.0    NaN  \n",
       "17794  TNA.Impact 2023-02-09  1344.0    NaN  \n",
       "...                      ...     ...    ...  \n",
       "20416  TNA.Impact 2023-02-09  1415.0    NaN  \n",
       "20454  TNA.Impact 2023-02-09  1416.0    NaN  \n",
       "20492  TNA.Impact 2023-02-09  1417.0    NaN  \n",
       "20530  TNA.Impact 2023-02-09  1418.0    NaN  \n",
       "20546  TNA.Impact 2023-02-09  1419.0    NaN  \n",
       "\n",
       "[78 rows x 14 columns]"
      ]
     },
     "execution_count": 18,
     "metadata": {},
     "output_type": "execute_result"
    }
   ],
   "source": [
    "df[df['id']==ids[14]]"
   ]
  },
  {
   "cell_type": "code",
   "execution_count": 19,
   "id": "c525a939",
   "metadata": {
    "scrolled": true
   },
   "outputs": [
    {
     "data": {
      "text/html": [
       "<div>\n",
       "<style scoped>\n",
       "    .dataframe tbody tr th:only-of-type {\n",
       "        vertical-align: middle;\n",
       "    }\n",
       "\n",
       "    .dataframe tbody tr th {\n",
       "        vertical-align: top;\n",
       "    }\n",
       "\n",
       "    .dataframe thead th {\n",
       "        text-align: right;\n",
       "    }\n",
       "</style>\n",
       "<table border=\"1\" class=\"dataframe\">\n",
       "  <thead>\n",
       "    <tr style=\"text-align: right;\">\n",
       "      <th></th>\n",
       "      <th>imdb_rating</th>\n",
       "      <th>appropriate_for</th>\n",
       "      <th>director</th>\n",
       "      <th>downloads</th>\n",
       "      <th>id</th>\n",
       "      <th>industry</th>\n",
       "      <th>language</th>\n",
       "      <th>posted_date</th>\n",
       "      <th>release_date</th>\n",
       "      <th>run_time</th>\n",
       "      <th>storyline</th>\n",
       "      <th>title</th>\n",
       "      <th>views</th>\n",
       "      <th>writer</th>\n",
       "    </tr>\n",
       "  </thead>\n",
       "  <tbody>\n",
       "    <tr>\n",
       "      <th>60</th>\n",
       "      <td>5.5</td>\n",
       "      <td>NaN</td>\n",
       "      <td>Nadira Amrani</td>\n",
       "      <td>378.0</td>\n",
       "      <td>371671</td>\n",
       "      <td>Hollywood / English</td>\n",
       "      <td>English</td>\n",
       "      <td>10 Feb, 2023</td>\n",
       "      <td>Feb 07 2023</td>\n",
       "      <td>NaN</td>\n",
       "      <td>Bold\\r\\n and authentic drama set at an elite s...</td>\n",
       "      <td>Consent</td>\n",
       "      <td>4266.0</td>\n",
       "      <td>Emma Dennis-Edwards</td>\n",
       "    </tr>\n",
       "    <tr>\n",
       "      <th>8838</th>\n",
       "      <td>5.5</td>\n",
       "      <td>NaN</td>\n",
       "      <td>Nadira Amrani</td>\n",
       "      <td>378.0</td>\n",
       "      <td>371671</td>\n",
       "      <td>Hollywood / English</td>\n",
       "      <td>English</td>\n",
       "      <td>10 Feb, 2023</td>\n",
       "      <td>Feb 07 2023</td>\n",
       "      <td>NaN</td>\n",
       "      <td>Bold\\r\\n and authentic drama set at an elite s...</td>\n",
       "      <td>Consent</td>\n",
       "      <td>4270.0</td>\n",
       "      <td>Emma Dennis-Edwards</td>\n",
       "    </tr>\n",
       "    <tr>\n",
       "      <th>8882</th>\n",
       "      <td>5.5</td>\n",
       "      <td>NaN</td>\n",
       "      <td>Nadira Amrani</td>\n",
       "      <td>378.0</td>\n",
       "      <td>371671</td>\n",
       "      <td>Hollywood / English</td>\n",
       "      <td>English</td>\n",
       "      <td>10 Feb, 2023</td>\n",
       "      <td>Feb 07 2023</td>\n",
       "      <td>NaN</td>\n",
       "      <td>Bold\\r\\n and authentic drama set at an elite s...</td>\n",
       "      <td>Consent</td>\n",
       "      <td>4271.0</td>\n",
       "      <td>Emma Dennis-Edwards</td>\n",
       "    </tr>\n",
       "    <tr>\n",
       "      <th>8926</th>\n",
       "      <td>5.5</td>\n",
       "      <td>NaN</td>\n",
       "      <td>Nadira Amrani</td>\n",
       "      <td>378.0</td>\n",
       "      <td>371671</td>\n",
       "      <td>Hollywood / English</td>\n",
       "      <td>English</td>\n",
       "      <td>10 Feb, 2023</td>\n",
       "      <td>Feb 07 2023</td>\n",
       "      <td>NaN</td>\n",
       "      <td>Bold\\r\\n and authentic drama set at an elite s...</td>\n",
       "      <td>Consent</td>\n",
       "      <td>4272.0</td>\n",
       "      <td>Emma Dennis-Edwards</td>\n",
       "    </tr>\n",
       "    <tr>\n",
       "      <th>8970</th>\n",
       "      <td>5.5</td>\n",
       "      <td>NaN</td>\n",
       "      <td>Nadira Amrani</td>\n",
       "      <td>378.0</td>\n",
       "      <td>371671</td>\n",
       "      <td>Hollywood / English</td>\n",
       "      <td>English</td>\n",
       "      <td>10 Feb, 2023</td>\n",
       "      <td>Feb 07 2023</td>\n",
       "      <td>NaN</td>\n",
       "      <td>Bold\\r\\n and authentic drama set at an elite s...</td>\n",
       "      <td>Consent</td>\n",
       "      <td>4273.0</td>\n",
       "      <td>Emma Dennis-Edwards</td>\n",
       "    </tr>\n",
       "    <tr>\n",
       "      <th>...</th>\n",
       "      <td>...</td>\n",
       "      <td>...</td>\n",
       "      <td>...</td>\n",
       "      <td>...</td>\n",
       "      <td>...</td>\n",
       "      <td>...</td>\n",
       "      <td>...</td>\n",
       "      <td>...</td>\n",
       "      <td>...</td>\n",
       "      <td>...</td>\n",
       "      <td>...</td>\n",
       "      <td>...</td>\n",
       "      <td>...</td>\n",
       "      <td>...</td>\n",
       "    </tr>\n",
       "    <tr>\n",
       "      <th>17462</th>\n",
       "      <td>5.5</td>\n",
       "      <td>NaN</td>\n",
       "      <td>Nadira Amrani</td>\n",
       "      <td>378.0</td>\n",
       "      <td>371671</td>\n",
       "      <td>Hollywood / English</td>\n",
       "      <td>English</td>\n",
       "      <td>10 Feb, 2023</td>\n",
       "      <td>Feb 07 2023</td>\n",
       "      <td>NaN</td>\n",
       "      <td>Bold\\r\\n and authentic drama set at an elite s...</td>\n",
       "      <td>Consent</td>\n",
       "      <td>4468.0</td>\n",
       "      <td>Emma Dennis-Edwards</td>\n",
       "    </tr>\n",
       "    <tr>\n",
       "      <th>17506</th>\n",
       "      <td>5.5</td>\n",
       "      <td>NaN</td>\n",
       "      <td>Nadira Amrani</td>\n",
       "      <td>378.0</td>\n",
       "      <td>371671</td>\n",
       "      <td>Hollywood / English</td>\n",
       "      <td>English</td>\n",
       "      <td>10 Feb, 2023</td>\n",
       "      <td>Feb 07 2023</td>\n",
       "      <td>NaN</td>\n",
       "      <td>Bold\\r\\n and authentic drama set at an elite s...</td>\n",
       "      <td>Consent</td>\n",
       "      <td>4469.0</td>\n",
       "      <td>Emma Dennis-Edwards</td>\n",
       "    </tr>\n",
       "    <tr>\n",
       "      <th>17550</th>\n",
       "      <td>5.5</td>\n",
       "      <td>NaN</td>\n",
       "      <td>Nadira Amrani</td>\n",
       "      <td>378.0</td>\n",
       "      <td>371671</td>\n",
       "      <td>Hollywood / English</td>\n",
       "      <td>English</td>\n",
       "      <td>10 Feb, 2023</td>\n",
       "      <td>Feb 07 2023</td>\n",
       "      <td>NaN</td>\n",
       "      <td>Bold\\r\\n and authentic drama set at an elite s...</td>\n",
       "      <td>Consent</td>\n",
       "      <td>4470.0</td>\n",
       "      <td>Emma Dennis-Edwards</td>\n",
       "    </tr>\n",
       "    <tr>\n",
       "      <th>17594</th>\n",
       "      <td>5.5</td>\n",
       "      <td>NaN</td>\n",
       "      <td>Nadira Amrani</td>\n",
       "      <td>378.0</td>\n",
       "      <td>371671</td>\n",
       "      <td>Hollywood / English</td>\n",
       "      <td>English</td>\n",
       "      <td>10 Feb, 2023</td>\n",
       "      <td>Feb 07 2023</td>\n",
       "      <td>NaN</td>\n",
       "      <td>Bold\\r\\n and authentic drama set at an elite s...</td>\n",
       "      <td>Consent</td>\n",
       "      <td>4471.0</td>\n",
       "      <td>Emma Dennis-Edwards</td>\n",
       "    </tr>\n",
       "    <tr>\n",
       "      <th>17638</th>\n",
       "      <td>5.5</td>\n",
       "      <td>NaN</td>\n",
       "      <td>Nadira Amrani</td>\n",
       "      <td>378.0</td>\n",
       "      <td>371671</td>\n",
       "      <td>Hollywood / English</td>\n",
       "      <td>English</td>\n",
       "      <td>10 Feb, 2023</td>\n",
       "      <td>Feb 07 2023</td>\n",
       "      <td>NaN</td>\n",
       "      <td>Bold\\r\\n and authentic drama set at an elite s...</td>\n",
       "      <td>Consent</td>\n",
       "      <td>4472.0</td>\n",
       "      <td>Emma Dennis-Edwards</td>\n",
       "    </tr>\n",
       "  </tbody>\n",
       "</table>\n",
       "<p>202 rows × 14 columns</p>\n",
       "</div>"
      ],
      "text/plain": [
       "       imdb_rating appropriate_for       director  downloads      id  \\\n",
       "60             5.5             NaN  Nadira Amrani      378.0  371671   \n",
       "8838           5.5             NaN  Nadira Amrani      378.0  371671   \n",
       "8882           5.5             NaN  Nadira Amrani      378.0  371671   \n",
       "8926           5.5             NaN  Nadira Amrani      378.0  371671   \n",
       "8970           5.5             NaN  Nadira Amrani      378.0  371671   \n",
       "...            ...             ...            ...        ...     ...   \n",
       "17462          5.5             NaN  Nadira Amrani      378.0  371671   \n",
       "17506          5.5             NaN  Nadira Amrani      378.0  371671   \n",
       "17550          5.5             NaN  Nadira Amrani      378.0  371671   \n",
       "17594          5.5             NaN  Nadira Amrani      378.0  371671   \n",
       "17638          5.5             NaN  Nadira Amrani      378.0  371671   \n",
       "\n",
       "                  industry language   posted_date release_date run_time  \\\n",
       "60     Hollywood / English  English  10 Feb, 2023  Feb 07 2023      NaN   \n",
       "8838   Hollywood / English  English  10 Feb, 2023  Feb 07 2023      NaN   \n",
       "8882   Hollywood / English  English  10 Feb, 2023  Feb 07 2023      NaN   \n",
       "8926   Hollywood / English  English  10 Feb, 2023  Feb 07 2023      NaN   \n",
       "8970   Hollywood / English  English  10 Feb, 2023  Feb 07 2023      NaN   \n",
       "...                    ...      ...           ...          ...      ...   \n",
       "17462  Hollywood / English  English  10 Feb, 2023  Feb 07 2023      NaN   \n",
       "17506  Hollywood / English  English  10 Feb, 2023  Feb 07 2023      NaN   \n",
       "17550  Hollywood / English  English  10 Feb, 2023  Feb 07 2023      NaN   \n",
       "17594  Hollywood / English  English  10 Feb, 2023  Feb 07 2023      NaN   \n",
       "17638  Hollywood / English  English  10 Feb, 2023  Feb 07 2023      NaN   \n",
       "\n",
       "                                               storyline    title   views  \\\n",
       "60     Bold\\r\\n and authentic drama set at an elite s...  Consent  4266.0   \n",
       "8838   Bold\\r\\n and authentic drama set at an elite s...  Consent  4270.0   \n",
       "8882   Bold\\r\\n and authentic drama set at an elite s...  Consent  4271.0   \n",
       "8926   Bold\\r\\n and authentic drama set at an elite s...  Consent  4272.0   \n",
       "8970   Bold\\r\\n and authentic drama set at an elite s...  Consent  4273.0   \n",
       "...                                                  ...      ...     ...   \n",
       "17462  Bold\\r\\n and authentic drama set at an elite s...  Consent  4468.0   \n",
       "17506  Bold\\r\\n and authentic drama set at an elite s...  Consent  4469.0   \n",
       "17550  Bold\\r\\n and authentic drama set at an elite s...  Consent  4470.0   \n",
       "17594  Bold\\r\\n and authentic drama set at an elite s...  Consent  4471.0   \n",
       "17638  Bold\\r\\n and authentic drama set at an elite s...  Consent  4472.0   \n",
       "\n",
       "                    writer  \n",
       "60     Emma Dennis-Edwards  \n",
       "8838   Emma Dennis-Edwards  \n",
       "8882   Emma Dennis-Edwards  \n",
       "8926   Emma Dennis-Edwards  \n",
       "8970   Emma Dennis-Edwards  \n",
       "...                    ...  \n",
       "17462  Emma Dennis-Edwards  \n",
       "17506  Emma Dennis-Edwards  \n",
       "17550  Emma Dennis-Edwards  \n",
       "17594  Emma Dennis-Edwards  \n",
       "17638  Emma Dennis-Edwards  \n",
       "\n",
       "[202 rows x 14 columns]"
      ]
     },
     "execution_count": 19,
     "metadata": {},
     "output_type": "execute_result"
    }
   ],
   "source": [
    "df[df['id']==ids[5]]"
   ]
  },
  {
   "cell_type": "code",
   "execution_count": 20,
   "id": "5dba49aa",
   "metadata": {},
   "outputs": [
    {
     "data": {
      "text/html": [
       "<div>\n",
       "<style scoped>\n",
       "    .dataframe tbody tr th:only-of-type {\n",
       "        vertical-align: middle;\n",
       "    }\n",
       "\n",
       "    .dataframe tbody tr th {\n",
       "        vertical-align: top;\n",
       "    }\n",
       "\n",
       "    .dataframe thead th {\n",
       "        text-align: right;\n",
       "    }\n",
       "</style>\n",
       "<table border=\"1\" class=\"dataframe\">\n",
       "  <thead>\n",
       "    <tr style=\"text-align: right;\">\n",
       "      <th></th>\n",
       "      <th>imdb_rating</th>\n",
       "      <th>appropriate_for</th>\n",
       "      <th>director</th>\n",
       "      <th>downloads</th>\n",
       "      <th>id</th>\n",
       "      <th>industry</th>\n",
       "      <th>language</th>\n",
       "      <th>posted_date</th>\n",
       "      <th>release_date</th>\n",
       "      <th>run_time</th>\n",
       "      <th>storyline</th>\n",
       "      <th>title</th>\n",
       "      <th>views</th>\n",
       "      <th>writer</th>\n",
       "    </tr>\n",
       "  </thead>\n",
       "  <tbody>\n",
       "    <tr>\n",
       "      <th>20469</th>\n",
       "      <td>6.9</td>\n",
       "      <td>NaN</td>\n",
       "      <td>Alfred L. Werker, Hamilton Luske</td>\n",
       "      <td>494.0</td>\n",
       "      <td>1072</td>\n",
       "      <td>Anime / Kids</td>\n",
       "      <td>English</td>\n",
       "      <td>01 Jan, 1975</td>\n",
       "      <td>Jun 17 1941</td>\n",
       "      <td>1h 14min</td>\n",
       "      <td>Humorist Robert Benchley attempts to find Walt...</td>\n",
       "      <td>The Reluctant Dragon</td>\n",
       "      <td>3644.0</td>\n",
       "      <td>Kenneth Grahame, Ted Sears</td>\n",
       "    </tr>\n",
       "    <tr>\n",
       "      <th>20504</th>\n",
       "      <td>6.9</td>\n",
       "      <td>NaN</td>\n",
       "      <td>Alfred L. Werker, Hamilton Luske</td>\n",
       "      <td>494.0</td>\n",
       "      <td>1072</td>\n",
       "      <td>Anime / Kids</td>\n",
       "      <td>English</td>\n",
       "      <td>01 Jan, 1975</td>\n",
       "      <td>Jun 17 1941</td>\n",
       "      <td>1h 14min</td>\n",
       "      <td>Humorist Robert Benchley attempts to find Walt...</td>\n",
       "      <td>The Reluctant Dragon</td>\n",
       "      <td>3645.0</td>\n",
       "      <td>Kenneth Grahame, Ted Sears</td>\n",
       "    </tr>\n",
       "  </tbody>\n",
       "</table>\n",
       "</div>"
      ],
      "text/plain": [
       "       imdb_rating appropriate_for                          director  \\\n",
       "20469          6.9             NaN  Alfred L. Werker, Hamilton Luske   \n",
       "20504          6.9             NaN  Alfred L. Werker, Hamilton Luske   \n",
       "\n",
       "       downloads    id      industry language   posted_date release_date  \\\n",
       "20469      494.0  1072  Anime / Kids  English  01 Jan, 1975  Jun 17 1941   \n",
       "20504      494.0  1072  Anime / Kids  English  01 Jan, 1975  Jun 17 1941   \n",
       "\n",
       "       run_time                                          storyline  \\\n",
       "20469  1h 14min  Humorist Robert Benchley attempts to find Walt...   \n",
       "20504  1h 14min  Humorist Robert Benchley attempts to find Walt...   \n",
       "\n",
       "                      title   views                      writer  \n",
       "20469  The Reluctant Dragon  3644.0  Kenneth Grahame, Ted Sears  \n",
       "20504  The Reluctant Dragon  3645.0  Kenneth Grahame, Ted Sears  "
      ]
     },
     "execution_count": 20,
     "metadata": {},
     "output_type": "execute_result"
    }
   ],
   "source": [
    "df[df['id']==ids[106]]"
   ]
  },
  {
   "cell_type": "markdown",
   "id": "21538d65",
   "metadata": {},
   "source": [
    "这些重复有相同id的记录，不同的地方为views 的不同<br>\n",
    "这些数据几乎是线性的 <br>\n",
    "可能是同一个电影的不同的时间的记录"
   ]
  },
  {
   "cell_type": "markdown",
   "id": "122c0f3d",
   "metadata": {},
   "source": [
    "（2）title"
   ]
  },
  {
   "cell_type": "code",
   "execution_count": 21,
   "id": "91a8d1b4",
   "metadata": {},
   "outputs": [
    {
     "name": "stdout",
     "output_type": "stream",
     "text": [
      "title的不同取值总数： 16572\n",
      "title 的总条数： 20548\n"
     ]
    }
   ],
   "source": [
    "print(\"title的不同取值总数：\", df['title'].nunique())\n",
    "print('title 的总条数：',len(df['title']))"
   ]
  },
  {
   "cell_type": "markdown",
   "id": "af2b3c74",
   "metadata": {},
   "source": [
    "id的不同取值： 17086  >  title的不同取值总数： 16572 <br>\n",
    "说明有些电影的名字相同，但不是同一个电影"
   ]
  },
  {
   "cell_type": "markdown",
   "id": "4872a00c",
   "metadata": {},
   "source": [
    "（3）storyline"
   ]
  },
  {
   "cell_type": "code",
   "execution_count": 22,
   "id": "b080af91",
   "metadata": {},
   "outputs": [
    {
     "name": "stdout",
     "output_type": "stream",
     "text": [
      "storyline的不同取值总数： 15748\n",
      "storyline 的总条数： 20548\n"
     ]
    }
   ],
   "source": [
    "print(\"storyline的不同取值总数：\", df['storyline'].nunique())\n",
    "print('storyline 的总条数：',len(df['storyline']))"
   ]
  },
  {
   "cell_type": "markdown",
   "id": "469db5ed",
   "metadata": {},
   "source": [
    "id的不同取值： 17086 > title的不同取值总数： 16572 > storyline的不同取值总数： 15748 <br>\n",
    "说明：不同的电影可能有相同的storyline 和 title"
   ]
  },
  {
   "cell_type": "markdown",
   "id": "f06801be",
   "metadata": {},
   "source": [
    "如果认为这些除了views都相同的记录是不同时间内，对同一电影的记录，那应该保留最后记录，将其他的记录删除"
   ]
  },
  {
   "cell_type": "code",
   "execution_count": 23,
   "id": "c71264a8",
   "metadata": {},
   "outputs": [],
   "source": [
    "for id0 in ids:\n",
    "    max_view = max(df[df['id']==id0]['views']) \n",
    "    \n",
    "    df.drop((df[(df['id']==id0) & (df['views'] < max_view)]).index, inplace = True)\n",
    "    "
   ]
  },
  {
   "cell_type": "code",
   "execution_count": 24,
   "id": "33a1b2b8",
   "metadata": {},
   "outputs": [
    {
     "data": {
      "text/html": [
       "<div>\n",
       "<style scoped>\n",
       "    .dataframe tbody tr th:only-of-type {\n",
       "        vertical-align: middle;\n",
       "    }\n",
       "\n",
       "    .dataframe tbody tr th {\n",
       "        vertical-align: top;\n",
       "    }\n",
       "\n",
       "    .dataframe thead th {\n",
       "        text-align: right;\n",
       "    }\n",
       "</style>\n",
       "<table border=\"1\" class=\"dataframe\">\n",
       "  <thead>\n",
       "    <tr style=\"text-align: right;\">\n",
       "      <th></th>\n",
       "      <th>imdb_rating</th>\n",
       "      <th>appropriate_for</th>\n",
       "      <th>director</th>\n",
       "      <th>downloads</th>\n",
       "      <th>id</th>\n",
       "      <th>industry</th>\n",
       "      <th>language</th>\n",
       "      <th>posted_date</th>\n",
       "      <th>release_date</th>\n",
       "      <th>run_time</th>\n",
       "      <th>storyline</th>\n",
       "      <th>title</th>\n",
       "      <th>views</th>\n",
       "      <th>writer</th>\n",
       "    </tr>\n",
       "  </thead>\n",
       "  <tbody>\n",
       "    <tr>\n",
       "      <th>17643</th>\n",
       "      <td>8.8</td>\n",
       "      <td>NaN</td>\n",
       "      <td>Xavier Manrique</td>\n",
       "      <td>75.0</td>\n",
       "      <td>371744</td>\n",
       "      <td>Hollywood / English</td>\n",
       "      <td>English</td>\n",
       "      <td>13 Feb, 2023</td>\n",
       "      <td>Feb 03 2023</td>\n",
       "      <td>101</td>\n",
       "      <td>Follows\\r\\n a New York City family hiding out ...</td>\n",
       "      <td>Who Invited Charlie?</td>\n",
       "      <td>2086.0</td>\n",
       "      <td>Nicholas Schutt</td>\n",
       "    </tr>\n",
       "  </tbody>\n",
       "</table>\n",
       "</div>"
      ],
      "text/plain": [
       "       imdb_rating appropriate_for         director  downloads      id  \\\n",
       "17643          8.8             NaN  Xavier Manrique       75.0  371744   \n",
       "\n",
       "                  industry language   posted_date release_date run_time  \\\n",
       "17643  Hollywood / English  English  13 Feb, 2023  Feb 03 2023      101   \n",
       "\n",
       "                                               storyline  \\\n",
       "17643  Follows\\r\\n a New York City family hiding out ...   \n",
       "\n",
       "                      title   views           writer  \n",
       "17643  Who Invited Charlie?  2086.0  Nicholas Schutt  "
      ]
     },
     "execution_count": 24,
     "metadata": {},
     "output_type": "execute_result"
    }
   ],
   "source": [
    "df[df['id']==ids[1]]"
   ]
  },
  {
   "cell_type": "code",
   "execution_count": 25,
   "id": "e7de31ae",
   "metadata": {
    "scrolled": true
   },
   "outputs": [
    {
     "data": {
      "text/html": [
       "<div>\n",
       "<style scoped>\n",
       "    .dataframe tbody tr th:only-of-type {\n",
       "        vertical-align: middle;\n",
       "    }\n",
       "\n",
       "    .dataframe tbody tr th {\n",
       "        vertical-align: top;\n",
       "    }\n",
       "\n",
       "    .dataframe thead th {\n",
       "        text-align: right;\n",
       "    }\n",
       "</style>\n",
       "<table border=\"1\" class=\"dataframe\">\n",
       "  <thead>\n",
       "    <tr style=\"text-align: right;\">\n",
       "      <th></th>\n",
       "      <th>imdb_rating</th>\n",
       "      <th>appropriate_for</th>\n",
       "      <th>director</th>\n",
       "      <th>downloads</th>\n",
       "      <th>id</th>\n",
       "      <th>industry</th>\n",
       "      <th>language</th>\n",
       "      <th>posted_date</th>\n",
       "      <th>release_date</th>\n",
       "      <th>run_time</th>\n",
       "      <th>storyline</th>\n",
       "      <th>title</th>\n",
       "      <th>views</th>\n",
       "      <th>writer</th>\n",
       "    </tr>\n",
       "  </thead>\n",
       "  <tbody>\n",
       "    <tr>\n",
       "      <th>1</th>\n",
       "      <td>6.4</td>\n",
       "      <td>TV-PG</td>\n",
       "      <td>Paul Ziller</td>\n",
       "      <td>73.0</td>\n",
       "      <td>372091</td>\n",
       "      <td>Hollywood / English</td>\n",
       "      <td>English</td>\n",
       "      <td>20 Feb, 2023</td>\n",
       "      <td>Feb 05 2023</td>\n",
       "      <td>84</td>\n",
       "      <td>Caterer\\r\\n Goldy Berry reunites with detectiv...</td>\n",
       "      <td>Grilling Season: A Curious Caterer Mystery</td>\n",
       "      <td>1002.0</td>\n",
       "      <td>John Christian Plummer</td>\n",
       "    </tr>\n",
       "    <tr>\n",
       "      <th>2</th>\n",
       "      <td>5.2</td>\n",
       "      <td>R</td>\n",
       "      <td>Ben Wheatley</td>\n",
       "      <td>1427.0</td>\n",
       "      <td>343381</td>\n",
       "      <td>Hollywood / English</td>\n",
       "      <td>English,Hindi</td>\n",
       "      <td>20 Apr, 2021</td>\n",
       "      <td>Jun 18 2021</td>\n",
       "      <td>1h 47min</td>\n",
       "      <td>As the world searches for a cure to a disastro...</td>\n",
       "      <td>In the Earth</td>\n",
       "      <td>14419.0</td>\n",
       "      <td>Ben Wheatley</td>\n",
       "    </tr>\n",
       "    <tr>\n",
       "      <th>4</th>\n",
       "      <td>4.6</td>\n",
       "      <td>NaN</td>\n",
       "      <td>Shaji Kailas</td>\n",
       "      <td>657.0</td>\n",
       "      <td>372089</td>\n",
       "      <td>Tollywood</td>\n",
       "      <td>Hindi</td>\n",
       "      <td>20 Feb, 2023</td>\n",
       "      <td>Jan 26 2023</td>\n",
       "      <td>122</td>\n",
       "      <td>A man named Kalidas gets stranded due to the p...</td>\n",
       "      <td>Alone</td>\n",
       "      <td>2438.0</td>\n",
       "      <td>Rajesh Jayaraman</td>\n",
       "    </tr>\n",
       "    <tr>\n",
       "      <th>5</th>\n",
       "      <td>5.4</td>\n",
       "      <td>NaN</td>\n",
       "      <td>Srinivas Gavireddy</td>\n",
       "      <td>746.0</td>\n",
       "      <td>372088</td>\n",
       "      <td>Tollywood</td>\n",
       "      <td>Hindi</td>\n",
       "      <td>20 Feb, 2023</td>\n",
       "      <td>Nov 26 2021</td>\n",
       "      <td>131</td>\n",
       "      <td>Bagaram,\\r\\n after inheriting his grandfather'...</td>\n",
       "      <td>Anubhavinchu Raja</td>\n",
       "      <td>2940.0</td>\n",
       "      <td>Srinivas Gavireddy, Mayukh Adithya</td>\n",
       "    </tr>\n",
       "    <tr>\n",
       "      <th>6</th>\n",
       "      <td>NaN</td>\n",
       "      <td>TV-PG</td>\n",
       "      <td>NaN</td>\n",
       "      <td>5332.0</td>\n",
       "      <td>372059</td>\n",
       "      <td>Wrestling</td>\n",
       "      <td>English</td>\n",
       "      <td>19 Feb, 2023</td>\n",
       "      <td>Feb 18 2023</td>\n",
       "      <td>200</td>\n",
       "      <td>Undisputed\\r\\n WWE Universal title: Reigns vs ...</td>\n",
       "      <td>WWE Elimination Chamber</td>\n",
       "      <td>11978.0</td>\n",
       "      <td>NaN</td>\n",
       "    </tr>\n",
       "    <tr>\n",
       "      <th>...</th>\n",
       "      <td>...</td>\n",
       "      <td>...</td>\n",
       "      <td>...</td>\n",
       "      <td>...</td>\n",
       "      <td>...</td>\n",
       "      <td>...</td>\n",
       "      <td>...</td>\n",
       "      <td>...</td>\n",
       "      <td>...</td>\n",
       "      <td>...</td>\n",
       "      <td>...</td>\n",
       "      <td>...</td>\n",
       "      <td>...</td>\n",
       "      <td>...</td>\n",
       "    </tr>\n",
       "    <tr>\n",
       "      <th>20543</th>\n",
       "      <td>NaN</td>\n",
       "      <td>NaN</td>\n",
       "      <td>NaN</td>\n",
       "      <td>1998.0</td>\n",
       "      <td>28957</td>\n",
       "      <td>Bollywood / Indian</td>\n",
       "      <td>Hindi</td>\n",
       "      <td>01 Jan, 1970</td>\n",
       "      <td>Mar 13 1959</td>\n",
       "      <td>NaN</td>\n",
       "      <td>NaN</td>\n",
       "      <td>Bhai-Bahen</td>\n",
       "      <td>6219.0</td>\n",
       "      <td>NaN</td>\n",
       "    </tr>\n",
       "    <tr>\n",
       "      <th>20544</th>\n",
       "      <td>7.7</td>\n",
       "      <td>NaN</td>\n",
       "      <td>Bimal Roy</td>\n",
       "      <td>6080.0</td>\n",
       "      <td>28958</td>\n",
       "      <td>Bollywood / Indian</td>\n",
       "      <td>Hindi</td>\n",
       "      <td>01 Jan, 1970</td>\n",
       "      <td>May 13 1955</td>\n",
       "      <td>159</td>\n",
       "      <td>Devdas and Parvati had been inseparable as chi...</td>\n",
       "      <td>Devdas</td>\n",
       "      <td>16376.0</td>\n",
       "      <td>Rajinder Singh Bedi, Saratchandra Chatterjee, ...</td>\n",
       "    </tr>\n",
       "    <tr>\n",
       "      <th>20545</th>\n",
       "      <td>8.0</td>\n",
       "      <td>NaN</td>\n",
       "      <td>NaN</td>\n",
       "      <td>3276.0</td>\n",
       "      <td>30459</td>\n",
       "      <td>Bollywood / Indian</td>\n",
       "      <td>Hindi</td>\n",
       "      <td>01 Jan, 1970</td>\n",
       "      <td>Mar 28 1958</td>\n",
       "      <td>1h 50min</td>\n",
       "      <td>While driving his car on a rainy night, Anand'...</td>\n",
       "      <td>Madhumati</td>\n",
       "      <td>7220.0</td>\n",
       "      <td>NaN</td>\n",
       "    </tr>\n",
       "    <tr>\n",
       "      <th>20546</th>\n",
       "      <td>NaN</td>\n",
       "      <td>NaN</td>\n",
       "      <td>NaN</td>\n",
       "      <td>309.0</td>\n",
       "      <td>371669</td>\n",
       "      <td>Wrestling</td>\n",
       "      <td>English</td>\n",
       "      <td>10 Feb, 2023</td>\n",
       "      <td>Feb 09 2023</td>\n",
       "      <td>NaN</td>\n",
       "      <td>NaN</td>\n",
       "      <td>TNA.Impact 2023-02-09</td>\n",
       "      <td>1419.0</td>\n",
       "      <td>NaN</td>\n",
       "    </tr>\n",
       "    <tr>\n",
       "      <th>20547</th>\n",
       "      <td>NaN</td>\n",
       "      <td>NaN</td>\n",
       "      <td>NaN</td>\n",
       "      <td>2613.0</td>\n",
       "      <td>371816</td>\n",
       "      <td>Wrestling</td>\n",
       "      <td>English</td>\n",
       "      <td>14 Feb, 2023</td>\n",
       "      <td>Feb 13 2023</td>\n",
       "      <td>NaN</td>\n",
       "      <td>NaN</td>\n",
       "      <td>WWE Raw 2023-02-13</td>\n",
       "      <td>6697.0</td>\n",
       "      <td>NaN</td>\n",
       "    </tr>\n",
       "  </tbody>\n",
       "</table>\n",
       "<p>17086 rows × 14 columns</p>\n",
       "</div>"
      ],
      "text/plain": [
       "       imdb_rating appropriate_for            director  downloads      id  \\\n",
       "1              6.4           TV-PG         Paul Ziller       73.0  372091   \n",
       "2              5.2               R        Ben Wheatley     1427.0  343381   \n",
       "4              4.6             NaN        Shaji Kailas      657.0  372089   \n",
       "5              5.4             NaN  Srinivas Gavireddy      746.0  372088   \n",
       "6              NaN           TV-PG                 NaN     5332.0  372059   \n",
       "...            ...             ...                 ...        ...     ...   \n",
       "20543          NaN             NaN                 NaN     1998.0   28957   \n",
       "20544          7.7             NaN           Bimal Roy     6080.0   28958   \n",
       "20545          8.0             NaN                 NaN     3276.0   30459   \n",
       "20546          NaN             NaN                 NaN      309.0  371669   \n",
       "20547          NaN             NaN                 NaN     2613.0  371816   \n",
       "\n",
       "                  industry       language   posted_date release_date  \\\n",
       "1      Hollywood / English        English  20 Feb, 2023  Feb 05 2023   \n",
       "2      Hollywood / English  English,Hindi  20 Apr, 2021  Jun 18 2021   \n",
       "4                Tollywood          Hindi  20 Feb, 2023  Jan 26 2023   \n",
       "5                Tollywood          Hindi  20 Feb, 2023  Nov 26 2021   \n",
       "6                Wrestling        English  19 Feb, 2023  Feb 18 2023   \n",
       "...                    ...            ...           ...          ...   \n",
       "20543   Bollywood / Indian          Hindi  01 Jan, 1970  Mar 13 1959   \n",
       "20544   Bollywood / Indian          Hindi  01 Jan, 1970  May 13 1955   \n",
       "20545   Bollywood / Indian          Hindi  01 Jan, 1970  Mar 28 1958   \n",
       "20546            Wrestling        English  10 Feb, 2023  Feb 09 2023   \n",
       "20547            Wrestling        English  14 Feb, 2023  Feb 13 2023   \n",
       "\n",
       "       run_time                                          storyline  \\\n",
       "1            84  Caterer\\r\\n Goldy Berry reunites with detectiv...   \n",
       "2      1h 47min  As the world searches for a cure to a disastro...   \n",
       "4           122  A man named Kalidas gets stranded due to the p...   \n",
       "5           131  Bagaram,\\r\\n after inheriting his grandfather'...   \n",
       "6           200  Undisputed\\r\\n WWE Universal title: Reigns vs ...   \n",
       "...         ...                                                ...   \n",
       "20543       NaN                                                NaN   \n",
       "20544       159  Devdas and Parvati had been inseparable as chi...   \n",
       "20545  1h 50min  While driving his car on a rainy night, Anand'...   \n",
       "20546       NaN                                                NaN   \n",
       "20547       NaN                                                NaN   \n",
       "\n",
       "                                            title    views  \\\n",
       "1      Grilling Season: A Curious Caterer Mystery   1002.0   \n",
       "2                                    In the Earth  14419.0   \n",
       "4                                           Alone   2438.0   \n",
       "5                               Anubhavinchu Raja   2940.0   \n",
       "6                         WWE Elimination Chamber  11978.0   \n",
       "...                                           ...      ...   \n",
       "20543                                  Bhai-Bahen   6219.0   \n",
       "20544                                      Devdas  16376.0   \n",
       "20545                                   Madhumati   7220.0   \n",
       "20546                       TNA.Impact 2023-02-09   1419.0   \n",
       "20547                          WWE Raw 2023-02-13   6697.0   \n",
       "\n",
       "                                                  writer  \n",
       "1                                 John Christian Plummer  \n",
       "2                                           Ben Wheatley  \n",
       "4                                       Rajesh Jayaraman  \n",
       "5                     Srinivas Gavireddy, Mayukh Adithya  \n",
       "6                                                    NaN  \n",
       "...                                                  ...  \n",
       "20543                                                NaN  \n",
       "20544  Rajinder Singh Bedi, Saratchandra Chatterjee, ...  \n",
       "20545                                                NaN  \n",
       "20546                                                NaN  \n",
       "20547                                                NaN  \n",
       "\n",
       "[17086 rows x 14 columns]"
      ]
     },
     "execution_count": 25,
     "metadata": {},
     "output_type": "execute_result"
    }
   ],
   "source": [
    "df"
   ]
  },
  {
   "cell_type": "code",
   "execution_count": 26,
   "id": "0ef528bb",
   "metadata": {},
   "outputs": [
    {
     "data": {
      "text/html": [
       "<div>\n",
       "<style scoped>\n",
       "    .dataframe tbody tr th:only-of-type {\n",
       "        vertical-align: middle;\n",
       "    }\n",
       "\n",
       "    .dataframe tbody tr th {\n",
       "        vertical-align: top;\n",
       "    }\n",
       "\n",
       "    .dataframe thead th {\n",
       "        text-align: right;\n",
       "    }\n",
       "</style>\n",
       "<table border=\"1\" class=\"dataframe\">\n",
       "  <thead>\n",
       "    <tr style=\"text-align: right;\">\n",
       "      <th></th>\n",
       "      <th>dtype</th>\n",
       "      <th>specimen</th>\n",
       "      <th>nunique</th>\n",
       "      <th>null_count</th>\n",
       "      <th>null_share</th>\n",
       "    </tr>\n",
       "  </thead>\n",
       "  <tbody>\n",
       "    <tr>\n",
       "      <th>imdb_rating</th>\n",
       "      <td>float64</td>\n",
       "      <td>6.4</td>\n",
       "      <td>85</td>\n",
       "      <td>477</td>\n",
       "      <td>2.79%</td>\n",
       "    </tr>\n",
       "    <tr>\n",
       "      <th>appropriate_for</th>\n",
       "      <td>object</td>\n",
       "      <td>TV-PG</td>\n",
       "      <td>21</td>\n",
       "      <td>7277</td>\n",
       "      <td>42.59%</td>\n",
       "    </tr>\n",
       "    <tr>\n",
       "      <th>director</th>\n",
       "      <td>object</td>\n",
       "      <td>Paul Ziller</td>\n",
       "      <td>9672</td>\n",
       "      <td>1566</td>\n",
       "      <td>9.17%</td>\n",
       "    </tr>\n",
       "    <tr>\n",
       "      <th>downloads</th>\n",
       "      <td>float64</td>\n",
       "      <td>73.0</td>\n",
       "      <td>10479</td>\n",
       "      <td>1</td>\n",
       "      <td>0.01%</td>\n",
       "    </tr>\n",
       "    <tr>\n",
       "      <th>id</th>\n",
       "      <td>object</td>\n",
       "      <td>372091</td>\n",
       "      <td>17086</td>\n",
       "      <td>0</td>\n",
       "      <td>0.00%</td>\n",
       "    </tr>\n",
       "    <tr>\n",
       "      <th>industry</th>\n",
       "      <td>object</td>\n",
       "      <td>Hollywood / English</td>\n",
       "      <td>10</td>\n",
       "      <td>1</td>\n",
       "      <td>0.01%</td>\n",
       "    </tr>\n",
       "    <tr>\n",
       "      <th>language</th>\n",
       "      <td>object</td>\n",
       "      <td>English</td>\n",
       "      <td>1168</td>\n",
       "      <td>534</td>\n",
       "      <td>3.13%</td>\n",
       "    </tr>\n",
       "    <tr>\n",
       "      <th>posted_date</th>\n",
       "      <td>object</td>\n",
       "      <td>20 Feb, 2023</td>\n",
       "      <td>4123</td>\n",
       "      <td>1</td>\n",
       "      <td>0.01%</td>\n",
       "    </tr>\n",
       "    <tr>\n",
       "      <th>release_date</th>\n",
       "      <td>object</td>\n",
       "      <td>Feb 05 2023</td>\n",
       "      <td>4886</td>\n",
       "      <td>1</td>\n",
       "      <td>0.01%</td>\n",
       "    </tr>\n",
       "    <tr>\n",
       "      <th>run_time</th>\n",
       "      <td>object</td>\n",
       "      <td>84</td>\n",
       "      <td>415</td>\n",
       "      <td>1000</td>\n",
       "      <td>5.85%</td>\n",
       "    </tr>\n",
       "    <tr>\n",
       "      <th>storyline</th>\n",
       "      <td>object</td>\n",
       "      <td>Caterer\\r\\n Goldy Berry reunites with detectiv...</td>\n",
       "      <td>15748</td>\n",
       "      <td>1322</td>\n",
       "      <td>7.74%</td>\n",
       "    </tr>\n",
       "    <tr>\n",
       "      <th>title</th>\n",
       "      <td>object</td>\n",
       "      <td>Grilling Season: A Curious Caterer Mystery</td>\n",
       "      <td>16572</td>\n",
       "      <td>1</td>\n",
       "      <td>0.01%</td>\n",
       "    </tr>\n",
       "    <tr>\n",
       "      <th>views</th>\n",
       "      <td>float64</td>\n",
       "      <td>1002.0</td>\n",
       "      <td>14747</td>\n",
       "      <td>1</td>\n",
       "      <td>0.01%</td>\n",
       "    </tr>\n",
       "    <tr>\n",
       "      <th>writer</th>\n",
       "      <td>object</td>\n",
       "      <td>John Christian Plummer</td>\n",
       "      <td>13603</td>\n",
       "      <td>1820</td>\n",
       "      <td>10.65%</td>\n",
       "    </tr>\n",
       "  </tbody>\n",
       "</table>\n",
       "</div>"
      ],
      "text/plain": [
       "                   dtype                                           specimen  \\\n",
       "imdb_rating      float64                                                6.4   \n",
       "appropriate_for   object                                              TV-PG   \n",
       "director          object                                        Paul Ziller   \n",
       "downloads        float64                                               73.0   \n",
       "id                object                                             372091   \n",
       "industry          object                                Hollywood / English   \n",
       "language          object                                            English   \n",
       "posted_date       object                                       20 Feb, 2023   \n",
       "release_date      object                                        Feb 05 2023   \n",
       "run_time          object                                                 84   \n",
       "storyline         object  Caterer\\r\\n Goldy Berry reunites with detectiv...   \n",
       "title             object         Grilling Season: A Curious Caterer Mystery   \n",
       "views            float64                                             1002.0   \n",
       "writer            object                             John Christian Plummer   \n",
       "\n",
       "                 nunique  null_count null_share  \n",
       "imdb_rating           85         477      2.79%  \n",
       "appropriate_for       21        7277     42.59%  \n",
       "director            9672        1566      9.17%  \n",
       "downloads          10479           1      0.01%  \n",
       "id                 17086           0      0.00%  \n",
       "industry              10           1      0.01%  \n",
       "language            1168         534      3.13%  \n",
       "posted_date         4123           1      0.01%  \n",
       "release_date        4886           1      0.01%  \n",
       "run_time             415        1000      5.85%  \n",
       "storyline          15748        1322      7.74%  \n",
       "title              16572           1      0.01%  \n",
       "views              14747           1      0.01%  \n",
       "writer             13603        1820     10.65%  "
      ]
     },
     "execution_count": 26,
     "metadata": {},
     "output_type": "execute_result"
    }
   ],
   "source": [
    "df_dtype(df)"
   ]
  },
  {
   "cell_type": "markdown",
   "id": "61de5ff1",
   "metadata": {},
   "source": [
    "(4)views"
   ]
  },
  {
   "cell_type": "code",
   "execution_count": 27,
   "id": "000b7d98",
   "metadata": {
    "scrolled": true
   },
   "outputs": [
    {
     "data": {
      "text/plain": [
       "12350.0     5\n",
       "6259.0      5\n",
       "5603.0      5\n",
       "17668.0     4\n",
       "10661.0     4\n",
       "           ..\n",
       "14978.0     1\n",
       "37646.0     1\n",
       "142470.0    1\n",
       "104507.0    1\n",
       "1419.0      1\n",
       "Name: views, Length: 14747, dtype: int64"
      ]
     },
     "execution_count": 27,
     "metadata": {},
     "output_type": "execute_result"
    }
   ],
   "source": [
    "df.views.value_counts()"
   ]
  },
  {
   "cell_type": "code",
   "execution_count": 28,
   "id": "9f2cca92",
   "metadata": {},
   "outputs": [
    {
     "data": {
      "text/plain": [
       "count    1.708500e+04\n",
       "mean     4.105073e+04\n",
       "std      6.704179e+04\n",
       "min      6.670000e+02\n",
       "25%      9.899000e+03\n",
       "50%      1.920700e+04\n",
       "75%      4.370000e+04\n",
       "max      1.638533e+06\n",
       "Name: views, dtype: float64"
      ]
     },
     "execution_count": 28,
     "metadata": {},
     "output_type": "execute_result"
    }
   ],
   "source": [
    "df.views.describe()"
   ]
  },
  {
   "cell_type": "code",
   "execution_count": 29,
   "id": "476859ef",
   "metadata": {},
   "outputs": [
    {
     "data": {
      "text/plain": [
       "<Axes: >"
      ]
     },
     "execution_count": 29,
     "metadata": {},
     "output_type": "execute_result"
    },
    {
     "data": {
      "image/png": "[encoded data removed]",
      "text/plain": [
       "<Figure size 640x480 with 1 Axes>"
      ]
     },
     "metadata": {},
     "output_type": "display_data"
    }
   ],
   "source": [
    "df.views.hist(bins=100)"
   ]
  },
  {
   "cell_type": "code",
   "execution_count": 30,
   "id": "881a10af",
   "metadata": {
    "scrolled": true
   },
   "outputs": [
    {
     "data": {
      "text/plain": [
       "<Axes: >"
      ]
     },
     "execution_count": 30,
     "metadata": {},
     "output_type": "execute_result"
    },
    {
     "data": {
      "image/png": "[encoded data removed]",
      "text/plain": [
       "<Figure size 640x480 with 1 Axes>"
      ]
     },
     "metadata": {},
     "output_type": "display_data"
    }
   ],
   "source": [
    "df[['views']].boxplot()"
   ]
  },
  {
   "cell_type": "markdown",
   "id": "4de64a51",
   "metadata": {},
   "source": [
    "大部分的影视的点击率，都是接近的，但是有一些确实很高，但是其应该不是错误数据"
   ]
  },
  {
   "cell_type": "markdown",
   "id": "97abc638",
   "metadata": {},
   "source": [
    "查看一下前20名电影的views的数据"
   ]
  },
  {
   "cell_type": "code",
   "execution_count": 31,
   "id": "11323a83",
   "metadata": {},
   "outputs": [],
   "source": [
    "def top_15(column):\n",
    "    temp = df.sort_values([column],ascending=False).head(15)\n",
    "\n",
    "    \n",
    "    plt.barh(temp['title'],temp[column])\n",
    "    plt.show()"
   ]
  },
  {
   "cell_type": "code",
   "execution_count": 32,
   "id": "4597e3bb",
   "metadata": {},
   "outputs": [
    {
     "data": {
      "image/png": "[encoded data removed]",
      "text/plain": [
       "<Figure size 640x480 with 1 Axes>"
      ]
     },
     "metadata": {},
     "output_type": "display_data"
    }
   ],
   "source": [
    "top_15('views')"
   ]
  },
  {
   "cell_type": "code",
   "execution_count": 33,
   "id": "6188a0a5",
   "metadata": {},
   "outputs": [
    {
     "data": {
      "text/html": [
       "<div>\n",
       "<style scoped>\n",
       "    .dataframe tbody tr th:only-of-type {\n",
       "        vertical-align: middle;\n",
       "    }\n",
       "\n",
       "    .dataframe tbody tr th {\n",
       "        vertical-align: top;\n",
       "    }\n",
       "\n",
       "    .dataframe thead th {\n",
       "        text-align: right;\n",
       "    }\n",
       "</style>\n",
       "<table border=\"1\" class=\"dataframe\">\n",
       "  <thead>\n",
       "    <tr style=\"text-align: right;\">\n",
       "      <th></th>\n",
       "      <th>imdb_rating</th>\n",
       "      <th>appropriate_for</th>\n",
       "      <th>director</th>\n",
       "      <th>downloads</th>\n",
       "      <th>id</th>\n",
       "      <th>industry</th>\n",
       "      <th>language</th>\n",
       "      <th>posted_date</th>\n",
       "      <th>release_date</th>\n",
       "      <th>run_time</th>\n",
       "      <th>storyline</th>\n",
       "      <th>title</th>\n",
       "      <th>views</th>\n",
       "      <th>writer</th>\n",
       "    </tr>\n",
       "  </thead>\n",
       "  <tbody>\n",
       "    <tr>\n",
       "      <th>8560</th>\n",
       "      <td>4.8</td>\n",
       "      <td>Not Rated</td>\n",
       "      <td>Ahmed Khan</td>\n",
       "      <td>230577.0</td>\n",
       "      <td>258332</td>\n",
       "      <td>Bollywood / Indian</td>\n",
       "      <td>Hindi</td>\n",
       "      <td>31 Mar, 2018</td>\n",
       "      <td>Mar 30 2018</td>\n",
       "      <td>137</td>\n",
       "      <td>Ronnie is serving in the Indian army.He gets a...</td>\n",
       "      <td>Baaghi 2</td>\n",
       "      <td>1638533.0</td>\n",
       "      <td>Sajid Nadiadwala, Jojo Khan, Abbas Hirapurwala</td>\n",
       "    </tr>\n",
       "  </tbody>\n",
       "</table>\n",
       "</div>"
      ],
      "text/plain": [
       "      imdb_rating appropriate_for    director  downloads      id  \\\n",
       "8560          4.8       Not Rated  Ahmed Khan   230577.0  258332   \n",
       "\n",
       "                industry language   posted_date release_date run_time  \\\n",
       "8560  Bollywood / Indian    Hindi  31 Mar, 2018  Mar 30 2018      137   \n",
       "\n",
       "                                              storyline     title      views  \\\n",
       "8560  Ronnie is serving in the Indian army.He gets a...  Baaghi 2  1638533.0   \n",
       "\n",
       "                                              writer  \n",
       "8560  Sajid Nadiadwala, Jojo Khan, Abbas Hirapurwala  "
      ]
     },
     "execution_count": 33,
     "metadata": {},
     "output_type": "execute_result"
    }
   ],
   "source": [
    "max_view = 1.638533e+06\n",
    "df[df['views']==max_view]"
   ]
  },
  {
   "cell_type": "code",
   "execution_count": 34,
   "id": "c7cd44f2",
   "metadata": {},
   "outputs": [
    {
     "data": {
      "text/html": [
       "<div>\n",
       "<style scoped>\n",
       "    .dataframe tbody tr th:only-of-type {\n",
       "        vertical-align: middle;\n",
       "    }\n",
       "\n",
       "    .dataframe tbody tr th {\n",
       "        vertical-align: top;\n",
       "    }\n",
       "\n",
       "    .dataframe thead th {\n",
       "        text-align: right;\n",
       "    }\n",
       "</style>\n",
       "<table border=\"1\" class=\"dataframe\">\n",
       "  <thead>\n",
       "    <tr style=\"text-align: right;\">\n",
       "      <th></th>\n",
       "      <th>imdb_rating</th>\n",
       "      <th>appropriate_for</th>\n",
       "      <th>director</th>\n",
       "      <th>downloads</th>\n",
       "      <th>id</th>\n",
       "      <th>industry</th>\n",
       "      <th>language</th>\n",
       "      <th>posted_date</th>\n",
       "      <th>release_date</th>\n",
       "      <th>run_time</th>\n",
       "      <th>storyline</th>\n",
       "      <th>title</th>\n",
       "      <th>views</th>\n",
       "      <th>writer</th>\n",
       "    </tr>\n",
       "  </thead>\n",
       "  <tbody>\n",
       "    <tr>\n",
       "      <th>8560</th>\n",
       "      <td>4.8</td>\n",
       "      <td>Not Rated</td>\n",
       "      <td>Ahmed Khan</td>\n",
       "      <td>230577.0</td>\n",
       "      <td>258332</td>\n",
       "      <td>Bollywood / Indian</td>\n",
       "      <td>Hindi</td>\n",
       "      <td>31 Mar, 2018</td>\n",
       "      <td>Mar 30 2018</td>\n",
       "      <td>137</td>\n",
       "      <td>Ronnie is serving in the Indian army.He gets a...</td>\n",
       "      <td>Baaghi 2</td>\n",
       "      <td>1638533.0</td>\n",
       "      <td>Sajid Nadiadwala, Jojo Khan, Abbas Hirapurwala</td>\n",
       "    </tr>\n",
       "    <tr>\n",
       "      <th>9055</th>\n",
       "      <td>5.9</td>\n",
       "      <td>Not Rated</td>\n",
       "      <td>Ali Abbas Zafar</td>\n",
       "      <td>366624.0</td>\n",
       "      <td>248092</td>\n",
       "      <td>Bollywood / Indian</td>\n",
       "      <td>Hindi,English</td>\n",
       "      <td>23 Dec, 2017</td>\n",
       "      <td>Dec 22 2017</td>\n",
       "      <td>161</td>\n",
       "      <td>A dreaded terrorist organization run by Abu Us...</td>\n",
       "      <td>Tiger Zinda Hai</td>\n",
       "      <td>1038317.0</td>\n",
       "      <td>Neelesh Misra, Ali Abbas Zafar, Aditya Chopra</td>\n",
       "    </tr>\n",
       "    <tr>\n",
       "      <th>8064</th>\n",
       "      <td>7.4</td>\n",
       "      <td>Not Rated</td>\n",
       "      <td>Raj Kumar Gupta</td>\n",
       "      <td>170601.0</td>\n",
       "      <td>256818</td>\n",
       "      <td>Bollywood / Indian</td>\n",
       "      <td>Hindi</td>\n",
       "      <td>17 Mar, 2018</td>\n",
       "      <td>Mar 16 2018</td>\n",
       "      <td>122</td>\n",
       "      <td>Set in the 80s in Uttar Pradesh, India, Raid i...</td>\n",
       "      <td>Raid</td>\n",
       "      <td>993825.0</td>\n",
       "      <td>Nischay Kutt, Imran Manzoor, Ritesh Shah</td>\n",
       "    </tr>\n",
       "    <tr>\n",
       "      <th>5721</th>\n",
       "      <td>8.4</td>\n",
       "      <td>PG-13</td>\n",
       "      <td>Anthony Russo, Joe Russo</td>\n",
       "      <td>337703.0</td>\n",
       "      <td>299108</td>\n",
       "      <td>Hollywood / English</td>\n",
       "      <td>English,Japanese,Xhosa,German</td>\n",
       "      <td>25 Apr, 2019</td>\n",
       "      <td>Apr 26 2019</td>\n",
       "      <td>181</td>\n",
       "      <td>After the devastating events of Avengers: Infi...</td>\n",
       "      <td>Avengers: Endgame</td>\n",
       "      <td>991133.0</td>\n",
       "      <td>Christopher Markus, Stephen McFeely, Stan Lee</td>\n",
       "    </tr>\n",
       "    <tr>\n",
       "      <th>8130</th>\n",
       "      <td>8.4</td>\n",
       "      <td>PG-13</td>\n",
       "      <td>Anthony Russo, Joe Russo</td>\n",
       "      <td>339146.0</td>\n",
       "      <td>261371</td>\n",
       "      <td>Hollywood / English</td>\n",
       "      <td>English</td>\n",
       "      <td>27 Apr, 2018</td>\n",
       "      <td>Apr 27 2018</td>\n",
       "      <td>149</td>\n",
       "      <td>As the Avengers and their allies have continue...</td>\n",
       "      <td>Avengers: Infinity War</td>\n",
       "      <td>969673.0</td>\n",
       "      <td>Christopher Markus, Stephen McFeely, Stan Lee</td>\n",
       "    </tr>\n",
       "  </tbody>\n",
       "</table>\n",
       "</div>"
      ],
      "text/plain": [
       "      imdb_rating appropriate_for                  director  downloads  \\\n",
       "8560          4.8       Not Rated                Ahmed Khan   230577.0   \n",
       "9055          5.9       Not Rated           Ali Abbas Zafar   366624.0   \n",
       "8064          7.4       Not Rated           Raj Kumar Gupta   170601.0   \n",
       "5721          8.4           PG-13  Anthony Russo, Joe Russo   337703.0   \n",
       "8130          8.4           PG-13  Anthony Russo, Joe Russo   339146.0   \n",
       "\n",
       "          id             industry                       language  \\\n",
       "8560  258332   Bollywood / Indian                          Hindi   \n",
       "9055  248092   Bollywood / Indian                  Hindi,English   \n",
       "8064  256818   Bollywood / Indian                          Hindi   \n",
       "5721  299108  Hollywood / English  English,Japanese,Xhosa,German   \n",
       "8130  261371  Hollywood / English                        English   \n",
       "\n",
       "       posted_date release_date run_time  \\\n",
       "8560  31 Mar, 2018  Mar 30 2018      137   \n",
       "9055  23 Dec, 2017  Dec 22 2017      161   \n",
       "8064  17 Mar, 2018  Mar 16 2018      122   \n",
       "5721  25 Apr, 2019  Apr 26 2019      181   \n",
       "8130  27 Apr, 2018  Apr 27 2018      149   \n",
       "\n",
       "                                              storyline  \\\n",
       "8560  Ronnie is serving in the Indian army.He gets a...   \n",
       "9055  A dreaded terrorist organization run by Abu Us...   \n",
       "8064  Set in the 80s in Uttar Pradesh, India, Raid i...   \n",
       "5721  After the devastating events of Avengers: Infi...   \n",
       "8130  As the Avengers and their allies have continue...   \n",
       "\n",
       "                       title      views  \\\n",
       "8560                Baaghi 2  1638533.0   \n",
       "9055         Tiger Zinda Hai  1038317.0   \n",
       "8064                    Raid   993825.0   \n",
       "5721       Avengers: Endgame   991133.0   \n",
       "8130  Avengers: Infinity War   969673.0   \n",
       "\n",
       "                                              writer  \n",
       "8560  Sajid Nadiadwala, Jojo Khan, Abbas Hirapurwala  \n",
       "9055   Neelesh Misra, Ali Abbas Zafar, Aditya Chopra  \n",
       "8064        Nischay Kutt, Imran Manzoor, Ritesh Shah  \n",
       "5721   Christopher Markus, Stephen McFeely, Stan Lee  \n",
       "8130   Christopher Markus, Stephen McFeely, Stan Lee  "
      ]
     },
     "execution_count": 34,
     "metadata": {},
     "output_type": "execute_result"
    }
   ],
   "source": [
    "df.sort_values('views',ascending=False).head(5)\n"
   ]
  },
  {
   "cell_type": "code",
   "execution_count": 35,
   "id": "0d70eaa9",
   "metadata": {},
   "outputs": [
    {
     "data": {
      "text/html": [
       "<div>\n",
       "<style scoped>\n",
       "    .dataframe tbody tr th:only-of-type {\n",
       "        vertical-align: middle;\n",
       "    }\n",
       "\n",
       "    .dataframe tbody tr th {\n",
       "        vertical-align: top;\n",
       "    }\n",
       "\n",
       "    .dataframe thead th {\n",
       "        text-align: right;\n",
       "    }\n",
       "</style>\n",
       "<table border=\"1\" class=\"dataframe\">\n",
       "  <thead>\n",
       "    <tr style=\"text-align: right;\">\n",
       "      <th></th>\n",
       "      <th>dtype</th>\n",
       "      <th>specimen</th>\n",
       "      <th>nunique</th>\n",
       "      <th>null_count</th>\n",
       "      <th>null_share</th>\n",
       "    </tr>\n",
       "  </thead>\n",
       "  <tbody>\n",
       "    <tr>\n",
       "      <th>imdb_rating</th>\n",
       "      <td>float64</td>\n",
       "      <td>6.4</td>\n",
       "      <td>85</td>\n",
       "      <td>477</td>\n",
       "      <td>2.79%</td>\n",
       "    </tr>\n",
       "    <tr>\n",
       "      <th>appropriate_for</th>\n",
       "      <td>object</td>\n",
       "      <td>TV-PG</td>\n",
       "      <td>21</td>\n",
       "      <td>7277</td>\n",
       "      <td>42.59%</td>\n",
       "    </tr>\n",
       "    <tr>\n",
       "      <th>director</th>\n",
       "      <td>object</td>\n",
       "      <td>Paul Ziller</td>\n",
       "      <td>9672</td>\n",
       "      <td>1566</td>\n",
       "      <td>9.17%</td>\n",
       "    </tr>\n",
       "    <tr>\n",
       "      <th>downloads</th>\n",
       "      <td>float64</td>\n",
       "      <td>73.0</td>\n",
       "      <td>10479</td>\n",
       "      <td>1</td>\n",
       "      <td>0.01%</td>\n",
       "    </tr>\n",
       "    <tr>\n",
       "      <th>id</th>\n",
       "      <td>object</td>\n",
       "      <td>372091</td>\n",
       "      <td>17086</td>\n",
       "      <td>0</td>\n",
       "      <td>0.00%</td>\n",
       "    </tr>\n",
       "    <tr>\n",
       "      <th>industry</th>\n",
       "      <td>object</td>\n",
       "      <td>Hollywood / English</td>\n",
       "      <td>10</td>\n",
       "      <td>1</td>\n",
       "      <td>0.01%</td>\n",
       "    </tr>\n",
       "    <tr>\n",
       "      <th>language</th>\n",
       "      <td>object</td>\n",
       "      <td>English</td>\n",
       "      <td>1168</td>\n",
       "      <td>534</td>\n",
       "      <td>3.13%</td>\n",
       "    </tr>\n",
       "    <tr>\n",
       "      <th>posted_date</th>\n",
       "      <td>object</td>\n",
       "      <td>20 Feb, 2023</td>\n",
       "      <td>4123</td>\n",
       "      <td>1</td>\n",
       "      <td>0.01%</td>\n",
       "    </tr>\n",
       "    <tr>\n",
       "      <th>release_date</th>\n",
       "      <td>object</td>\n",
       "      <td>Feb 05 2023</td>\n",
       "      <td>4886</td>\n",
       "      <td>1</td>\n",
       "      <td>0.01%</td>\n",
       "    </tr>\n",
       "    <tr>\n",
       "      <th>run_time</th>\n",
       "      <td>object</td>\n",
       "      <td>84</td>\n",
       "      <td>415</td>\n",
       "      <td>1000</td>\n",
       "      <td>5.85%</td>\n",
       "    </tr>\n",
       "    <tr>\n",
       "      <th>storyline</th>\n",
       "      <td>object</td>\n",
       "      <td>Caterer\\r\\n Goldy Berry reunites with detectiv...</td>\n",
       "      <td>15748</td>\n",
       "      <td>1322</td>\n",
       "      <td>7.74%</td>\n",
       "    </tr>\n",
       "    <tr>\n",
       "      <th>title</th>\n",
       "      <td>object</td>\n",
       "      <td>Grilling Season: A Curious Caterer Mystery</td>\n",
       "      <td>16572</td>\n",
       "      <td>1</td>\n",
       "      <td>0.01%</td>\n",
       "    </tr>\n",
       "    <tr>\n",
       "      <th>views</th>\n",
       "      <td>float64</td>\n",
       "      <td>1002.0</td>\n",
       "      <td>14747</td>\n",
       "      <td>1</td>\n",
       "      <td>0.01%</td>\n",
       "    </tr>\n",
       "    <tr>\n",
       "      <th>writer</th>\n",
       "      <td>object</td>\n",
       "      <td>John Christian Plummer</td>\n",
       "      <td>13603</td>\n",
       "      <td>1820</td>\n",
       "      <td>10.65%</td>\n",
       "    </tr>\n",
       "  </tbody>\n",
       "</table>\n",
       "</div>"
      ],
      "text/plain": [
       "                   dtype                                           specimen  \\\n",
       "imdb_rating      float64                                                6.4   \n",
       "appropriate_for   object                                              TV-PG   \n",
       "director          object                                        Paul Ziller   \n",
       "downloads        float64                                               73.0   \n",
       "id                object                                             372091   \n",
       "industry          object                                Hollywood / English   \n",
       "language          object                                            English   \n",
       "posted_date       object                                       20 Feb, 2023   \n",
       "release_date      object                                        Feb 05 2023   \n",
       "run_time          object                                                 84   \n",
       "storyline         object  Caterer\\r\\n Goldy Berry reunites with detectiv...   \n",
       "title             object         Grilling Season: A Curious Caterer Mystery   \n",
       "views            float64                                             1002.0   \n",
       "writer            object                             John Christian Plummer   \n",
       "\n",
       "                 nunique  null_count null_share  \n",
       "imdb_rating           85         477      2.79%  \n",
       "appropriate_for       21        7277     42.59%  \n",
       "director            9672        1566      9.17%  \n",
       "downloads          10479           1      0.01%  \n",
       "id                 17086           0      0.00%  \n",
       "industry              10           1      0.01%  \n",
       "language            1168         534      3.13%  \n",
       "posted_date         4123           1      0.01%  \n",
       "release_date        4886           1      0.01%  \n",
       "run_time             415        1000      5.85%  \n",
       "storyline          15748        1322      7.74%  \n",
       "title              16572           1      0.01%  \n",
       "views              14747           1      0.01%  \n",
       "writer             13603        1820     10.65%  "
      ]
     },
     "execution_count": 35,
     "metadata": {},
     "output_type": "execute_result"
    }
   ],
   "source": [
    "df_dtype(df)"
   ]
  },
  {
   "cell_type": "markdown",
   "id": "eb0f5faa",
   "metadata": {},
   "source": [
    "views有一个为空，所以直接删除即可"
   ]
  },
  {
   "cell_type": "code",
   "execution_count": 36,
   "id": "60ab0138",
   "metadata": {},
   "outputs": [],
   "source": [
    "df.drop(df[df['views'].isna()].index.tolist(),inplace=True)"
   ]
  },
  {
   "cell_type": "code",
   "execution_count": 37,
   "id": "52ab3bc6",
   "metadata": {},
   "outputs": [
    {
     "data": {
      "text/html": [
       "<div>\n",
       "<style scoped>\n",
       "    .dataframe tbody tr th:only-of-type {\n",
       "        vertical-align: middle;\n",
       "    }\n",
       "\n",
       "    .dataframe tbody tr th {\n",
       "        vertical-align: top;\n",
       "    }\n",
       "\n",
       "    .dataframe thead th {\n",
       "        text-align: right;\n",
       "    }\n",
       "</style>\n",
       "<table border=\"1\" class=\"dataframe\">\n",
       "  <thead>\n",
       "    <tr style=\"text-align: right;\">\n",
       "      <th></th>\n",
       "      <th>dtype</th>\n",
       "      <th>specimen</th>\n",
       "      <th>nunique</th>\n",
       "      <th>null_count</th>\n",
       "      <th>null_share</th>\n",
       "    </tr>\n",
       "  </thead>\n",
       "  <tbody>\n",
       "    <tr>\n",
       "      <th>imdb_rating</th>\n",
       "      <td>float64</td>\n",
       "      <td>6.4</td>\n",
       "      <td>85</td>\n",
       "      <td>477</td>\n",
       "      <td>2.79%</td>\n",
       "    </tr>\n",
       "    <tr>\n",
       "      <th>appropriate_for</th>\n",
       "      <td>object</td>\n",
       "      <td>TV-PG</td>\n",
       "      <td>21</td>\n",
       "      <td>7276</td>\n",
       "      <td>42.59%</td>\n",
       "    </tr>\n",
       "    <tr>\n",
       "      <th>director</th>\n",
       "      <td>object</td>\n",
       "      <td>Paul Ziller</td>\n",
       "      <td>9672</td>\n",
       "      <td>1565</td>\n",
       "      <td>9.16%</td>\n",
       "    </tr>\n",
       "    <tr>\n",
       "      <th>downloads</th>\n",
       "      <td>float64</td>\n",
       "      <td>73.0</td>\n",
       "      <td>10479</td>\n",
       "      <td>0</td>\n",
       "      <td>0.00%</td>\n",
       "    </tr>\n",
       "    <tr>\n",
       "      <th>id</th>\n",
       "      <td>object</td>\n",
       "      <td>372091</td>\n",
       "      <td>17085</td>\n",
       "      <td>0</td>\n",
       "      <td>0.00%</td>\n",
       "    </tr>\n",
       "    <tr>\n",
       "      <th>industry</th>\n",
       "      <td>object</td>\n",
       "      <td>Hollywood / English</td>\n",
       "      <td>10</td>\n",
       "      <td>0</td>\n",
       "      <td>0.00%</td>\n",
       "    </tr>\n",
       "    <tr>\n",
       "      <th>language</th>\n",
       "      <td>object</td>\n",
       "      <td>English</td>\n",
       "      <td>1168</td>\n",
       "      <td>533</td>\n",
       "      <td>3.12%</td>\n",
       "    </tr>\n",
       "    <tr>\n",
       "      <th>posted_date</th>\n",
       "      <td>object</td>\n",
       "      <td>20 Feb, 2023</td>\n",
       "      <td>4123</td>\n",
       "      <td>0</td>\n",
       "      <td>0.00%</td>\n",
       "    </tr>\n",
       "    <tr>\n",
       "      <th>release_date</th>\n",
       "      <td>object</td>\n",
       "      <td>Feb 05 2023</td>\n",
       "      <td>4886</td>\n",
       "      <td>0</td>\n",
       "      <td>0.00%</td>\n",
       "    </tr>\n",
       "    <tr>\n",
       "      <th>run_time</th>\n",
       "      <td>object</td>\n",
       "      <td>84</td>\n",
       "      <td>415</td>\n",
       "      <td>999</td>\n",
       "      <td>5.85%</td>\n",
       "    </tr>\n",
       "    <tr>\n",
       "      <th>storyline</th>\n",
       "      <td>object</td>\n",
       "      <td>Caterer\\r\\n Goldy Berry reunites with detectiv...</td>\n",
       "      <td>15748</td>\n",
       "      <td>1321</td>\n",
       "      <td>7.73%</td>\n",
       "    </tr>\n",
       "    <tr>\n",
       "      <th>title</th>\n",
       "      <td>object</td>\n",
       "      <td>Grilling Season: A Curious Caterer Mystery</td>\n",
       "      <td>16572</td>\n",
       "      <td>0</td>\n",
       "      <td>0.00%</td>\n",
       "    </tr>\n",
       "    <tr>\n",
       "      <th>views</th>\n",
       "      <td>float64</td>\n",
       "      <td>1002.0</td>\n",
       "      <td>14747</td>\n",
       "      <td>0</td>\n",
       "      <td>0.00%</td>\n",
       "    </tr>\n",
       "    <tr>\n",
       "      <th>writer</th>\n",
       "      <td>object</td>\n",
       "      <td>John Christian Plummer</td>\n",
       "      <td>13603</td>\n",
       "      <td>1819</td>\n",
       "      <td>10.65%</td>\n",
       "    </tr>\n",
       "  </tbody>\n",
       "</table>\n",
       "</div>"
      ],
      "text/plain": [
       "                   dtype                                           specimen  \\\n",
       "imdb_rating      float64                                                6.4   \n",
       "appropriate_for   object                                              TV-PG   \n",
       "director          object                                        Paul Ziller   \n",
       "downloads        float64                                               73.0   \n",
       "id                object                                             372091   \n",
       "industry          object                                Hollywood / English   \n",
       "language          object                                            English   \n",
       "posted_date       object                                       20 Feb, 2023   \n",
       "release_date      object                                        Feb 05 2023   \n",
       "run_time          object                                                 84   \n",
       "storyline         object  Caterer\\r\\n Goldy Berry reunites with detectiv...   \n",
       "title             object         Grilling Season: A Curious Caterer Mystery   \n",
       "views            float64                                             1002.0   \n",
       "writer            object                             John Christian Plummer   \n",
       "\n",
       "                 nunique  null_count null_share  \n",
       "imdb_rating           85         477      2.79%  \n",
       "appropriate_for       21        7276     42.59%  \n",
       "director            9672        1565      9.16%  \n",
       "downloads          10479           0      0.00%  \n",
       "id                 17085           0      0.00%  \n",
       "industry              10           0      0.00%  \n",
       "language            1168         533      3.12%  \n",
       "posted_date         4123           0      0.00%  \n",
       "release_date        4886           0      0.00%  \n",
       "run_time             415         999      5.85%  \n",
       "storyline          15748        1321      7.73%  \n",
       "title              16572           0      0.00%  \n",
       "views              14747           0      0.00%  \n",
       "writer             13603        1819     10.65%  "
      ]
     },
     "execution_count": 37,
     "metadata": {},
     "output_type": "execute_result"
    }
   ],
   "source": [
    "df_dtype(df)"
   ]
  },
  {
   "cell_type": "markdown",
   "id": "cde4282a",
   "metadata": {},
   "source": [
    "在删除views为0的值后，downloads的空值数量也变为了0"
   ]
  },
  {
   "cell_type": "markdown",
   "id": "705828e4",
   "metadata": {},
   "source": [
    "（5）downloads"
   ]
  },
  {
   "cell_type": "code",
   "execution_count": 38,
   "id": "b16d0710",
   "metadata": {},
   "outputs": [
    {
     "data": {
      "text/plain": [
       "<Axes: >"
      ]
     },
     "execution_count": 38,
     "metadata": {},
     "output_type": "execute_result"
    },
    {
     "data": {
      "image/png": "[encoded data removed]",
      "text/plain": [
       "<Figure size 640x480 with 1 Axes>"
      ]
     },
     "metadata": {},
     "output_type": "display_data"
    }
   ],
   "source": [
    "df.downloads.hist(bins=100)"
   ]
  },
  {
   "cell_type": "markdown",
   "id": "d0f16bfc",
   "metadata": {},
   "source": [
    "download的五数分布如下"
   ]
  },
  {
   "cell_type": "code",
   "execution_count": 39,
   "id": "4ae2d05d",
   "metadata": {
    "scrolled": true
   },
   "outputs": [
    {
     "data": {
      "text/plain": [
       "count     17085.000000\n",
       "mean      12575.807609\n",
       "std       25542.926019\n",
       "min           0.000000\n",
       "25%        1287.000000\n",
       "50%        3757.000000\n",
       "75%       12224.000000\n",
       "max      391272.000000\n",
       "Name: downloads, dtype: float64"
      ]
     },
     "execution_count": 39,
     "metadata": {},
     "output_type": "execute_result"
    }
   ],
   "source": [
    "df.downloads.describe()"
   ]
  },
  {
   "cell_type": "markdown",
   "id": "4cb3cb3e",
   "metadata": {},
   "source": [
    "downloads的盒图"
   ]
  },
  {
   "cell_type": "code",
   "execution_count": 40,
   "id": "f09e15a9",
   "metadata": {},
   "outputs": [
    {
     "data": {
      "text/plain": [
       "<Axes: >"
      ]
     },
     "execution_count": 40,
     "metadata": {},
     "output_type": "execute_result"
    },
    {
     "data": {
      "image/png": "[encoded data removed]",
      "text/plain": [
       "<Figure size 640x480 with 1 Axes>"
      ]
     },
     "metadata": {},
     "output_type": "display_data"
    }
   ],
   "source": [
    "df[['downloads']].boxplot()"
   ]
  },
  {
   "cell_type": "markdown",
   "id": "4d1a486b",
   "metadata": {},
   "source": [
    "可以看到大部分电影的下载量大约在一万左右，但是还有一小部分的下载量和非常的高，这也符合电影的规律"
   ]
  },
  {
   "cell_type": "markdown",
   "id": "b6cdfd86",
   "metadata": {},
   "source": [
    "可以查看一下downloads和views之间的分布关系，QQ图"
   ]
  },
  {
   "cell_type": "code",
   "execution_count": 41,
   "id": "40852af5",
   "metadata": {},
   "outputs": [],
   "source": [
    "import seaborn as sns"
   ]
  },
  {
   "cell_type": "code",
   "execution_count": 42,
   "id": "054b9b63",
   "metadata": {
    "scrolled": true
   },
   "outputs": [
    {
     "data": {
      "image/png": "[encoded data removed]",
      "text/plain": [
       "<Figure size 640x480 with 1 Axes>"
      ]
     },
     "metadata": {},
     "output_type": "display_data"
    }
   ],
   "source": [
    "ls1 = sorted(df['views'].values)\n",
    "ls2 = sorted(df['downloads'].values)\n",
    "sns.regplot(x=pd.Series(ls2),y=pd.Series(ls1),ci=None,color='b',line_kws={'color':'r'})\n",
    "plt.show()"
   ]
  },
  {
   "cell_type": "markdown",
   "id": "09758869",
   "metadata": {},
   "source": [
    "说明  views和download 基本上符合同一分布"
   ]
  },
  {
   "cell_type": "markdown",
   "id": "11ec04c3",
   "metadata": {},
   "source": [
    "(6)imdb-rating"
   ]
  },
  {
   "cell_type": "markdown",
   "id": "b74307f7",
   "metadata": {},
   "source": [
    "imdb_rating和views和download的分布，可以考虑使用views或download的属性来拿填充空值"
   ]
  },
  {
   "cell_type": "code",
   "execution_count": 43,
   "id": "02f0ac81",
   "metadata": {
    "scrolled": true
   },
   "outputs": [
    {
     "data": {
      "image/png": "[encoded data removed]",
      "text/plain": [
       "<Figure size 640x480 with 1 Axes>"
      ]
     },
     "metadata": {},
     "output_type": "display_data"
    }
   ],
   "source": [
    "ls1 = sorted(df['views'].values)\n",
    "ls2 = sorted(df['imdb_rating'].values)\n",
    "sns.regplot(x=pd.Series(ls2),y=pd.Series(ls1),ci=None,color='b',line_kws={'color':'r'})\n",
    "plt.show()"
   ]
  },
  {
   "cell_type": "markdown",
   "id": "a35a4549",
   "metadata": {},
   "source": [
    "相关性分析"
   ]
  },
  {
   "cell_type": "code",
   "execution_count": 44,
   "id": "e8d4a37d",
   "metadata": {},
   "outputs": [
    {
     "data": {
      "image/png": "[encoded data removed]",
      "text/plain": [
       "<Figure size 1000x400 with 1 Axes>"
      ]
     },
     "metadata": {},
     "output_type": "display_data"
    }
   ],
   "source": [
    "# 图示初判\n",
    "# （1）变量之间的线性相关性\n",
    "\n",
    "\n",
    "data1 = df['imdb_rating'].sort_values()\n",
    "data2 = df['views'].sort_values()\n",
    "\n",
    "\n",
    "\n",
    "fig = plt.figure(figsize = (10,4))\n",
    "ax1 = fig.add_subplot(1,2,1)\n",
    "ax1.scatter(data1, data2)\n",
    "plt.grid()\n",
    "\n"
   ]
  },
  {
   "cell_type": "markdown",
   "id": "d9be5a18",
   "metadata": {},
   "source": [
    "views和imdb_rating 是正相关，但是没有明确的关系，imdb_rating和downloads应该也是一样，所以不能使用相关的属性来填写评分中的空值"
   ]
  },
  {
   "cell_type": "code",
   "execution_count": 45,
   "id": "7cdbd778",
   "metadata": {},
   "outputs": [
    {
     "data": {
      "text/plain": [
       "count    16608.000000\n",
       "mean         5.596351\n",
       "std          1.281076\n",
       "min          1.100000\n",
       "25%          4.700000\n",
       "50%          5.700000\n",
       "75%          6.500000\n",
       "max          9.900000\n",
       "Name: imdb_rating, dtype: float64"
      ]
     },
     "execution_count": 45,
     "metadata": {},
     "output_type": "execute_result"
    }
   ],
   "source": [
    "df.imdb_rating.describe()"
   ]
  },
  {
   "cell_type": "markdown",
   "id": "3e6b634d",
   "metadata": {},
   "source": [
    "没有异常值"
   ]
  },
  {
   "cell_type": "code",
   "execution_count": 46,
   "id": "d5809271",
   "metadata": {},
   "outputs": [
    {
     "data": {
      "text/plain": [
       "477"
      ]
     },
     "execution_count": 46,
     "metadata": {},
     "output_type": "execute_result"
    }
   ],
   "source": [
    "df['imdb_rating'].isna().sum()"
   ]
  },
  {
   "cell_type": "code",
   "execution_count": 47,
   "id": "51797c21",
   "metadata": {},
   "outputs": [
    {
     "data": {
      "text/plain": [
       "<Axes: >"
      ]
     },
     "execution_count": 47,
     "metadata": {},
     "output_type": "execute_result"
    },
    {
     "data": {
      "image/png": "[encoded data removed]",
      "text/plain": [
       "<Figure size 640x480 with 1 Axes>"
      ]
     },
     "metadata": {},
     "output_type": "display_data"
    }
   ],
   "source": [
    "df['imdb_rating'].hist(bins=10)"
   ]
  },
  {
   "cell_type": "markdown",
   "id": "4d7c06cf",
   "metadata": {},
   "source": [
    "可以看到频率最高的评分在6左右，所以可以使用6来填补空缺值"
   ]
  },
  {
   "cell_type": "code",
   "execution_count": 48,
   "id": "55a65edc",
   "metadata": {},
   "outputs": [
    {
     "data": {
      "text/plain": [
       "Int64Index([    6,    12,    16,    18,    24,    62,    77,   105,   112,\n",
       "              114,\n",
       "            ...\n",
       "            19975, 20052, 20118, 20271, 20458, 20459, 20460, 20543, 20546,\n",
       "            20547],\n",
       "           dtype='int64', length=477)"
      ]
     },
     "execution_count": 48,
     "metadata": {},
     "output_type": "execute_result"
    }
   ],
   "source": [
    "df[df['imdb_rating'].isna()].index"
   ]
  },
  {
   "cell_type": "code",
   "execution_count": 49,
   "id": "bae65063",
   "metadata": {},
   "outputs": [],
   "source": [
    "df['imdb_rating'].fillna(6,inplace= True)"
   ]
  },
  {
   "cell_type": "code",
   "execution_count": 50,
   "id": "1c1453f5",
   "metadata": {},
   "outputs": [
    {
     "data": {
      "text/html": [
       "<div>\n",
       "<style scoped>\n",
       "    .dataframe tbody tr th:only-of-type {\n",
       "        vertical-align: middle;\n",
       "    }\n",
       "\n",
       "    .dataframe tbody tr th {\n",
       "        vertical-align: top;\n",
       "    }\n",
       "\n",
       "    .dataframe thead th {\n",
       "        text-align: right;\n",
       "    }\n",
       "</style>\n",
       "<table border=\"1\" class=\"dataframe\">\n",
       "  <thead>\n",
       "    <tr style=\"text-align: right;\">\n",
       "      <th></th>\n",
       "      <th>dtype</th>\n",
       "      <th>specimen</th>\n",
       "      <th>nunique</th>\n",
       "      <th>null_count</th>\n",
       "      <th>null_share</th>\n",
       "    </tr>\n",
       "  </thead>\n",
       "  <tbody>\n",
       "    <tr>\n",
       "      <th>imdb_rating</th>\n",
       "      <td>float64</td>\n",
       "      <td>6.4</td>\n",
       "      <td>85</td>\n",
       "      <td>0</td>\n",
       "      <td>0.00%</td>\n",
       "    </tr>\n",
       "    <tr>\n",
       "      <th>appropriate_for</th>\n",
       "      <td>object</td>\n",
       "      <td>TV-PG</td>\n",
       "      <td>21</td>\n",
       "      <td>7276</td>\n",
       "      <td>42.59%</td>\n",
       "    </tr>\n",
       "    <tr>\n",
       "      <th>director</th>\n",
       "      <td>object</td>\n",
       "      <td>Paul Ziller</td>\n",
       "      <td>9672</td>\n",
       "      <td>1565</td>\n",
       "      <td>9.16%</td>\n",
       "    </tr>\n",
       "    <tr>\n",
       "      <th>downloads</th>\n",
       "      <td>float64</td>\n",
       "      <td>73.0</td>\n",
       "      <td>10479</td>\n",
       "      <td>0</td>\n",
       "      <td>0.00%</td>\n",
       "    </tr>\n",
       "    <tr>\n",
       "      <th>id</th>\n",
       "      <td>object</td>\n",
       "      <td>372091</td>\n",
       "      <td>17085</td>\n",
       "      <td>0</td>\n",
       "      <td>0.00%</td>\n",
       "    </tr>\n",
       "    <tr>\n",
       "      <th>industry</th>\n",
       "      <td>object</td>\n",
       "      <td>Hollywood / English</td>\n",
       "      <td>10</td>\n",
       "      <td>0</td>\n",
       "      <td>0.00%</td>\n",
       "    </tr>\n",
       "    <tr>\n",
       "      <th>language</th>\n",
       "      <td>object</td>\n",
       "      <td>English</td>\n",
       "      <td>1168</td>\n",
       "      <td>533</td>\n",
       "      <td>3.12%</td>\n",
       "    </tr>\n",
       "    <tr>\n",
       "      <th>posted_date</th>\n",
       "      <td>object</td>\n",
       "      <td>20 Feb, 2023</td>\n",
       "      <td>4123</td>\n",
       "      <td>0</td>\n",
       "      <td>0.00%</td>\n",
       "    </tr>\n",
       "    <tr>\n",
       "      <th>release_date</th>\n",
       "      <td>object</td>\n",
       "      <td>Feb 05 2023</td>\n",
       "      <td>4886</td>\n",
       "      <td>0</td>\n",
       "      <td>0.00%</td>\n",
       "    </tr>\n",
       "    <tr>\n",
       "      <th>run_time</th>\n",
       "      <td>object</td>\n",
       "      <td>84</td>\n",
       "      <td>415</td>\n",
       "      <td>999</td>\n",
       "      <td>5.85%</td>\n",
       "    </tr>\n",
       "    <tr>\n",
       "      <th>storyline</th>\n",
       "      <td>object</td>\n",
       "      <td>Caterer\\r\\n Goldy Berry reunites with detectiv...</td>\n",
       "      <td>15748</td>\n",
       "      <td>1321</td>\n",
       "      <td>7.73%</td>\n",
       "    </tr>\n",
       "    <tr>\n",
       "      <th>title</th>\n",
       "      <td>object</td>\n",
       "      <td>Grilling Season: A Curious Caterer Mystery</td>\n",
       "      <td>16572</td>\n",
       "      <td>0</td>\n",
       "      <td>0.00%</td>\n",
       "    </tr>\n",
       "    <tr>\n",
       "      <th>views</th>\n",
       "      <td>float64</td>\n",
       "      <td>1002.0</td>\n",
       "      <td>14747</td>\n",
       "      <td>0</td>\n",
       "      <td>0.00%</td>\n",
       "    </tr>\n",
       "    <tr>\n",
       "      <th>writer</th>\n",
       "      <td>object</td>\n",
       "      <td>John Christian Plummer</td>\n",
       "      <td>13603</td>\n",
       "      <td>1819</td>\n",
       "      <td>10.65%</td>\n",
       "    </tr>\n",
       "  </tbody>\n",
       "</table>\n",
       "</div>"
      ],
      "text/plain": [
       "                   dtype                                           specimen  \\\n",
       "imdb_rating      float64                                                6.4   \n",
       "appropriate_for   object                                              TV-PG   \n",
       "director          object                                        Paul Ziller   \n",
       "downloads        float64                                               73.0   \n",
       "id                object                                             372091   \n",
       "industry          object                                Hollywood / English   \n",
       "language          object                                            English   \n",
       "posted_date       object                                       20 Feb, 2023   \n",
       "release_date      object                                        Feb 05 2023   \n",
       "run_time          object                                                 84   \n",
       "storyline         object  Caterer\\r\\n Goldy Berry reunites with detectiv...   \n",
       "title             object         Grilling Season: A Curious Caterer Mystery   \n",
       "views            float64                                             1002.0   \n",
       "writer            object                             John Christian Plummer   \n",
       "\n",
       "                 nunique  null_count null_share  \n",
       "imdb_rating           85           0      0.00%  \n",
       "appropriate_for       21        7276     42.59%  \n",
       "director            9672        1565      9.16%  \n",
       "downloads          10479           0      0.00%  \n",
       "id                 17085           0      0.00%  \n",
       "industry              10           0      0.00%  \n",
       "language            1168         533      3.12%  \n",
       "posted_date         4123           0      0.00%  \n",
       "release_date        4886           0      0.00%  \n",
       "run_time             415         999      5.85%  \n",
       "storyline          15748        1321      7.73%  \n",
       "title              16572           0      0.00%  \n",
       "views              14747           0      0.00%  \n",
       "writer             13603        1819     10.65%  "
      ]
     },
     "execution_count": 50,
     "metadata": {},
     "output_type": "execute_result"
    }
   ],
   "source": [
    "df_dtype(df)"
   ]
  },
  {
   "cell_type": "markdown",
   "id": "5f5c39c3",
   "metadata": {},
   "source": [
    "imdb_rating填充成功"
   ]
  },
  {
   "cell_type": "markdown",
   "id": "80d52fce",
   "metadata": {},
   "source": [
    "（7）appropriate_for"
   ]
  },
  {
   "cell_type": "markdown",
   "id": "358c5d26",
   "metadata": {},
   "source": [
    "表示的是该影片的受众对象，该属性应该不是重点， 应该不用特别处理"
   ]
  },
  {
   "cell_type": "code",
   "execution_count": 51,
   "id": "318d8891",
   "metadata": {},
   "outputs": [
    {
     "data": {
      "text/plain": [
       "<Axes: >"
      ]
     },
     "execution_count": 51,
     "metadata": {},
     "output_type": "execute_result"
    },
    {
     "data": {
      "image/png": "[encoded data removed]",
      "text/plain": [
       "<Figure size 640x480 with 1 Axes>"
      ]
     },
     "metadata": {},
     "output_type": "display_data"
    }
   ],
   "source": [
    "df.appropriate_for.value_counts().plot(kind='bar')"
   ]
  },
  {
   "cell_type": "markdown",
   "id": "7efa59b9",
   "metadata": {},
   "source": [
    "(8)language"
   ]
  },
  {
   "cell_type": "code",
   "execution_count": 52,
   "id": "1cbdba58",
   "metadata": {},
   "outputs": [
    {
     "data": {
      "text/plain": [
       "533"
      ]
     },
     "execution_count": 52,
     "metadata": {},
     "output_type": "execute_result"
    }
   ],
   "source": [
    "df.language.isna().sum()"
   ]
  },
  {
   "cell_type": "code",
   "execution_count": 53,
   "id": "948a18f6",
   "metadata": {},
   "outputs": [
    {
     "name": "stdout",
     "output_type": "stream",
     "text": [
      "English\n"
     ]
    }
   ],
   "source": [
    "lanlist = df.language.unique().tolist()\n",
    "print(lanlist[0])"
   ]
  },
  {
   "cell_type": "code",
   "execution_count": 54,
   "id": "a17dd020",
   "metadata": {},
   "outputs": [
    {
     "data": {
      "text/plain": [
       "1168"
      ]
     },
     "execution_count": 54,
     "metadata": {},
     "output_type": "execute_result"
    }
   ],
   "source": [
    "df.language.nunique()"
   ]
  },
  {
   "cell_type": "code",
   "execution_count": 55,
   "id": "aeb087e2",
   "metadata": {},
   "outputs": [
    {
     "data": {
      "text/plain": [
       "1007"
      ]
     },
     "execution_count": 55,
     "metadata": {},
     "output_type": "execute_result"
    }
   ],
   "source": [
    "i = 0\n",
    "for lan in lanlist:\n",
    "    if 'English' in str(lan):\n",
    "        i = i+1\n",
    "i"
   ]
  },
  {
   "cell_type": "markdown",
   "id": "a83c011f",
   "metadata": {},
   "source": [
    "英语是最频繁出现的语言，使用英语进填充"
   ]
  },
  {
   "cell_type": "code",
   "execution_count": 56,
   "id": "1d0b42ef",
   "metadata": {},
   "outputs": [],
   "source": [
    "df['language'].fillna('English',inplace=True)"
   ]
  },
  {
   "cell_type": "code",
   "execution_count": 57,
   "id": "d9018137",
   "metadata": {},
   "outputs": [
    {
     "data": {
      "text/plain": [
       "0"
      ]
     },
     "execution_count": 57,
     "metadata": {},
     "output_type": "execute_result"
    }
   ],
   "source": [
    "df['language'].isna().sum()"
   ]
  },
  {
   "cell_type": "markdown",
   "id": "27963593",
   "metadata": {},
   "source": [
    "填充成功"
   ]
  },
  {
   "cell_type": "markdown",
   "id": "13784361",
   "metadata": {},
   "source": [
    "（9）industry"
   ]
  },
  {
   "cell_type": "code",
   "execution_count": 58,
   "id": "e40b8604",
   "metadata": {},
   "outputs": [
    {
     "data": {
      "text/plain": [
       "0"
      ]
     },
     "execution_count": 58,
     "metadata": {},
     "output_type": "execute_result"
    }
   ],
   "source": [
    "df['industry'].isna().sum()"
   ]
  },
  {
   "cell_type": "markdown",
   "id": "7faabb60",
   "metadata": {},
   "source": [
    "没有缺失值"
   ]
  },
  {
   "cell_type": "code",
   "execution_count": 59,
   "id": "ffd2573c",
   "metadata": {},
   "outputs": [
    {
     "data": {
      "text/plain": [
       "array(['Hollywood / English', 'Tollywood', 'Wrestling',\n",
       "       'Bollywood / Indian', 'Punjabi', 'Anime / Kids',\n",
       "       'Dub / Dual Audio', 'Pakistani', 'Stage shows', '3D Movies'],\n",
       "      dtype=object)"
      ]
     },
     "execution_count": 59,
     "metadata": {},
     "output_type": "execute_result"
    }
   ],
   "source": [
    "df['industry'].unique()"
   ]
  },
  {
   "cell_type": "code",
   "execution_count": 60,
   "id": "0564acfd",
   "metadata": {},
   "outputs": [
    {
     "data": {
      "text/plain": [
       "10"
      ]
     },
     "execution_count": 60,
     "metadata": {},
     "output_type": "execute_result"
    }
   ],
   "source": [
    "df['industry'].nunique()"
   ]
  },
  {
   "cell_type": "code",
   "execution_count": 61,
   "id": "60947d53",
   "metadata": {},
   "outputs": [
    {
     "data": {
      "text/plain": [
       "<Axes: xlabel='industry'>"
      ]
     },
     "execution_count": 61,
     "metadata": {},
     "output_type": "execute_result"
    },
    {
     "data": {
      "image/png": "[encoded data removed]",
      "text/plain": [
       "<Figure size 640x480 with 1 Axes>"
      ]
     },
     "metadata": {},
     "output_type": "display_data"
    }
   ],
   "source": [
    "df[['industry']].value_counts().plot(kind='bar')"
   ]
  },
  {
   "cell_type": "markdown",
   "id": "0bb42d11",
   "metadata": {},
   "source": [
    "Hollywood / English  产生的影片最多"
   ]
  },
  {
   "cell_type": "markdown",
   "id": "1137b6b2",
   "metadata": {},
   "source": [
    "(10) posted_date <br>\n",
    "(11) release_date"
   ]
  },
  {
   "cell_type": "code",
   "execution_count": 62,
   "id": "1ff7e0e3",
   "metadata": {},
   "outputs": [
    {
     "data": {
      "text/plain": [
       "0"
      ]
     },
     "execution_count": 62,
     "metadata": {},
     "output_type": "execute_result"
    }
   ],
   "source": [
    "df['posted_date'].isna().sum()"
   ]
  },
  {
   "cell_type": "code",
   "execution_count": 63,
   "id": "1f0bf49c",
   "metadata": {
    "scrolled": true
   },
   "outputs": [
    {
     "data": {
      "text/html": [
       "<div>\n",
       "<style scoped>\n",
       "    .dataframe tbody tr th:only-of-type {\n",
       "        vertical-align: middle;\n",
       "    }\n",
       "\n",
       "    .dataframe tbody tr th {\n",
       "        vertical-align: top;\n",
       "    }\n",
       "\n",
       "    .dataframe thead th {\n",
       "        text-align: right;\n",
       "    }\n",
       "</style>\n",
       "<table border=\"1\" class=\"dataframe\">\n",
       "  <thead>\n",
       "    <tr style=\"text-align: right;\">\n",
       "      <th></th>\n",
       "      <th>release_date</th>\n",
       "      <th>posted_date</th>\n",
       "    </tr>\n",
       "  </thead>\n",
       "  <tbody>\n",
       "    <tr>\n",
       "      <th>1</th>\n",
       "      <td>Feb 05 2023</td>\n",
       "      <td>20 Feb, 2023</td>\n",
       "    </tr>\n",
       "    <tr>\n",
       "      <th>2</th>\n",
       "      <td>Jun 18 2021</td>\n",
       "      <td>20 Apr, 2021</td>\n",
       "    </tr>\n",
       "    <tr>\n",
       "      <th>4</th>\n",
       "      <td>Jan 26 2023</td>\n",
       "      <td>20 Feb, 2023</td>\n",
       "    </tr>\n",
       "    <tr>\n",
       "      <th>5</th>\n",
       "      <td>Nov 26 2021</td>\n",
       "      <td>20 Feb, 2023</td>\n",
       "    </tr>\n",
       "    <tr>\n",
       "      <th>6</th>\n",
       "      <td>Feb 18 2023</td>\n",
       "      <td>19 Feb, 2023</td>\n",
       "    </tr>\n",
       "  </tbody>\n",
       "</table>\n",
       "</div>"
      ],
      "text/plain": [
       "  release_date   posted_date\n",
       "1  Feb 05 2023  20 Feb, 2023\n",
       "2  Jun 18 2021  20 Apr, 2021\n",
       "4  Jan 26 2023  20 Feb, 2023\n",
       "5  Nov 26 2021  20 Feb, 2023\n",
       "6  Feb 18 2023  19 Feb, 2023"
      ]
     },
     "metadata": {},
     "output_type": "display_data"
    }
   ],
   "source": [
    "display(df[['release_date', 'posted_date']].head())"
   ]
  },
  {
   "cell_type": "code",
   "execution_count": 64,
   "id": "d2b633fd",
   "metadata": {},
   "outputs": [],
   "source": [
    "df['posted_date'] = pd.to_datetime(df['posted_date'])\n",
    "df['release_date'] = pd.to_datetime(df['release_date'])"
   ]
  },
  {
   "cell_type": "code",
   "execution_count": 65,
   "id": "fdcc547d",
   "metadata": {
    "scrolled": true
   },
   "outputs": [
    {
     "data": {
      "image/png": "[encoded data removed]",
      "text/plain": [
       "<Figure size 640x480 with 1 Axes>"
      ]
     },
     "metadata": {},
     "output_type": "display_data"
    }
   ],
   "source": [
    "df['posted_date'].hist()\n",
    "plt.title('Date of posted: distribution')\n",
    "plt.show()"
   ]
  },
  {
   "cell_type": "code",
   "execution_count": 66,
   "id": "b5fdd3f8",
   "metadata": {
    "scrolled": true
   },
   "outputs": [
    {
     "data": {
      "image/png": "[encoded data removed]",
      "text/plain": [
       "<Figure size 640x480 with 1 Axes>"
      ]
     },
     "metadata": {},
     "output_type": "display_data"
    }
   ],
   "source": [
    "df['posted_date'].hist(bins=170)\n",
    "plt.title('Date of publication on the platform: distribution')\n",
    "plt.show()"
   ]
  },
  {
   "cell_type": "markdown",
   "id": "27c1edec",
   "metadata": {},
   "source": [
    "1970年的数据有些异常，和大部分在近些年的数据不同"
   ]
  },
  {
   "cell_type": "code",
   "execution_count": 67,
   "id": "ac855ee5",
   "metadata": {},
   "outputs": [
    {
     "data": {
      "text/plain": [
       "<Axes: >"
      ]
     },
     "execution_count": 67,
     "metadata": {},
     "output_type": "execute_result"
    },
    {
     "data": {
      "image/png": "[encoded data removed]",
      "text/plain": [
       "<Figure size 640x480 with 1 Axes>"
      ]
     },
     "metadata": {},
     "output_type": "display_data"
    }
   ],
   "source": [
    "df.loc[df['posted_date'].dt.year == 1970]['posted_date'].hist()"
   ]
  },
  {
   "cell_type": "markdown",
   "id": "45ab1eee",
   "metadata": {},
   "source": [
    "1970年1月份数据异常，可能需要删除，下面看一下1970年发行电影情况"
   ]
  },
  {
   "cell_type": "code",
   "execution_count": null,
   "id": "b81fcfc2",
   "metadata": {},
   "outputs": [],
   "source": []
  },
  {
   "cell_type": "code",
   "execution_count": 68,
   "id": "7d194267",
   "metadata": {},
   "outputs": [
    {
     "data": {
      "image/png": "[encoded data removed]",
      "text/plain": [
       "<Figure size 640x480 with 1 Axes>"
      ]
     },
     "metadata": {},
     "output_type": "display_data"
    }
   ],
   "source": [
    "df['release_date'].hist()\n",
    "plt.title('Date of release: distribution')\n",
    "plt.show()"
   ]
  },
  {
   "cell_type": "code",
   "execution_count": 69,
   "id": "46519b09",
   "metadata": {},
   "outputs": [
    {
     "data": {
      "image/png": "[encoded data removed]",
      "text/plain": [
       "<Figure size 640x480 with 1 Axes>"
      ]
     },
     "metadata": {},
     "output_type": "display_data"
    }
   ],
   "source": [
    "df['release_date'].hist(bins=170)\n",
    "plt.title('Date of publication worldwide: distribution')\n",
    "plt.show()"
   ]
  },
  {
   "cell_type": "code",
   "execution_count": 70,
   "id": "9af19048",
   "metadata": {},
   "outputs": [
    {
     "data": {
      "text/plain": [
       "<Axes: >"
      ]
     },
     "execution_count": 70,
     "metadata": {},
     "output_type": "execute_result"
    },
    {
     "data": {
      "image/png": "[encoded data removed]",
      "text/plain": [
       "<Figure size 640x480 with 1 Axes>"
      ]
     },
     "metadata": {},
     "output_type": "display_data"
    }
   ],
   "source": [
    "df.loc[df['release_date'].dt.year == 1970]['release_date'].hist()"
   ]
  },
  {
   "cell_type": "code",
   "execution_count": 71,
   "id": "a66503b1",
   "metadata": {},
   "outputs": [
    {
     "data": {
      "text/plain": [
       "Timestamp('1970-01-01 00:00:00')"
      ]
     },
     "execution_count": 71,
     "metadata": {},
     "output_type": "execute_result"
    }
   ],
   "source": [
    "anomaly_date_1970 = df.loc[df['release_date'].dt.year == 1970]['release_date'].mode().iloc[0]\n",
    "anomaly_date_1970 "
   ]
  },
  {
   "cell_type": "code",
   "execution_count": 72,
   "id": "3d195802",
   "metadata": {},
   "outputs": [],
   "source": [
    "abnormal_1970_df = df.loc[df['release_date'] == anomaly_date_1970]"
   ]
  },
  {
   "cell_type": "code",
   "execution_count": 73,
   "id": "dc01063f",
   "metadata": {},
   "outputs": [
    {
     "name": "stdout",
     "output_type": "stream",
     "text": [
      "958\n",
      "That's about 6.0% of total.\n"
     ]
    }
   ],
   "source": [
    "print(len(abnormal_1970_df))\n",
    "abnormal_release_to_all = round(len(abnormal_1970_df) / len(df), 2) * 100\n",
    "print(f\"That's about {abnormal_release_to_all}% of total.\")"
   ]
  },
  {
   "cell_type": "markdown",
   "id": "597a930d",
   "metadata": {},
   "source": [
    "异常的数据量较多，不能直接删除"
   ]
  },
  {
   "cell_type": "markdown",
   "id": "6544380a",
   "metadata": {},
   "source": [
    "可以看一下，盗版时间在发行时间之前的异常数据"
   ]
  },
  {
   "cell_type": "code",
   "execution_count": 74,
   "id": "170ee3fd",
   "metadata": {},
   "outputs": [
    {
     "data": {
      "text/html": [
       "<div>\n",
       "<style scoped>\n",
       "    .dataframe tbody tr th:only-of-type {\n",
       "        vertical-align: middle;\n",
       "    }\n",
       "\n",
       "    .dataframe tbody tr th {\n",
       "        vertical-align: top;\n",
       "    }\n",
       "\n",
       "    .dataframe thead th {\n",
       "        text-align: right;\n",
       "    }\n",
       "</style>\n",
       "<table border=\"1\" class=\"dataframe\">\n",
       "  <thead>\n",
       "    <tr style=\"text-align: right;\">\n",
       "      <th></th>\n",
       "      <th>imdb_rating</th>\n",
       "      <th>appropriate_for</th>\n",
       "      <th>director</th>\n",
       "      <th>downloads</th>\n",
       "      <th>id</th>\n",
       "      <th>industry</th>\n",
       "      <th>language</th>\n",
       "      <th>posted_date</th>\n",
       "      <th>release_date</th>\n",
       "      <th>run_time</th>\n",
       "      <th>storyline</th>\n",
       "      <th>title</th>\n",
       "      <th>views</th>\n",
       "      <th>writer</th>\n",
       "    </tr>\n",
       "  </thead>\n",
       "  <tbody>\n",
       "    <tr>\n",
       "      <th>2</th>\n",
       "      <td>5.2</td>\n",
       "      <td>R</td>\n",
       "      <td>Ben Wheatley</td>\n",
       "      <td>1427.0</td>\n",
       "      <td>343381</td>\n",
       "      <td>Hollywood / English</td>\n",
       "      <td>English,Hindi</td>\n",
       "      <td>2021-04-20</td>\n",
       "      <td>2021-06-18</td>\n",
       "      <td>1h 47min</td>\n",
       "      <td>As the world searches for a cure to a disastro...</td>\n",
       "      <td>In the Earth</td>\n",
       "      <td>14419.0</td>\n",
       "      <td>Ben Wheatley</td>\n",
       "    </tr>\n",
       "    <tr>\n",
       "      <th>7</th>\n",
       "      <td>6.5</td>\n",
       "      <td>R</td>\n",
       "      <td>Benjamin Caron</td>\n",
       "      <td>1781.0</td>\n",
       "      <td>371751</td>\n",
       "      <td>Hollywood / English</td>\n",
       "      <td>English</td>\n",
       "      <td>2023-02-13</td>\n",
       "      <td>2023-02-17</td>\n",
       "      <td>116</td>\n",
       "      <td>Motivations are suspect, and expectations are ...</td>\n",
       "      <td>Sharper</td>\n",
       "      <td>18225.0</td>\n",
       "      <td>Brian Gatewood, Alessandro Tanaka</td>\n",
       "    </tr>\n",
       "    <tr>\n",
       "      <th>47</th>\n",
       "      <td>6.1</td>\n",
       "      <td>PG-13</td>\n",
       "      <td>Florian Zeller</td>\n",
       "      <td>483.0</td>\n",
       "      <td>370801</td>\n",
       "      <td>Hollywood / English</td>\n",
       "      <td>English</td>\n",
       "      <td>2023-01-23</td>\n",
       "      <td>2023-02-17</td>\n",
       "      <td>123</td>\n",
       "      <td>Peter\\r\\n has his busy life with new partner B...</td>\n",
       "      <td>The Son</td>\n",
       "      <td>7475.0</td>\n",
       "      <td>Florian Zeller, Christopher Hampton</td>\n",
       "    </tr>\n",
       "    <tr>\n",
       "      <th>61</th>\n",
       "      <td>7.3</td>\n",
       "      <td>NaN</td>\n",
       "      <td>Revathy</td>\n",
       "      <td>15457.0</td>\n",
       "      <td>368900</td>\n",
       "      <td>Bollywood / Indian</td>\n",
       "      <td>Hindi</td>\n",
       "      <td>2022-12-10</td>\n",
       "      <td>2023-02-10</td>\n",
       "      <td>137</td>\n",
       "      <td>Sujata, an ideal mother, who battled the most ...</td>\n",
       "      <td>Salaam Venky</td>\n",
       "      <td>73463.0</td>\n",
       "      <td>Sameer Arora, Kausar Munir</td>\n",
       "    </tr>\n",
       "    <tr>\n",
       "      <th>114</th>\n",
       "      <td>6.0</td>\n",
       "      <td>NaN</td>\n",
       "      <td>Daniel Diosdado</td>\n",
       "      <td>1438.0</td>\n",
       "      <td>371286</td>\n",
       "      <td>Hollywood / English</td>\n",
       "      <td>English</td>\n",
       "      <td>2023-02-02</td>\n",
       "      <td>2023-02-14</td>\n",
       "      <td>84</td>\n",
       "      <td>A mysterious figure starts to sabotage a local...</td>\n",
       "      <td>The Nomad</td>\n",
       "      <td>15732.0</td>\n",
       "      <td>Daniel Diosdado</td>\n",
       "    </tr>\n",
       "    <tr>\n",
       "      <th>...</th>\n",
       "      <td>...</td>\n",
       "      <td>...</td>\n",
       "      <td>...</td>\n",
       "      <td>...</td>\n",
       "      <td>...</td>\n",
       "      <td>...</td>\n",
       "      <td>...</td>\n",
       "      <td>...</td>\n",
       "      <td>...</td>\n",
       "      <td>...</td>\n",
       "      <td>...</td>\n",
       "      <td>...</td>\n",
       "      <td>...</td>\n",
       "      <td>...</td>\n",
       "    </tr>\n",
       "    <tr>\n",
       "      <th>20179</th>\n",
       "      <td>8.4</td>\n",
       "      <td>R</td>\n",
       "      <td>Chan-wook Park</td>\n",
       "      <td>6426.0</td>\n",
       "      <td>12453</td>\n",
       "      <td>Hollywood / English</td>\n",
       "      <td>Korean</td>\n",
       "      <td>2003-03-22</td>\n",
       "      <td>2003-11-21</td>\n",
       "      <td>120 min</td>\n",
       "      <td>An average man is kidnapped and imprisoned in ...</td>\n",
       "      <td>Oldeuboi</td>\n",
       "      <td>18927.0</td>\n",
       "      <td>Garon Tsuchiya, Nobuaki Minegishi</td>\n",
       "    </tr>\n",
       "    <tr>\n",
       "      <th>20195</th>\n",
       "      <td>6.2</td>\n",
       "      <td>Not Rated</td>\n",
       "      <td>Vikram Bhatt</td>\n",
       "      <td>39983.0</td>\n",
       "      <td>945</td>\n",
       "      <td>Bollywood / Indian</td>\n",
       "      <td>Hindi</td>\n",
       "      <td>2002-05-19</td>\n",
       "      <td>2002-06-19</td>\n",
       "      <td>158</td>\n",
       "      <td>Vikrant and Gulab Khatri are brothers-in-law w...</td>\n",
       "      <td>Awara Paagal Deewana</td>\n",
       "      <td>73096.0</td>\n",
       "      <td>Anand S. Vardhan, Mangesh Kulkarni, Neeraj Vora</td>\n",
       "    </tr>\n",
       "    <tr>\n",
       "      <th>20207</th>\n",
       "      <td>6.2</td>\n",
       "      <td>R</td>\n",
       "      <td>Victor Salva</td>\n",
       "      <td>21943.0</td>\n",
       "      <td>12431</td>\n",
       "      <td>Hollywood / English</td>\n",
       "      <td>English</td>\n",
       "      <td>2001-09-01</td>\n",
       "      <td>2013-06-08</td>\n",
       "      <td>90</td>\n",
       "      <td>On their way back home during the spring break...</td>\n",
       "      <td>Jeepers Creepers</td>\n",
       "      <td>61301.0</td>\n",
       "      <td>Victor Salva</td>\n",
       "    </tr>\n",
       "    <tr>\n",
       "      <th>20224</th>\n",
       "      <td>4.0</td>\n",
       "      <td>Not Rated</td>\n",
       "      <td>Lawrence D'Souza</td>\n",
       "      <td>10812.0</td>\n",
       "      <td>492</td>\n",
       "      <td>Bollywood / Indian</td>\n",
       "      <td>Hindi,English</td>\n",
       "      <td>2000-12-01</td>\n",
       "      <td>2009-06-03</td>\n",
       "      <td>170</td>\n",
       "      <td>Vijay Verma is a rich, selfish playboy who enj...</td>\n",
       "      <td>Sanam Teri Kasam</td>\n",
       "      <td>29553.0</td>\n",
       "      <td>Talat Rekhi</td>\n",
       "    </tr>\n",
       "    <tr>\n",
       "      <th>20424</th>\n",
       "      <td>7.4</td>\n",
       "      <td>NaN</td>\n",
       "      <td>Prakash Mehra</td>\n",
       "      <td>22612.0</td>\n",
       "      <td>1017</td>\n",
       "      <td>Bollywood / Indian</td>\n",
       "      <td>Hindi</td>\n",
       "      <td>1978-08-27</td>\n",
       "      <td>1978-10-27</td>\n",
       "      <td>189</td>\n",
       "      <td>As an orphan on the streets in Shimla, young S...</td>\n",
       "      <td>Muqaddar Ka Sikandar</td>\n",
       "      <td>40083.0</td>\n",
       "      <td>Vijay Kaul, Kader Khan, Laxmikant Sharma</td>\n",
       "    </tr>\n",
       "  </tbody>\n",
       "</table>\n",
       "<p>926 rows × 14 columns</p>\n",
       "</div>"
      ],
      "text/plain": [
       "       imdb_rating appropriate_for          director  downloads      id  \\\n",
       "2              5.2               R      Ben Wheatley     1427.0  343381   \n",
       "7              6.5               R    Benjamin Caron     1781.0  371751   \n",
       "47             6.1           PG-13    Florian Zeller      483.0  370801   \n",
       "61             7.3             NaN           Revathy    15457.0  368900   \n",
       "114            6.0             NaN   Daniel Diosdado     1438.0  371286   \n",
       "...            ...             ...               ...        ...     ...   \n",
       "20179          8.4               R    Chan-wook Park     6426.0   12453   \n",
       "20195          6.2       Not Rated      Vikram Bhatt    39983.0     945   \n",
       "20207          6.2               R      Victor Salva    21943.0   12431   \n",
       "20224          4.0       Not Rated  Lawrence D'Souza    10812.0     492   \n",
       "20424          7.4             NaN     Prakash Mehra    22612.0    1017   \n",
       "\n",
       "                  industry       language posted_date release_date  run_time  \\\n",
       "2      Hollywood / English  English,Hindi  2021-04-20   2021-06-18  1h 47min   \n",
       "7      Hollywood / English        English  2023-02-13   2023-02-17       116   \n",
       "47     Hollywood / English        English  2023-01-23   2023-02-17       123   \n",
       "61      Bollywood / Indian          Hindi  2022-12-10   2023-02-10       137   \n",
       "114    Hollywood / English        English  2023-02-02   2023-02-14        84   \n",
       "...                    ...            ...         ...          ...       ...   \n",
       "20179  Hollywood / English         Korean  2003-03-22   2003-11-21   120 min   \n",
       "20195   Bollywood / Indian          Hindi  2002-05-19   2002-06-19       158   \n",
       "20207  Hollywood / English        English  2001-09-01   2013-06-08        90   \n",
       "20224   Bollywood / Indian  Hindi,English  2000-12-01   2009-06-03       170   \n",
       "20424   Bollywood / Indian          Hindi  1978-08-27   1978-10-27       189   \n",
       "\n",
       "                                               storyline  \\\n",
       "2      As the world searches for a cure to a disastro...   \n",
       "7      Motivations are suspect, and expectations are ...   \n",
       "47     Peter\\r\\n has his busy life with new partner B...   \n",
       "61     Sujata, an ideal mother, who battled the most ...   \n",
       "114    A mysterious figure starts to sabotage a local...   \n",
       "...                                                  ...   \n",
       "20179  An average man is kidnapped and imprisoned in ...   \n",
       "20195  Vikrant and Gulab Khatri are brothers-in-law w...   \n",
       "20207  On their way back home during the spring break...   \n",
       "20224  Vijay Verma is a rich, selfish playboy who enj...   \n",
       "20424  As an orphan on the streets in Shimla, young S...   \n",
       "\n",
       "                      title    views  \\\n",
       "2              In the Earth  14419.0   \n",
       "7                   Sharper  18225.0   \n",
       "47                  The Son   7475.0   \n",
       "61             Salaam Venky  73463.0   \n",
       "114               The Nomad  15732.0   \n",
       "...                     ...      ...   \n",
       "20179              Oldeuboi  18927.0   \n",
       "20195  Awara Paagal Deewana  73096.0   \n",
       "20207      Jeepers Creepers  61301.0   \n",
       "20224      Sanam Teri Kasam  29553.0   \n",
       "20424  Muqaddar Ka Sikandar  40083.0   \n",
       "\n",
       "                                                writer  \n",
       "2                                         Ben Wheatley  \n",
       "7                    Brian Gatewood, Alessandro Tanaka  \n",
       "47                 Florian Zeller, Christopher Hampton  \n",
       "61                          Sameer Arora, Kausar Munir  \n",
       "114                                    Daniel Diosdado  \n",
       "...                                                ...  \n",
       "20179                Garon Tsuchiya, Nobuaki Minegishi  \n",
       "20195  Anand S. Vardhan, Mangesh Kulkarni, Neeraj Vora  \n",
       "20207                                     Victor Salva  \n",
       "20224                                      Talat Rekhi  \n",
       "20424         Vijay Kaul, Kader Khan, Laxmikant Sharma  \n",
       "\n",
       "[926 rows x 14 columns]"
      ]
     },
     "execution_count": 74,
     "metadata": {},
     "output_type": "execute_result"
    }
   ],
   "source": [
    "df[df['posted_date']<df['release_date']]"
   ]
  },
  {
   "cell_type": "markdown",
   "id": "4b87afb8",
   "metadata": {},
   "source": [
    "这个盗版网页的功能较强，有一些电影在全球发行前就能在盗版网页上看到"
   ]
  },
  {
   "cell_type": "markdown",
   "id": "af77c2a2",
   "metadata": {},
   "source": [
    "（12）run_time"
   ]
  },
  {
   "cell_type": "code",
   "execution_count": 75,
   "id": "4de4a87c",
   "metadata": {},
   "outputs": [
    {
     "data": {
      "text/plain": [
       "999"
      ]
     },
     "execution_count": 75,
     "metadata": {},
     "output_type": "execute_result"
    }
   ],
   "source": [
    "df.run_time.isna().sum()"
   ]
  },
  {
   "cell_type": "markdown",
   "id": "9087c479",
   "metadata": {},
   "source": [
    "run_time一共有999行空数据，不能直接删除"
   ]
  },
  {
   "cell_type": "code",
   "execution_count": 76,
   "id": "5a3191b5",
   "metadata": {
    "scrolled": true
   },
   "outputs": [
    {
     "data": {
      "text/plain": [
       "1              84\n",
       "2        1h 47min\n",
       "4             122\n",
       "5             131\n",
       "6             200\n",
       "           ...   \n",
       "20543         NaN\n",
       "20544         159\n",
       "20545    1h 50min\n",
       "20546         NaN\n",
       "20547         NaN\n",
       "Name: run_time, Length: 17085, dtype: object"
      ]
     },
     "execution_count": 76,
     "metadata": {},
     "output_type": "execute_result"
    }
   ],
   "source": [
    "df['run_time']"
   ]
  },
  {
   "cell_type": "code",
   "execution_count": 77,
   "id": "9e02c75e",
   "metadata": {},
   "outputs": [
    {
     "data": {
      "text/plain": [
       "Int64Index([    1,     2,     4,     5,     6,     7,     8,     9,    10,\n",
       "               12,\n",
       "            ...\n",
       "            20538, 20539, 20540, 20541, 20542, 20543, 20544, 20545, 20546,\n",
       "            20547],\n",
       "           dtype='int64', length=17085)"
      ]
     },
     "execution_count": 77,
     "metadata": {},
     "output_type": "execute_result"
    }
   ],
   "source": [
    "df['run_time'].index"
   ]
  },
  {
   "cell_type": "markdown",
   "id": "dc6cafcf",
   "metadata": {},
   "source": [
    "数据格式不统一,将格式都转换为分钟"
   ]
  },
  {
   "cell_type": "code",
   "execution_count": 78,
   "id": "274db706",
   "metadata": {},
   "outputs": [],
   "source": [
    "\n",
    "for time in df['run_time'].tolist():\n",
    "    ti = 0\n",
    "    if 'h' in str(time) and 'min' in str(time):\n",
    "        t = str(time).rsplit('h')\n",
    "        m = t[1].rsplit('min')\n",
    "        ti = int(t[0])*60 + int(m[0])\n",
    "        df.loc[df[df['run_time']==time].index, 'run_time'] = str(ti)  \n",
    "    if 'h'  in str(time) and 'min'  not in str(time):\n",
    "        t = str(time).rsplit('h')\n",
    "        ti = int(t[0])*60\n",
    "        df.loc[df[df['run_time']==time].index, 'run_time'] = str(ti)  \n",
    "    if 'h'not  in str(time) and 'min'  in str(time):\n",
    "        t = str(time).rsplit('min')\n",
    "        ti = int(t[0])\n",
    "        df.loc[df[df['run_time']==time].index, 'run_time'] = str(ti)    \n",
    "    \n",
    "        \n",
    "        "
   ]
  },
  {
   "cell_type": "code",
   "execution_count": 79,
   "id": "497793c4",
   "metadata": {
    "scrolled": true
   },
   "outputs": [
    {
     "data": {
      "text/plain": [
       "1         84\n",
       "2        107\n",
       "4        122\n",
       "5        131\n",
       "6        200\n",
       "        ... \n",
       "20543    NaN\n",
       "20544    159\n",
       "20545    110\n",
       "20546    NaN\n",
       "20547    NaN\n",
       "Name: run_time, Length: 17085, dtype: object"
      ]
     },
     "execution_count": 79,
     "metadata": {},
     "output_type": "execute_result"
    }
   ],
   "source": [
    "df.run_time"
   ]
  },
  {
   "cell_type": "code",
   "execution_count": 80,
   "id": "0db773bd",
   "metadata": {
    "scrolled": true
   },
   "outputs": [],
   "source": [
    "df.run_time = df.run_time.astype('float64')"
   ]
  },
  {
   "cell_type": "markdown",
   "id": "d1d3535d",
   "metadata": {},
   "source": [
    "可以看到，将已有的时间格式都化为统一的格式，空值除外"
   ]
  },
  {
   "cell_type": "markdown",
   "id": "805b7bde",
   "metadata": {},
   "source": [
    "查看这些时间的分布情况"
   ]
  },
  {
   "cell_type": "code",
   "execution_count": 81,
   "id": "a320f9b5",
   "metadata": {},
   "outputs": [
    {
     "data": {
      "text/plain": [
       "count    16086.000000\n",
       "mean       105.886423\n",
       "std         24.253712\n",
       "min          2.000000\n",
       "25%         90.000000\n",
       "50%         99.000000\n",
       "75%        118.000000\n",
       "max        321.000000\n",
       "Name: run_time, dtype: float64"
      ]
     },
     "execution_count": 81,
     "metadata": {},
     "output_type": "execute_result"
    }
   ],
   "source": [
    "df.run_time.describe()"
   ]
  },
  {
   "cell_type": "code",
   "execution_count": 82,
   "id": "09760123",
   "metadata": {},
   "outputs": [
    {
     "data": {
      "text/plain": [
       "<Axes: >"
      ]
     },
     "execution_count": 82,
     "metadata": {},
     "output_type": "execute_result"
    },
    {
     "data": {
      "image/png": "[encoded data removed]",
      "text/plain": [
       "<Figure size 640x480 with 1 Axes>"
      ]
     },
     "metadata": {},
     "output_type": "display_data"
    }
   ],
   "source": [
    "df.run_time.hist(bins=10)"
   ]
  },
  {
   "cell_type": "markdown",
   "id": "2b0022c6",
   "metadata": {},
   "source": [
    "使用均值来填充空值"
   ]
  },
  {
   "cell_type": "code",
   "execution_count": 83,
   "id": "06232c3b",
   "metadata": {
    "scrolled": true
   },
   "outputs": [],
   "source": [
    "df['run_time'].fillna(106,inplace=True)"
   ]
  },
  {
   "cell_type": "markdown",
   "id": "29f4307c",
   "metadata": {},
   "source": [
    "均值为：105.886423， 所以使用106来填充，并且能成功填充"
   ]
  },
  {
   "cell_type": "markdown",
   "id": "fa058961",
   "metadata": {},
   "source": [
    "(13)director"
   ]
  },
  {
   "cell_type": "markdown",
   "id": "5465aa24",
   "metadata": {},
   "source": [
    "缺失值的数量"
   ]
  },
  {
   "cell_type": "code",
   "execution_count": 84,
   "id": "f28eb72c",
   "metadata": {},
   "outputs": [
    {
     "data": {
      "text/plain": [
       "1565"
      ]
     },
     "execution_count": 84,
     "metadata": {},
     "output_type": "execute_result"
    }
   ],
   "source": [
    "df.director.isna().sum()"
   ]
  },
  {
   "cell_type": "code",
   "execution_count": 85,
   "id": "876aa81c",
   "metadata": {},
   "outputs": [
    {
     "data": {
      "text/plain": [
       "array(['Paul Ziller', 'Ben Wheatley', 'Shaji Kailas', ..., 'Guy Hamilton',\n",
       "       'C.V. Sridhar', 'Bimal Roy'], dtype=object)"
      ]
     },
     "execution_count": 85,
     "metadata": {},
     "output_type": "execute_result"
    }
   ],
   "source": [
    "df.director.unique()"
   ]
  },
  {
   "cell_type": "code",
   "execution_count": 86,
   "id": "21edcab9",
   "metadata": {},
   "outputs": [
    {
     "data": {
      "text/plain": [
       "9672"
      ]
     },
     "execution_count": 86,
     "metadata": {},
     "output_type": "execute_result"
    }
   ],
   "source": [
    "df.director.nunique()"
   ]
  },
  {
   "cell_type": "markdown",
   "id": "ef9edbf5",
   "metadata": {},
   "source": [
    "导演数量太多"
   ]
  },
  {
   "cell_type": "markdown",
   "id": "ceed479c",
   "metadata": {},
   "source": [
    "(14)writer"
   ]
  },
  {
   "cell_type": "code",
   "execution_count": 87,
   "id": "74ea0359",
   "metadata": {},
   "outputs": [
    {
     "data": {
      "text/plain": [
       "1819"
      ]
     },
     "execution_count": 87,
     "metadata": {},
     "output_type": "execute_result"
    }
   ],
   "source": [
    "df.writer.isna().sum()"
   ]
  },
  {
   "cell_type": "code",
   "execution_count": 88,
   "id": "abce53ae",
   "metadata": {},
   "outputs": [
    {
     "data": {
      "text/plain": [
       "array(['John Christian Plummer', 'Ben Wheatley', 'Rajesh Jayaraman', ...,\n",
       "       'James Kennaway, Wilfred Greatorex, Derek Dempster',\n",
       "       'Abrar Alvi, Raj Baldev Raj',\n",
       "       'Rajinder Singh Bedi, Saratchandra Chatterjee, Nabendu Ghosh'],\n",
       "      dtype=object)"
      ]
     },
     "execution_count": 88,
     "metadata": {},
     "output_type": "execute_result"
    }
   ],
   "source": [
    "df.writer.unique()"
   ]
  },
  {
   "cell_type": "code",
   "execution_count": 89,
   "id": "af70e775",
   "metadata": {},
   "outputs": [
    {
     "data": {
      "text/plain": [
       "13603"
      ]
     },
     "execution_count": 89,
     "metadata": {},
     "output_type": "execute_result"
    }
   ],
   "source": [
    "df.writer.nunique()"
   ]
  },
  {
   "cell_type": "markdown",
   "id": "8332245f",
   "metadata": {},
   "source": [
    "演员数量太多"
   ]
  },
  {
   "cell_type": "markdown",
   "id": "bf51d6bd",
   "metadata": {},
   "source": [
    "## 3 对比新旧数据"
   ]
  },
  {
   "cell_type": "code",
   "execution_count": 90,
   "id": "8ba57830",
   "metadata": {
    "scrolled": true
   },
   "outputs": [
    {
     "data": {
      "text/html": [
       "<div>\n",
       "<style scoped>\n",
       "    .dataframe tbody tr th:only-of-type {\n",
       "        vertical-align: middle;\n",
       "    }\n",
       "\n",
       "    .dataframe tbody tr th {\n",
       "        vertical-align: top;\n",
       "    }\n",
       "\n",
       "    .dataframe thead th {\n",
       "        text-align: right;\n",
       "    }\n",
       "</style>\n",
       "<table border=\"1\" class=\"dataframe\">\n",
       "  <thead>\n",
       "    <tr style=\"text-align: right;\">\n",
       "      <th></th>\n",
       "      <th>imdb_rating</th>\n",
       "      <th>appropriate_for</th>\n",
       "      <th>director</th>\n",
       "      <th>downloads</th>\n",
       "      <th>id</th>\n",
       "      <th>industry</th>\n",
       "      <th>language</th>\n",
       "      <th>posted_date</th>\n",
       "      <th>release_date</th>\n",
       "      <th>run_time</th>\n",
       "      <th>storyline</th>\n",
       "      <th>title</th>\n",
       "      <th>views</th>\n",
       "      <th>writer</th>\n",
       "    </tr>\n",
       "  </thead>\n",
       "  <tbody>\n",
       "    <tr>\n",
       "      <th>0</th>\n",
       "      <td>4.8</td>\n",
       "      <td>R</td>\n",
       "      <td>John Swab</td>\n",
       "      <td>304</td>\n",
       "      <td>372092</td>\n",
       "      <td>Hollywood / English</td>\n",
       "      <td>English</td>\n",
       "      <td>20 Feb, 2023</td>\n",
       "      <td>Jan 28 2023</td>\n",
       "      <td>105</td>\n",
       "      <td>Doc\\r\\n facilitates a fragile truce between th...</td>\n",
       "      <td>Little Dixie</td>\n",
       "      <td>2,794</td>\n",
       "      <td>John Swab</td>\n",
       "    </tr>\n",
       "    <tr>\n",
       "      <th>1</th>\n",
       "      <td>6.4</td>\n",
       "      <td>TV-PG</td>\n",
       "      <td>Paul Ziller</td>\n",
       "      <td>73</td>\n",
       "      <td>372091</td>\n",
       "      <td>Hollywood / English</td>\n",
       "      <td>English</td>\n",
       "      <td>20 Feb, 2023</td>\n",
       "      <td>Feb 05 2023</td>\n",
       "      <td>84</td>\n",
       "      <td>Caterer\\r\\n Goldy Berry reunites with detectiv...</td>\n",
       "      <td>Grilling Season: A Curious Caterer Mystery</td>\n",
       "      <td>1,002</td>\n",
       "      <td>John Christian Plummer</td>\n",
       "    </tr>\n",
       "    <tr>\n",
       "      <th>2</th>\n",
       "      <td>5.2</td>\n",
       "      <td>R</td>\n",
       "      <td>Ben Wheatley</td>\n",
       "      <td>1,427</td>\n",
       "      <td>343381</td>\n",
       "      <td>Hollywood / English</td>\n",
       "      <td>English,Hindi</td>\n",
       "      <td>20 Apr, 2021</td>\n",
       "      <td>Jun 18 2021</td>\n",
       "      <td>1h 47min</td>\n",
       "      <td>As the world searches for a cure to a disastro...</td>\n",
       "      <td>In the Earth</td>\n",
       "      <td>14,419</td>\n",
       "      <td>Ben Wheatley</td>\n",
       "    </tr>\n",
       "    <tr>\n",
       "      <th>3</th>\n",
       "      <td>8.1</td>\n",
       "      <td>NaN</td>\n",
       "      <td>Venky Atluri</td>\n",
       "      <td>1,549</td>\n",
       "      <td>372090</td>\n",
       "      <td>Tollywood</td>\n",
       "      <td>Hindi</td>\n",
       "      <td>20 Feb, 2023</td>\n",
       "      <td>Feb 17 2023</td>\n",
       "      <td>139</td>\n",
       "      <td>The life of a young man and his struggles agai...</td>\n",
       "      <td>Vaathi</td>\n",
       "      <td>4,878</td>\n",
       "      <td>Venky Atluri</td>\n",
       "    </tr>\n",
       "    <tr>\n",
       "      <th>4</th>\n",
       "      <td>4.6</td>\n",
       "      <td>NaN</td>\n",
       "      <td>Shaji Kailas</td>\n",
       "      <td>657</td>\n",
       "      <td>372089</td>\n",
       "      <td>Tollywood</td>\n",
       "      <td>Hindi</td>\n",
       "      <td>20 Feb, 2023</td>\n",
       "      <td>Jan 26 2023</td>\n",
       "      <td>122</td>\n",
       "      <td>A man named Kalidas gets stranded due to the p...</td>\n",
       "      <td>Alone</td>\n",
       "      <td>2,438</td>\n",
       "      <td>Rajesh Jayaraman</td>\n",
       "    </tr>\n",
       "    <tr>\n",
       "      <th>...</th>\n",
       "      <td>...</td>\n",
       "      <td>...</td>\n",
       "      <td>...</td>\n",
       "      <td>...</td>\n",
       "      <td>...</td>\n",
       "      <td>...</td>\n",
       "      <td>...</td>\n",
       "      <td>...</td>\n",
       "      <td>...</td>\n",
       "      <td>...</td>\n",
       "      <td>...</td>\n",
       "      <td>...</td>\n",
       "      <td>...</td>\n",
       "      <td>...</td>\n",
       "    </tr>\n",
       "    <tr>\n",
       "      <th>20543</th>\n",
       "      <td>NaN</td>\n",
       "      <td>NaN</td>\n",
       "      <td>NaN</td>\n",
       "      <td>1,998</td>\n",
       "      <td>28957</td>\n",
       "      <td>Bollywood / Indian</td>\n",
       "      <td>Hindi</td>\n",
       "      <td>01 Jan, 1970</td>\n",
       "      <td>Mar 13 1959</td>\n",
       "      <td>NaN</td>\n",
       "      <td>NaN</td>\n",
       "      <td>Bhai-Bahen</td>\n",
       "      <td>6,219</td>\n",
       "      <td>NaN</td>\n",
       "    </tr>\n",
       "    <tr>\n",
       "      <th>20544</th>\n",
       "      <td>7.7</td>\n",
       "      <td>NaN</td>\n",
       "      <td>Bimal Roy</td>\n",
       "      <td>6,080</td>\n",
       "      <td>28958</td>\n",
       "      <td>Bollywood / Indian</td>\n",
       "      <td>Hindi</td>\n",
       "      <td>01 Jan, 1970</td>\n",
       "      <td>May 13 1955</td>\n",
       "      <td>159</td>\n",
       "      <td>Devdas and Parvati had been inseparable as chi...</td>\n",
       "      <td>Devdas</td>\n",
       "      <td>16,376</td>\n",
       "      <td>Rajinder Singh Bedi, Saratchandra Chatterjee, ...</td>\n",
       "    </tr>\n",
       "    <tr>\n",
       "      <th>20545</th>\n",
       "      <td>8.0</td>\n",
       "      <td>NaN</td>\n",
       "      <td>NaN</td>\n",
       "      <td>3,276</td>\n",
       "      <td>30459</td>\n",
       "      <td>Bollywood / Indian</td>\n",
       "      <td>Hindi</td>\n",
       "      <td>01 Jan, 1970</td>\n",
       "      <td>Mar 28 1958</td>\n",
       "      <td>1h 50min</td>\n",
       "      <td>While driving his car on a rainy night, Anand'...</td>\n",
       "      <td>Madhumati</td>\n",
       "      <td>7,220</td>\n",
       "      <td>NaN</td>\n",
       "    </tr>\n",
       "    <tr>\n",
       "      <th>20546</th>\n",
       "      <td>NaN</td>\n",
       "      <td>NaN</td>\n",
       "      <td>NaN</td>\n",
       "      <td>309</td>\n",
       "      <td>371669</td>\n",
       "      <td>Wrestling</td>\n",
       "      <td>English</td>\n",
       "      <td>10 Feb, 2023</td>\n",
       "      <td>Feb 09 2023</td>\n",
       "      <td>NaN</td>\n",
       "      <td>NaN</td>\n",
       "      <td>TNA.Impact 2023-02-09</td>\n",
       "      <td>1,419</td>\n",
       "      <td>NaN</td>\n",
       "    </tr>\n",
       "    <tr>\n",
       "      <th>20547</th>\n",
       "      <td>NaN</td>\n",
       "      <td>NaN</td>\n",
       "      <td>NaN</td>\n",
       "      <td>2,613</td>\n",
       "      <td>371816</td>\n",
       "      <td>Wrestling</td>\n",
       "      <td>English</td>\n",
       "      <td>14 Feb, 2023</td>\n",
       "      <td>Feb 13 2023</td>\n",
       "      <td>NaN</td>\n",
       "      <td>NaN</td>\n",
       "      <td>WWE Raw 2023-02-13</td>\n",
       "      <td>6,697</td>\n",
       "      <td>NaN</td>\n",
       "    </tr>\n",
       "  </tbody>\n",
       "</table>\n",
       "<p>20548 rows × 14 columns</p>\n",
       "</div>"
      ],
      "text/plain": [
       "       imdb_rating appropriate_for      director downloads      id  \\\n",
       "0              4.8               R     John Swab       304  372092   \n",
       "1              6.4           TV-PG   Paul Ziller        73  372091   \n",
       "2              5.2               R  Ben Wheatley     1,427  343381   \n",
       "3              8.1             NaN  Venky Atluri     1,549  372090   \n",
       "4              4.6             NaN  Shaji Kailas       657  372089   \n",
       "...            ...             ...           ...       ...     ...   \n",
       "20543          NaN             NaN           NaN     1,998   28957   \n",
       "20544          7.7             NaN     Bimal Roy     6,080   28958   \n",
       "20545          8.0             NaN           NaN     3,276   30459   \n",
       "20546          NaN             NaN           NaN       309  371669   \n",
       "20547          NaN             NaN           NaN     2,613  371816   \n",
       "\n",
       "                  industry       language   posted_date release_date  \\\n",
       "0      Hollywood / English        English  20 Feb, 2023  Jan 28 2023   \n",
       "1      Hollywood / English        English  20 Feb, 2023  Feb 05 2023   \n",
       "2      Hollywood / English  English,Hindi  20 Apr, 2021  Jun 18 2021   \n",
       "3                Tollywood          Hindi  20 Feb, 2023  Feb 17 2023   \n",
       "4                Tollywood          Hindi  20 Feb, 2023  Jan 26 2023   \n",
       "...                    ...            ...           ...          ...   \n",
       "20543   Bollywood / Indian          Hindi  01 Jan, 1970  Mar 13 1959   \n",
       "20544   Bollywood / Indian          Hindi  01 Jan, 1970  May 13 1955   \n",
       "20545   Bollywood / Indian          Hindi  01 Jan, 1970  Mar 28 1958   \n",
       "20546            Wrestling        English  10 Feb, 2023  Feb 09 2023   \n",
       "20547            Wrestling        English  14 Feb, 2023  Feb 13 2023   \n",
       "\n",
       "       run_time                                          storyline  \\\n",
       "0           105  Doc\\r\\n facilitates a fragile truce between th...   \n",
       "1            84  Caterer\\r\\n Goldy Berry reunites with detectiv...   \n",
       "2      1h 47min  As the world searches for a cure to a disastro...   \n",
       "3           139  The life of a young man and his struggles agai...   \n",
       "4           122  A man named Kalidas gets stranded due to the p...   \n",
       "...         ...                                                ...   \n",
       "20543       NaN                                                NaN   \n",
       "20544       159  Devdas and Parvati had been inseparable as chi...   \n",
       "20545  1h 50min  While driving his car on a rainy night, Anand'...   \n",
       "20546       NaN                                                NaN   \n",
       "20547       NaN                                                NaN   \n",
       "\n",
       "                                            title   views  \\\n",
       "0                                    Little Dixie   2,794   \n",
       "1      Grilling Season: A Curious Caterer Mystery   1,002   \n",
       "2                                    In the Earth  14,419   \n",
       "3                                          Vaathi   4,878   \n",
       "4                                           Alone   2,438   \n",
       "...                                           ...     ...   \n",
       "20543                                  Bhai-Bahen   6,219   \n",
       "20544                                      Devdas  16,376   \n",
       "20545                                   Madhumati   7,220   \n",
       "20546                       TNA.Impact 2023-02-09   1,419   \n",
       "20547                          WWE Raw 2023-02-13   6,697   \n",
       "\n",
       "                                                  writer  \n",
       "0                                              John Swab  \n",
       "1                                 John Christian Plummer  \n",
       "2                                           Ben Wheatley  \n",
       "3                                           Venky Atluri  \n",
       "4                                       Rajesh Jayaraman  \n",
       "...                                                  ...  \n",
       "20543                                                NaN  \n",
       "20544  Rajinder Singh Bedi, Saratchandra Chatterjee, ...  \n",
       "20545                                                NaN  \n",
       "20546                                                NaN  \n",
       "20547                                                NaN  \n",
       "\n",
       "[20548 rows x 14 columns]"
      ]
     },
     "execution_count": 90,
     "metadata": {},
     "output_type": "execute_result"
    }
   ],
   "source": [
    "old_df"
   ]
  },
  {
   "cell_type": "code",
   "execution_count": 91,
   "id": "5d8290ea",
   "metadata": {},
   "outputs": [
    {
     "data": {
      "text/html": [
       "<div>\n",
       "<style scoped>\n",
       "    .dataframe tbody tr th:only-of-type {\n",
       "        vertical-align: middle;\n",
       "    }\n",
       "\n",
       "    .dataframe tbody tr th {\n",
       "        vertical-align: top;\n",
       "    }\n",
       "\n",
       "    .dataframe thead th {\n",
       "        text-align: right;\n",
       "    }\n",
       "</style>\n",
       "<table border=\"1\" class=\"dataframe\">\n",
       "  <thead>\n",
       "    <tr style=\"text-align: right;\">\n",
       "      <th></th>\n",
       "      <th>dtype</th>\n",
       "      <th>specimen</th>\n",
       "      <th>nunique</th>\n",
       "      <th>null_count</th>\n",
       "      <th>null_share</th>\n",
       "    </tr>\n",
       "  </thead>\n",
       "  <tbody>\n",
       "    <tr>\n",
       "      <th>imdb_rating</th>\n",
       "      <td>float64</td>\n",
       "      <td>4.8</td>\n",
       "      <td>85</td>\n",
       "      <td>841</td>\n",
       "      <td>4.09%</td>\n",
       "    </tr>\n",
       "    <tr>\n",
       "      <th>appropriate_for</th>\n",
       "      <td>object</td>\n",
       "      <td>R</td>\n",
       "      <td>21</td>\n",
       "      <td>9476</td>\n",
       "      <td>46.12%</td>\n",
       "    </tr>\n",
       "    <tr>\n",
       "      <th>director</th>\n",
       "      <td>object</td>\n",
       "      <td>John Swab</td>\n",
       "      <td>9672</td>\n",
       "      <td>1938</td>\n",
       "      <td>9.43%</td>\n",
       "    </tr>\n",
       "    <tr>\n",
       "      <th>downloads</th>\n",
       "      <td>object</td>\n",
       "      <td>304</td>\n",
       "      <td>10625</td>\n",
       "      <td>1</td>\n",
       "      <td>0.00%</td>\n",
       "    </tr>\n",
       "    <tr>\n",
       "      <th>id</th>\n",
       "      <td>int64</td>\n",
       "      <td>372092</td>\n",
       "      <td>17086</td>\n",
       "      <td>0</td>\n",
       "      <td>0.00%</td>\n",
       "    </tr>\n",
       "    <tr>\n",
       "      <th>industry</th>\n",
       "      <td>object</td>\n",
       "      <td>Hollywood / English</td>\n",
       "      <td>10</td>\n",
       "      <td>1</td>\n",
       "      <td>0.00%</td>\n",
       "    </tr>\n",
       "    <tr>\n",
       "      <th>language</th>\n",
       "      <td>object</td>\n",
       "      <td>English</td>\n",
       "      <td>1168</td>\n",
       "      <td>542</td>\n",
       "      <td>2.64%</td>\n",
       "    </tr>\n",
       "    <tr>\n",
       "      <th>posted_date</th>\n",
       "      <td>object</td>\n",
       "      <td>20 Feb, 2023</td>\n",
       "      <td>4123</td>\n",
       "      <td>1</td>\n",
       "      <td>0.00%</td>\n",
       "    </tr>\n",
       "    <tr>\n",
       "      <th>release_date</th>\n",
       "      <td>object</td>\n",
       "      <td>Jan 28 2023</td>\n",
       "      <td>4886</td>\n",
       "      <td>1</td>\n",
       "      <td>0.00%</td>\n",
       "    </tr>\n",
       "    <tr>\n",
       "      <th>run_time</th>\n",
       "      <td>object</td>\n",
       "      <td>105</td>\n",
       "      <td>415</td>\n",
       "      <td>1768</td>\n",
       "      <td>8.60%</td>\n",
       "    </tr>\n",
       "    <tr>\n",
       "      <th>storyline</th>\n",
       "      <td>object</td>\n",
       "      <td>Doc\\r\\n facilitates a fragile truce between th...</td>\n",
       "      <td>15748</td>\n",
       "      <td>1701</td>\n",
       "      <td>8.28%</td>\n",
       "    </tr>\n",
       "    <tr>\n",
       "      <th>title</th>\n",
       "      <td>object</td>\n",
       "      <td>Little Dixie</td>\n",
       "      <td>16572</td>\n",
       "      <td>1</td>\n",
       "      <td>0.00%</td>\n",
       "    </tr>\n",
       "    <tr>\n",
       "      <th>views</th>\n",
       "      <td>object</td>\n",
       "      <td>2,794</td>\n",
       "      <td>16821</td>\n",
       "      <td>1</td>\n",
       "      <td>0.00%</td>\n",
       "    </tr>\n",
       "    <tr>\n",
       "      <th>writer</th>\n",
       "      <td>object</td>\n",
       "      <td>John Swab</td>\n",
       "      <td>13603</td>\n",
       "      <td>2192</td>\n",
       "      <td>10.67%</td>\n",
       "    </tr>\n",
       "  </tbody>\n",
       "</table>\n",
       "</div>"
      ],
      "text/plain": [
       "                   dtype                                           specimen  \\\n",
       "imdb_rating      float64                                                4.8   \n",
       "appropriate_for   object                                                  R   \n",
       "director          object                                          John Swab   \n",
       "downloads         object                                                304   \n",
       "id                 int64                                             372092   \n",
       "industry          object                                Hollywood / English   \n",
       "language          object                                            English   \n",
       "posted_date       object                                       20 Feb, 2023   \n",
       "release_date      object                                        Jan 28 2023   \n",
       "run_time          object                                                105   \n",
       "storyline         object  Doc\\r\\n facilitates a fragile truce between th...   \n",
       "title             object                                       Little Dixie   \n",
       "views             object                                              2,794   \n",
       "writer            object                                          John Swab   \n",
       "\n",
       "                 nunique  null_count null_share  \n",
       "imdb_rating           85         841      4.09%  \n",
       "appropriate_for       21        9476     46.12%  \n",
       "director            9672        1938      9.43%  \n",
       "downloads          10625           1      0.00%  \n",
       "id                 17086           0      0.00%  \n",
       "industry              10           1      0.00%  \n",
       "language            1168         542      2.64%  \n",
       "posted_date         4123           1      0.00%  \n",
       "release_date        4886           1      0.00%  \n",
       "run_time             415        1768      8.60%  \n",
       "storyline          15748        1701      8.28%  \n",
       "title              16572           1      0.00%  \n",
       "views              16821           1      0.00%  \n",
       "writer             13603        2192     10.67%  "
      ]
     },
     "execution_count": 91,
     "metadata": {},
     "output_type": "execute_result"
    }
   ],
   "source": [
    "df_dtype(old_df)"
   ]
  },
  {
   "cell_type": "code",
   "execution_count": 92,
   "id": "e9b01ace",
   "metadata": {
    "scrolled": true
   },
   "outputs": [
    {
     "data": {
      "text/html": [
       "<div>\n",
       "<style scoped>\n",
       "    .dataframe tbody tr th:only-of-type {\n",
       "        vertical-align: middle;\n",
       "    }\n",
       "\n",
       "    .dataframe tbody tr th {\n",
       "        vertical-align: top;\n",
       "    }\n",
       "\n",
       "    .dataframe thead th {\n",
       "        text-align: right;\n",
       "    }\n",
       "</style>\n",
       "<table border=\"1\" class=\"dataframe\">\n",
       "  <thead>\n",
       "    <tr style=\"text-align: right;\">\n",
       "      <th></th>\n",
       "      <th>imdb_rating</th>\n",
       "      <th>appropriate_for</th>\n",
       "      <th>director</th>\n",
       "      <th>downloads</th>\n",
       "      <th>id</th>\n",
       "      <th>industry</th>\n",
       "      <th>language</th>\n",
       "      <th>posted_date</th>\n",
       "      <th>release_date</th>\n",
       "      <th>run_time</th>\n",
       "      <th>storyline</th>\n",
       "      <th>title</th>\n",
       "      <th>views</th>\n",
       "      <th>writer</th>\n",
       "    </tr>\n",
       "  </thead>\n",
       "  <tbody>\n",
       "    <tr>\n",
       "      <th>1</th>\n",
       "      <td>6.4</td>\n",
       "      <td>TV-PG</td>\n",
       "      <td>Paul Ziller</td>\n",
       "      <td>73.0</td>\n",
       "      <td>372091</td>\n",
       "      <td>Hollywood / English</td>\n",
       "      <td>English</td>\n",
       "      <td>2023-02-20</td>\n",
       "      <td>2023-02-05</td>\n",
       "      <td>84.0</td>\n",
       "      <td>Caterer\\r\\n Goldy Berry reunites with detectiv...</td>\n",
       "      <td>Grilling Season: A Curious Caterer Mystery</td>\n",
       "      <td>1002.0</td>\n",
       "      <td>John Christian Plummer</td>\n",
       "    </tr>\n",
       "    <tr>\n",
       "      <th>2</th>\n",
       "      <td>5.2</td>\n",
       "      <td>R</td>\n",
       "      <td>Ben Wheatley</td>\n",
       "      <td>1427.0</td>\n",
       "      <td>343381</td>\n",
       "      <td>Hollywood / English</td>\n",
       "      <td>English,Hindi</td>\n",
       "      <td>2021-04-20</td>\n",
       "      <td>2021-06-18</td>\n",
       "      <td>107.0</td>\n",
       "      <td>As the world searches for a cure to a disastro...</td>\n",
       "      <td>In the Earth</td>\n",
       "      <td>14419.0</td>\n",
       "      <td>Ben Wheatley</td>\n",
       "    </tr>\n",
       "    <tr>\n",
       "      <th>4</th>\n",
       "      <td>4.6</td>\n",
       "      <td>NaN</td>\n",
       "      <td>Shaji Kailas</td>\n",
       "      <td>657.0</td>\n",
       "      <td>372089</td>\n",
       "      <td>Tollywood</td>\n",
       "      <td>Hindi</td>\n",
       "      <td>2023-02-20</td>\n",
       "      <td>2023-01-26</td>\n",
       "      <td>122.0</td>\n",
       "      <td>A man named Kalidas gets stranded due to the p...</td>\n",
       "      <td>Alone</td>\n",
       "      <td>2438.0</td>\n",
       "      <td>Rajesh Jayaraman</td>\n",
       "    </tr>\n",
       "    <tr>\n",
       "      <th>5</th>\n",
       "      <td>5.4</td>\n",
       "      <td>NaN</td>\n",
       "      <td>Srinivas Gavireddy</td>\n",
       "      <td>746.0</td>\n",
       "      <td>372088</td>\n",
       "      <td>Tollywood</td>\n",
       "      <td>Hindi</td>\n",
       "      <td>2023-02-20</td>\n",
       "      <td>2021-11-26</td>\n",
       "      <td>131.0</td>\n",
       "      <td>Bagaram,\\r\\n after inheriting his grandfather'...</td>\n",
       "      <td>Anubhavinchu Raja</td>\n",
       "      <td>2940.0</td>\n",
       "      <td>Srinivas Gavireddy, Mayukh Adithya</td>\n",
       "    </tr>\n",
       "    <tr>\n",
       "      <th>6</th>\n",
       "      <td>6.0</td>\n",
       "      <td>TV-PG</td>\n",
       "      <td>NaN</td>\n",
       "      <td>5332.0</td>\n",
       "      <td>372059</td>\n",
       "      <td>Wrestling</td>\n",
       "      <td>English</td>\n",
       "      <td>2023-02-19</td>\n",
       "      <td>2023-02-18</td>\n",
       "      <td>200.0</td>\n",
       "      <td>Undisputed\\r\\n WWE Universal title: Reigns vs ...</td>\n",
       "      <td>WWE Elimination Chamber</td>\n",
       "      <td>11978.0</td>\n",
       "      <td>NaN</td>\n",
       "    </tr>\n",
       "    <tr>\n",
       "      <th>...</th>\n",
       "      <td>...</td>\n",
       "      <td>...</td>\n",
       "      <td>...</td>\n",
       "      <td>...</td>\n",
       "      <td>...</td>\n",
       "      <td>...</td>\n",
       "      <td>...</td>\n",
       "      <td>...</td>\n",
       "      <td>...</td>\n",
       "      <td>...</td>\n",
       "      <td>...</td>\n",
       "      <td>...</td>\n",
       "      <td>...</td>\n",
       "      <td>...</td>\n",
       "    </tr>\n",
       "    <tr>\n",
       "      <th>20543</th>\n",
       "      <td>6.0</td>\n",
       "      <td>NaN</td>\n",
       "      <td>NaN</td>\n",
       "      <td>1998.0</td>\n",
       "      <td>28957</td>\n",
       "      <td>Bollywood / Indian</td>\n",
       "      <td>Hindi</td>\n",
       "      <td>1970-01-01</td>\n",
       "      <td>1959-03-13</td>\n",
       "      <td>106.0</td>\n",
       "      <td>NaN</td>\n",
       "      <td>Bhai-Bahen</td>\n",
       "      <td>6219.0</td>\n",
       "      <td>NaN</td>\n",
       "    </tr>\n",
       "    <tr>\n",
       "      <th>20544</th>\n",
       "      <td>7.7</td>\n",
       "      <td>NaN</td>\n",
       "      <td>Bimal Roy</td>\n",
       "      <td>6080.0</td>\n",
       "      <td>28958</td>\n",
       "      <td>Bollywood / Indian</td>\n",
       "      <td>Hindi</td>\n",
       "      <td>1970-01-01</td>\n",
       "      <td>1955-05-13</td>\n",
       "      <td>159.0</td>\n",
       "      <td>Devdas and Parvati had been inseparable as chi...</td>\n",
       "      <td>Devdas</td>\n",
       "      <td>16376.0</td>\n",
       "      <td>Rajinder Singh Bedi, Saratchandra Chatterjee, ...</td>\n",
       "    </tr>\n",
       "    <tr>\n",
       "      <th>20545</th>\n",
       "      <td>8.0</td>\n",
       "      <td>NaN</td>\n",
       "      <td>NaN</td>\n",
       "      <td>3276.0</td>\n",
       "      <td>30459</td>\n",
       "      <td>Bollywood / Indian</td>\n",
       "      <td>Hindi</td>\n",
       "      <td>1970-01-01</td>\n",
       "      <td>1958-03-28</td>\n",
       "      <td>110.0</td>\n",
       "      <td>While driving his car on a rainy night, Anand'...</td>\n",
       "      <td>Madhumati</td>\n",
       "      <td>7220.0</td>\n",
       "      <td>NaN</td>\n",
       "    </tr>\n",
       "    <tr>\n",
       "      <th>20546</th>\n",
       "      <td>6.0</td>\n",
       "      <td>NaN</td>\n",
       "      <td>NaN</td>\n",
       "      <td>309.0</td>\n",
       "      <td>371669</td>\n",
       "      <td>Wrestling</td>\n",
       "      <td>English</td>\n",
       "      <td>2023-02-10</td>\n",
       "      <td>2023-02-09</td>\n",
       "      <td>106.0</td>\n",
       "      <td>NaN</td>\n",
       "      <td>TNA.Impact 2023-02-09</td>\n",
       "      <td>1419.0</td>\n",
       "      <td>NaN</td>\n",
       "    </tr>\n",
       "    <tr>\n",
       "      <th>20547</th>\n",
       "      <td>6.0</td>\n",
       "      <td>NaN</td>\n",
       "      <td>NaN</td>\n",
       "      <td>2613.0</td>\n",
       "      <td>371816</td>\n",
       "      <td>Wrestling</td>\n",
       "      <td>English</td>\n",
       "      <td>2023-02-14</td>\n",
       "      <td>2023-02-13</td>\n",
       "      <td>106.0</td>\n",
       "      <td>NaN</td>\n",
       "      <td>WWE Raw 2023-02-13</td>\n",
       "      <td>6697.0</td>\n",
       "      <td>NaN</td>\n",
       "    </tr>\n",
       "  </tbody>\n",
       "</table>\n",
       "<p>17085 rows × 14 columns</p>\n",
       "</div>"
      ],
      "text/plain": [
       "       imdb_rating appropriate_for            director  downloads      id  \\\n",
       "1              6.4           TV-PG         Paul Ziller       73.0  372091   \n",
       "2              5.2               R        Ben Wheatley     1427.0  343381   \n",
       "4              4.6             NaN        Shaji Kailas      657.0  372089   \n",
       "5              5.4             NaN  Srinivas Gavireddy      746.0  372088   \n",
       "6              6.0           TV-PG                 NaN     5332.0  372059   \n",
       "...            ...             ...                 ...        ...     ...   \n",
       "20543          6.0             NaN                 NaN     1998.0   28957   \n",
       "20544          7.7             NaN           Bimal Roy     6080.0   28958   \n",
       "20545          8.0             NaN                 NaN     3276.0   30459   \n",
       "20546          6.0             NaN                 NaN      309.0  371669   \n",
       "20547          6.0             NaN                 NaN     2613.0  371816   \n",
       "\n",
       "                  industry       language posted_date release_date  run_time  \\\n",
       "1      Hollywood / English        English  2023-02-20   2023-02-05      84.0   \n",
       "2      Hollywood / English  English,Hindi  2021-04-20   2021-06-18     107.0   \n",
       "4                Tollywood          Hindi  2023-02-20   2023-01-26     122.0   \n",
       "5                Tollywood          Hindi  2023-02-20   2021-11-26     131.0   \n",
       "6                Wrestling        English  2023-02-19   2023-02-18     200.0   \n",
       "...                    ...            ...         ...          ...       ...   \n",
       "20543   Bollywood / Indian          Hindi  1970-01-01   1959-03-13     106.0   \n",
       "20544   Bollywood / Indian          Hindi  1970-01-01   1955-05-13     159.0   \n",
       "20545   Bollywood / Indian          Hindi  1970-01-01   1958-03-28     110.0   \n",
       "20546            Wrestling        English  2023-02-10   2023-02-09     106.0   \n",
       "20547            Wrestling        English  2023-02-14   2023-02-13     106.0   \n",
       "\n",
       "                                               storyline  \\\n",
       "1      Caterer\\r\\n Goldy Berry reunites with detectiv...   \n",
       "2      As the world searches for a cure to a disastro...   \n",
       "4      A man named Kalidas gets stranded due to the p...   \n",
       "5      Bagaram,\\r\\n after inheriting his grandfather'...   \n",
       "6      Undisputed\\r\\n WWE Universal title: Reigns vs ...   \n",
       "...                                                  ...   \n",
       "20543                                                NaN   \n",
       "20544  Devdas and Parvati had been inseparable as chi...   \n",
       "20545  While driving his car on a rainy night, Anand'...   \n",
       "20546                                                NaN   \n",
       "20547                                                NaN   \n",
       "\n",
       "                                            title    views  \\\n",
       "1      Grilling Season: A Curious Caterer Mystery   1002.0   \n",
       "2                                    In the Earth  14419.0   \n",
       "4                                           Alone   2438.0   \n",
       "5                               Anubhavinchu Raja   2940.0   \n",
       "6                         WWE Elimination Chamber  11978.0   \n",
       "...                                           ...      ...   \n",
       "20543                                  Bhai-Bahen   6219.0   \n",
       "20544                                      Devdas  16376.0   \n",
       "20545                                   Madhumati   7220.0   \n",
       "20546                       TNA.Impact 2023-02-09   1419.0   \n",
       "20547                          WWE Raw 2023-02-13   6697.0   \n",
       "\n",
       "                                                  writer  \n",
       "1                                 John Christian Plummer  \n",
       "2                                           Ben Wheatley  \n",
       "4                                       Rajesh Jayaraman  \n",
       "5                     Srinivas Gavireddy, Mayukh Adithya  \n",
       "6                                                    NaN  \n",
       "...                                                  ...  \n",
       "20543                                                NaN  \n",
       "20544  Rajinder Singh Bedi, Saratchandra Chatterjee, ...  \n",
       "20545                                                NaN  \n",
       "20546                                                NaN  \n",
       "20547                                                NaN  \n",
       "\n",
       "[17085 rows x 14 columns]"
      ]
     },
     "execution_count": 92,
     "metadata": {},
     "output_type": "execute_result"
    }
   ],
   "source": [
    "df"
   ]
  },
  {
   "cell_type": "code",
   "execution_count": 93,
   "id": "c00a687c",
   "metadata": {},
   "outputs": [
    {
     "data": {
      "text/html": [
       "<div>\n",
       "<style scoped>\n",
       "    .dataframe tbody tr th:only-of-type {\n",
       "        vertical-align: middle;\n",
       "    }\n",
       "\n",
       "    .dataframe tbody tr th {\n",
       "        vertical-align: top;\n",
       "    }\n",
       "\n",
       "    .dataframe thead th {\n",
       "        text-align: right;\n",
       "    }\n",
       "</style>\n",
       "<table border=\"1\" class=\"dataframe\">\n",
       "  <thead>\n",
       "    <tr style=\"text-align: right;\">\n",
       "      <th></th>\n",
       "      <th>dtype</th>\n",
       "      <th>specimen</th>\n",
       "      <th>nunique</th>\n",
       "      <th>null_count</th>\n",
       "      <th>null_share</th>\n",
       "    </tr>\n",
       "  </thead>\n",
       "  <tbody>\n",
       "    <tr>\n",
       "      <th>imdb_rating</th>\n",
       "      <td>float64</td>\n",
       "      <td>6.4</td>\n",
       "      <td>85</td>\n",
       "      <td>0</td>\n",
       "      <td>0.00%</td>\n",
       "    </tr>\n",
       "    <tr>\n",
       "      <th>appropriate_for</th>\n",
       "      <td>object</td>\n",
       "      <td>TV-PG</td>\n",
       "      <td>21</td>\n",
       "      <td>7276</td>\n",
       "      <td>42.59%</td>\n",
       "    </tr>\n",
       "    <tr>\n",
       "      <th>director</th>\n",
       "      <td>object</td>\n",
       "      <td>Paul Ziller</td>\n",
       "      <td>9672</td>\n",
       "      <td>1565</td>\n",
       "      <td>9.16%</td>\n",
       "    </tr>\n",
       "    <tr>\n",
       "      <th>downloads</th>\n",
       "      <td>float64</td>\n",
       "      <td>73.0</td>\n",
       "      <td>10479</td>\n",
       "      <td>0</td>\n",
       "      <td>0.00%</td>\n",
       "    </tr>\n",
       "    <tr>\n",
       "      <th>id</th>\n",
       "      <td>object</td>\n",
       "      <td>372091</td>\n",
       "      <td>17085</td>\n",
       "      <td>0</td>\n",
       "      <td>0.00%</td>\n",
       "    </tr>\n",
       "    <tr>\n",
       "      <th>industry</th>\n",
       "      <td>object</td>\n",
       "      <td>Hollywood / English</td>\n",
       "      <td>10</td>\n",
       "      <td>0</td>\n",
       "      <td>0.00%</td>\n",
       "    </tr>\n",
       "    <tr>\n",
       "      <th>language</th>\n",
       "      <td>object</td>\n",
       "      <td>English</td>\n",
       "      <td>1168</td>\n",
       "      <td>0</td>\n",
       "      <td>0.00%</td>\n",
       "    </tr>\n",
       "    <tr>\n",
       "      <th>posted_date</th>\n",
       "      <td>datetime64[ns]</td>\n",
       "      <td>2023-02-20 00:00:00</td>\n",
       "      <td>4123</td>\n",
       "      <td>0</td>\n",
       "      <td>0.00%</td>\n",
       "    </tr>\n",
       "    <tr>\n",
       "      <th>release_date</th>\n",
       "      <td>datetime64[ns]</td>\n",
       "      <td>2023-02-05 00:00:00</td>\n",
       "      <td>4886</td>\n",
       "      <td>0</td>\n",
       "      <td>0.00%</td>\n",
       "    </tr>\n",
       "    <tr>\n",
       "      <th>run_time</th>\n",
       "      <td>float64</td>\n",
       "      <td>84.0</td>\n",
       "      <td>200</td>\n",
       "      <td>0</td>\n",
       "      <td>0.00%</td>\n",
       "    </tr>\n",
       "    <tr>\n",
       "      <th>storyline</th>\n",
       "      <td>object</td>\n",
       "      <td>Caterer\\r\\n Goldy Berry reunites with detectiv...</td>\n",
       "      <td>15748</td>\n",
       "      <td>1321</td>\n",
       "      <td>7.73%</td>\n",
       "    </tr>\n",
       "    <tr>\n",
       "      <th>title</th>\n",
       "      <td>object</td>\n",
       "      <td>Grilling Season: A Curious Caterer Mystery</td>\n",
       "      <td>16572</td>\n",
       "      <td>0</td>\n",
       "      <td>0.00%</td>\n",
       "    </tr>\n",
       "    <tr>\n",
       "      <th>views</th>\n",
       "      <td>float64</td>\n",
       "      <td>1002.0</td>\n",
       "      <td>14747</td>\n",
       "      <td>0</td>\n",
       "      <td>0.00%</td>\n",
       "    </tr>\n",
       "    <tr>\n",
       "      <th>writer</th>\n",
       "      <td>object</td>\n",
       "      <td>John Christian Plummer</td>\n",
       "      <td>13603</td>\n",
       "      <td>1819</td>\n",
       "      <td>10.65%</td>\n",
       "    </tr>\n",
       "  </tbody>\n",
       "</table>\n",
       "</div>"
      ],
      "text/plain": [
       "                          dtype  \\\n",
       "imdb_rating             float64   \n",
       "appropriate_for          object   \n",
       "director                 object   \n",
       "downloads               float64   \n",
       "id                       object   \n",
       "industry                 object   \n",
       "language                 object   \n",
       "posted_date      datetime64[ns]   \n",
       "release_date     datetime64[ns]   \n",
       "run_time                float64   \n",
       "storyline                object   \n",
       "title                    object   \n",
       "views                   float64   \n",
       "writer                   object   \n",
       "\n",
       "                                                          specimen  nunique  \\\n",
       "imdb_rating                                                    6.4       85   \n",
       "appropriate_for                                              TV-PG       21   \n",
       "director                                               Paul Ziller     9672   \n",
       "downloads                                                     73.0    10479   \n",
       "id                                                          372091    17085   \n",
       "industry                                       Hollywood / English       10   \n",
       "language                                                   English     1168   \n",
       "posted_date                                    2023-02-20 00:00:00     4123   \n",
       "release_date                                   2023-02-05 00:00:00     4886   \n",
       "run_time                                                      84.0      200   \n",
       "storyline        Caterer\\r\\n Goldy Berry reunites with detectiv...    15748   \n",
       "title                   Grilling Season: A Curious Caterer Mystery    16572   \n",
       "views                                                       1002.0    14747   \n",
       "writer                                      John Christian Plummer    13603   \n",
       "\n",
       "                 null_count null_share  \n",
       "imdb_rating               0      0.00%  \n",
       "appropriate_for        7276     42.59%  \n",
       "director               1565      9.16%  \n",
       "downloads                 0      0.00%  \n",
       "id                        0      0.00%  \n",
       "industry                  0      0.00%  \n",
       "language                  0      0.00%  \n",
       "posted_date               0      0.00%  \n",
       "release_date              0      0.00%  \n",
       "run_time                  0      0.00%  \n",
       "storyline              1321      7.73%  \n",
       "title                     0      0.00%  \n",
       "views                     0      0.00%  \n",
       "writer                 1819     10.65%  "
      ]
     },
     "execution_count": 93,
     "metadata": {},
     "output_type": "execute_result"
    }
   ],
   "source": [
    "df_dtype(df)"
   ]
  },
  {
   "cell_type": "markdown",
   "id": "7b7a5816",
   "metadata": {},
   "source": [
    "对于数据集的差异在以下方面：\n",
    "    <ol>\n",
    "    <li>删除第一列无用数据</li>\n",
    "    <li>对数据类型处理，downloads、posted_date、release_date、run_time等进行类型处理 </li>\n",
    "    <li>对views中，时间序列处理，删除了以往的同类型的记录</li>\n",
    "    <li>对缺失值的填充，对views和downloads中缺失值只有一个，直接删除。industry、language、电影评分中使用最频繁的值俩填充空值；run_time是通过求平均值来填充的</li>\n",
    "    <li>views对异常值进行了分析处理</li>\n",
    "    <li>删除了posted_date、release_date中 数量异常的记录</li>\n",
    "    </ol>"
   ]
  },
  {
   "cell_type": "code",
   "execution_count": null,
   "id": "95793c6c",
   "metadata": {},
   "outputs": [],
   "source": []
  },
  {
   "cell_type": "code",
   "execution_count": null,
   "id": "f1d3db75",
   "metadata": {},
   "outputs": [],
   "source": []
  },
  {
   "cell_type": "code",
   "execution_count": null,
   "id": "04287203",
   "metadata": {},
   "outputs": [],
   "source": []
  }
 ],
 "metadata": {
  "kernelspec": {
   "display_name": "pytorch",
   "language": "python",
   "name": "mydatamining"
  },
  "language_info": {
   "codemirror_mode": {
    "name": "ipython",
    "version": 3
   },
   "file_extension": ".py",
   "mimetype": "text/x-python",
   "name": "python",
   "nbconvert_exporter": "python",
   "pygments_lexer": "ipython3",
   "version": "3.9.16"
  }
 },
 "nbformat": 4,
 "nbformat_minor": 5
}
